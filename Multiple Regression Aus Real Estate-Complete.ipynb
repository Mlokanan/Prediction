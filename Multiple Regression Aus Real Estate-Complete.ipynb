{
 "cells": [
  {
   "cell_type": "code",
   "execution_count": 1,
   "metadata": {},
   "outputs": [],
   "source": [
    "import numpy as np\n",
    "import pandas as pd\n",
    "import matplotlib.pyplot as plt\n",
    "import seaborn as sns\n",
    "import statsmodels.api as sm\n",
    "sns.set()\n",
    "from sklearn.linear_model import LinearRegression\n",
    "from sklearn.model_selection import train_test_split\n",
    "import datetime"
   ]
  },
  {
   "cell_type": "code",
   "execution_count": 2,
   "metadata": {},
   "outputs": [],
   "source": [
    "df = pd.read_csv('real_estate_aus.csv')"
   ]
  },
  {
   "cell_type": "markdown",
   "metadata": {},
   "source": [
    "**Data Exploration**"
   ]
  },
  {
   "cell_type": "code",
   "execution_count": 3,
   "metadata": {},
   "outputs": [
    {
     "data": {
      "text/html": [
       "<div>\n",
       "<style scoped>\n",
       "    .dataframe tbody tr th:only-of-type {\n",
       "        vertical-align: middle;\n",
       "    }\n",
       "\n",
       "    .dataframe tbody tr th {\n",
       "        vertical-align: top;\n",
       "    }\n",
       "\n",
       "    .dataframe thead th {\n",
       "        text-align: right;\n",
       "    }\n",
       "</style>\n",
       "<table border=\"1\" class=\"dataframe\">\n",
       "  <thead>\n",
       "    <tr style=\"text-align: right;\">\n",
       "      <th></th>\n",
       "      <th>Suburb</th>\n",
       "      <th>Address</th>\n",
       "      <th>Rooms</th>\n",
       "      <th>Type</th>\n",
       "      <th>Price</th>\n",
       "      <th>Method</th>\n",
       "      <th>SellerG</th>\n",
       "      <th>Date</th>\n",
       "      <th>Distance</th>\n",
       "      <th>Postcode</th>\n",
       "      <th>...</th>\n",
       "      <th>Bathroom</th>\n",
       "      <th>Car</th>\n",
       "      <th>Landsize</th>\n",
       "      <th>BuildingArea</th>\n",
       "      <th>YearBuilt</th>\n",
       "      <th>CouncilArea</th>\n",
       "      <th>Lattitude</th>\n",
       "      <th>Longtitude</th>\n",
       "      <th>Regionname</th>\n",
       "      <th>Propertycount</th>\n",
       "    </tr>\n",
       "  </thead>\n",
       "  <tbody>\n",
       "    <tr>\n",
       "      <th>0</th>\n",
       "      <td>Abbotsford</td>\n",
       "      <td>68 Studley St</td>\n",
       "      <td>2</td>\n",
       "      <td>h</td>\n",
       "      <td>NaN</td>\n",
       "      <td>SS</td>\n",
       "      <td>Jellis</td>\n",
       "      <td>3/9/2016</td>\n",
       "      <td>2.5</td>\n",
       "      <td>3067.0</td>\n",
       "      <td>...</td>\n",
       "      <td>1.0</td>\n",
       "      <td>1.0</td>\n",
       "      <td>126.0</td>\n",
       "      <td>NaN</td>\n",
       "      <td>NaN</td>\n",
       "      <td>Yarra City Council</td>\n",
       "      <td>-37.8014</td>\n",
       "      <td>144.9958</td>\n",
       "      <td>Northern Metropolitan</td>\n",
       "      <td>4019.0</td>\n",
       "    </tr>\n",
       "    <tr>\n",
       "      <th>1</th>\n",
       "      <td>Abbotsford</td>\n",
       "      <td>85 Turner St</td>\n",
       "      <td>2</td>\n",
       "      <td>h</td>\n",
       "      <td>1480000.0</td>\n",
       "      <td>S</td>\n",
       "      <td>Biggin</td>\n",
       "      <td>3/12/2016</td>\n",
       "      <td>2.5</td>\n",
       "      <td>3067.0</td>\n",
       "      <td>...</td>\n",
       "      <td>1.0</td>\n",
       "      <td>1.0</td>\n",
       "      <td>202.0</td>\n",
       "      <td>NaN</td>\n",
       "      <td>NaN</td>\n",
       "      <td>Yarra City Council</td>\n",
       "      <td>-37.7996</td>\n",
       "      <td>144.9984</td>\n",
       "      <td>Northern Metropolitan</td>\n",
       "      <td>4019.0</td>\n",
       "    </tr>\n",
       "    <tr>\n",
       "      <th>2</th>\n",
       "      <td>Abbotsford</td>\n",
       "      <td>25 Bloomburg St</td>\n",
       "      <td>2</td>\n",
       "      <td>h</td>\n",
       "      <td>1035000.0</td>\n",
       "      <td>S</td>\n",
       "      <td>Biggin</td>\n",
       "      <td>4/2/2016</td>\n",
       "      <td>2.5</td>\n",
       "      <td>3067.0</td>\n",
       "      <td>...</td>\n",
       "      <td>1.0</td>\n",
       "      <td>0.0</td>\n",
       "      <td>156.0</td>\n",
       "      <td>79.0</td>\n",
       "      <td>1900.0</td>\n",
       "      <td>Yarra City Council</td>\n",
       "      <td>-37.8079</td>\n",
       "      <td>144.9934</td>\n",
       "      <td>Northern Metropolitan</td>\n",
       "      <td>4019.0</td>\n",
       "    </tr>\n",
       "    <tr>\n",
       "      <th>3</th>\n",
       "      <td>Abbotsford</td>\n",
       "      <td>18/659 Victoria St</td>\n",
       "      <td>3</td>\n",
       "      <td>u</td>\n",
       "      <td>NaN</td>\n",
       "      <td>VB</td>\n",
       "      <td>Rounds</td>\n",
       "      <td>4/2/2016</td>\n",
       "      <td>2.5</td>\n",
       "      <td>3067.0</td>\n",
       "      <td>...</td>\n",
       "      <td>2.0</td>\n",
       "      <td>1.0</td>\n",
       "      <td>0.0</td>\n",
       "      <td>NaN</td>\n",
       "      <td>NaN</td>\n",
       "      <td>Yarra City Council</td>\n",
       "      <td>-37.8114</td>\n",
       "      <td>145.0116</td>\n",
       "      <td>Northern Metropolitan</td>\n",
       "      <td>4019.0</td>\n",
       "    </tr>\n",
       "    <tr>\n",
       "      <th>4</th>\n",
       "      <td>Abbotsford</td>\n",
       "      <td>5 Charles St</td>\n",
       "      <td>3</td>\n",
       "      <td>h</td>\n",
       "      <td>1465000.0</td>\n",
       "      <td>SP</td>\n",
       "      <td>Biggin</td>\n",
       "      <td>4/3/2017</td>\n",
       "      <td>2.5</td>\n",
       "      <td>3067.0</td>\n",
       "      <td>...</td>\n",
       "      <td>2.0</td>\n",
       "      <td>0.0</td>\n",
       "      <td>134.0</td>\n",
       "      <td>150.0</td>\n",
       "      <td>1900.0</td>\n",
       "      <td>Yarra City Council</td>\n",
       "      <td>-37.8093</td>\n",
       "      <td>144.9944</td>\n",
       "      <td>Northern Metropolitan</td>\n",
       "      <td>4019.0</td>\n",
       "    </tr>\n",
       "  </tbody>\n",
       "</table>\n",
       "<p>5 rows × 21 columns</p>\n",
       "</div>"
      ],
      "text/plain": [
       "       Suburb             Address  Rooms Type      Price Method SellerG  \\\n",
       "0  Abbotsford       68 Studley St      2    h        NaN     SS  Jellis   \n",
       "1  Abbotsford        85 Turner St      2    h  1480000.0      S  Biggin   \n",
       "2  Abbotsford     25 Bloomburg St      2    h  1035000.0      S  Biggin   \n",
       "3  Abbotsford  18/659 Victoria St      3    u        NaN     VB  Rounds   \n",
       "4  Abbotsford        5 Charles St      3    h  1465000.0     SP  Biggin   \n",
       "\n",
       "        Date  Distance  Postcode  ...  Bathroom  Car  Landsize  BuildingArea  \\\n",
       "0   3/9/2016       2.5    3067.0  ...       1.0  1.0     126.0           NaN   \n",
       "1  3/12/2016       2.5    3067.0  ...       1.0  1.0     202.0           NaN   \n",
       "2   4/2/2016       2.5    3067.0  ...       1.0  0.0     156.0          79.0   \n",
       "3   4/2/2016       2.5    3067.0  ...       2.0  1.0       0.0           NaN   \n",
       "4   4/3/2017       2.5    3067.0  ...       2.0  0.0     134.0         150.0   \n",
       "\n",
       "   YearBuilt         CouncilArea Lattitude  Longtitude             Regionname  \\\n",
       "0        NaN  Yarra City Council  -37.8014    144.9958  Northern Metropolitan   \n",
       "1        NaN  Yarra City Council  -37.7996    144.9984  Northern Metropolitan   \n",
       "2     1900.0  Yarra City Council  -37.8079    144.9934  Northern Metropolitan   \n",
       "3        NaN  Yarra City Council  -37.8114    145.0116  Northern Metropolitan   \n",
       "4     1900.0  Yarra City Council  -37.8093    144.9944  Northern Metropolitan   \n",
       "\n",
       "  Propertycount  \n",
       "0        4019.0  \n",
       "1        4019.0  \n",
       "2        4019.0  \n",
       "3        4019.0  \n",
       "4        4019.0  \n",
       "\n",
       "[5 rows x 21 columns]"
      ]
     },
     "execution_count": 3,
     "metadata": {},
     "output_type": "execute_result"
    }
   ],
   "source": [
    "df.head()"
   ]
  },
  {
   "cell_type": "code",
   "execution_count": 4,
   "metadata": {},
   "outputs": [
    {
     "data": {
      "text/plain": [
       "(34857, 21)"
      ]
     },
     "execution_count": 4,
     "metadata": {},
     "output_type": "execute_result"
    }
   ],
   "source": [
    "df.shape"
   ]
  },
  {
   "cell_type": "markdown",
   "metadata": {},
   "source": [
    "**Description of Variables**\n",
    "\n",
    "Suburb: Suburb\n",
    "\n",
    "Address: Address\n",
    "\n",
    "Rooms: Number of rooms\n",
    "\n",
    "Price: Price in Australian dollars\n",
    "\n",
    "Method:\n",
    "\n",
    "    S - property sold;\n",
    "    SP - property sold prior;\n",
    "    PI - property passed in;\n",
    "    PN - sold prior not disclosed;\n",
    "    SN - sold not disclosed;\n",
    "    NB - no bid;\n",
    "    VB - vendor bid;\n",
    "    W - withdrawn prior to auction;\n",
    "    SA - sold after auction;\n",
    "    SS - sold after auction price not disclosed.\n",
    "    N/A - price or highest bid not available.\n",
    "\n",
    "Type:\n",
    "\n",
    "    br - bedroom(s);\n",
    "    h - house,cottage,villa, semi,terrace;\n",
    "    u - unit, duplex;\n",
    "    t - townhouse;\n",
    "    dev site - development site;\n",
    "    o res - other residential.\n",
    "\n",
    "SellerG: Real Estate Agent\n",
    "\n",
    "Date: Date sold\n",
    "\n",
    "Distance: Distance from CBD in Kilometres\n",
    "\n",
    "Regionname: General Region (West, North West, North, North east …etc)\n",
    "\n",
    "Propertycount: Number of properties that exist in the suburb.\n",
    "\n",
    "Bedroom2 : Scraped # of Bedrooms (from different source)\n",
    "\n",
    "Bathroom: Number of Bathrooms\n",
    "\n",
    "Car: Number of carspots\n",
    "\n",
    "Landsize: Land Size in Metres\n",
    "\n",
    "BuildingArea: Building Size in Metres\n",
    "\n",
    "YearBuilt: Year the house was built\n",
    "\n",
    "CouncilArea: Governing council for the area"
   ]
  },
  {
   "cell_type": "markdown",
   "metadata": {},
   "source": [
    "**Variable Types**\n",
    "Base on the information presented, there are two types of variables in the dataset:\n",
    "1. **Categorical**\n",
    "\n",
    "Here are the **categorigal variables*:\n",
    "\n",
    "'Suburb', 'Address', 'Type', 'Method', 'SellerG', 'CouncilArea', 'Regionname' will need to be specified as categories rather than general objects.\n",
    "\n",
    "The date variable will need to be converted into a date object.\n",
    "\n",
    "2. **Numerical** \n",
    "\n",
    "The numerical variables are:\n",
    "\n",
    "'Price', 'Bedroom', 'Car', 'Land size', 'Distance', 'Latitude', and 'longtitude' \n"
   ]
  },
  {
   "cell_type": "markdown",
   "metadata": {},
   "source": [
    "**Research Question**\n",
    "\n",
    "**Which features affect home prices the most in the Melbourne Housing Market?**"
   ]
  },
  {
   "cell_type": "code",
   "execution_count": 5,
   "metadata": {},
   "outputs": [
    {
     "data": {
      "text/plain": [
       "Suburb            object\n",
       "Address           object\n",
       "Rooms              int64\n",
       "Type              object\n",
       "Price            float64\n",
       "Method            object\n",
       "SellerG           object\n",
       "Date              object\n",
       "Distance         float64\n",
       "Postcode         float64\n",
       "Bedroom2         float64\n",
       "Bathroom         float64\n",
       "Car              float64\n",
       "Landsize         float64\n",
       "BuildingArea     float64\n",
       "YearBuilt        float64\n",
       "CouncilArea       object\n",
       "Lattitude        float64\n",
       "Longtitude       float64\n",
       "Regionname        object\n",
       "Propertycount    float64\n",
       "dtype: object"
      ]
     },
     "execution_count": 5,
     "metadata": {},
     "output_type": "execute_result"
    }
   ],
   "source": [
    "##view data types\n",
    "df.dtypes"
   ]
  },
  {
   "cell_type": "code",
   "execution_count": 6,
   "metadata": {},
   "outputs": [
    {
     "name": "stdout",
     "output_type": "stream",
     "text": [
      "<class 'pandas.core.frame.DataFrame'>\n",
      "RangeIndex: 34857 entries, 0 to 34856\n",
      "Data columns (total 21 columns):\n",
      " #   Column         Non-Null Count  Dtype  \n",
      "---  ------         --------------  -----  \n",
      " 0   Suburb         34857 non-null  object \n",
      " 1   Address        34857 non-null  object \n",
      " 2   Rooms          34857 non-null  int64  \n",
      " 3   Type           34857 non-null  object \n",
      " 4   Price          27247 non-null  float64\n",
      " 5   Method         34857 non-null  object \n",
      " 6   SellerG        34857 non-null  object \n",
      " 7   Date           34857 non-null  object \n",
      " 8   Distance       34856 non-null  float64\n",
      " 9   Postcode       34856 non-null  float64\n",
      " 10  Bedroom2       26640 non-null  float64\n",
      " 11  Bathroom       26631 non-null  float64\n",
      " 12  Car            26129 non-null  float64\n",
      " 13  Landsize       23047 non-null  float64\n",
      " 14  BuildingArea   13742 non-null  float64\n",
      " 15  YearBuilt      15551 non-null  float64\n",
      " 16  CouncilArea    34854 non-null  object \n",
      " 17  Lattitude      26881 non-null  float64\n",
      " 18  Longtitude     26881 non-null  float64\n",
      " 19  Regionname     34854 non-null  object \n",
      " 20  Propertycount  34854 non-null  float64\n",
      "dtypes: float64(12), int64(1), object(8)\n",
      "memory usage: 5.6+ MB\n"
     ]
    }
   ],
   "source": [
    "df.info()"
   ]
  },
  {
   "cell_type": "code",
   "execution_count": 7,
   "metadata": {},
   "outputs": [
    {
     "data": {
      "text/plain": [
       "Index(['Suburb', 'Address', 'Rooms', 'Type', 'Price', 'Method', 'SellerG',\n",
       "       'Date', 'Distance', 'Postcode', 'Bedroom2', 'Bathroom', 'Car',\n",
       "       'Landsize', 'BuildingArea', 'YearBuilt', 'CouncilArea', 'Lattitude',\n",
       "       'Longtitude', 'Regionname', 'Propertycount'],\n",
       "      dtype='object')"
      ]
     },
     "execution_count": 7,
     "metadata": {},
     "output_type": "execute_result"
    }
   ],
   "source": [
    "df.columns"
   ]
  },
  {
   "cell_type": "markdown",
   "metadata": {},
   "source": [
    "**Numeric Variable**\n",
    "\n",
    "Below is the statistical summary of the numerical variables.\n",
    "\n",
    "Note that postcode is treates as a numeric variable when it should be classify as categorical. \n",
    "\n",
    "Let convert postcode to correct data type.\n"
   ]
  },
  {
   "cell_type": "code",
   "execution_count": 8,
   "metadata": {},
   "outputs": [
    {
     "data": {
      "text/html": [
       "<div>\n",
       "<style scoped>\n",
       "    .dataframe tbody tr th:only-of-type {\n",
       "        vertical-align: middle;\n",
       "    }\n",
       "\n",
       "    .dataframe tbody tr th {\n",
       "        vertical-align: top;\n",
       "    }\n",
       "\n",
       "    .dataframe thead th {\n",
       "        text-align: right;\n",
       "    }\n",
       "</style>\n",
       "<table border=\"1\" class=\"dataframe\">\n",
       "  <thead>\n",
       "    <tr style=\"text-align: right;\">\n",
       "      <th></th>\n",
       "      <th>count</th>\n",
       "      <th>mean</th>\n",
       "      <th>std</th>\n",
       "      <th>min</th>\n",
       "      <th>25%</th>\n",
       "      <th>50%</th>\n",
       "      <th>75%</th>\n",
       "      <th>max</th>\n",
       "    </tr>\n",
       "  </thead>\n",
       "  <tbody>\n",
       "    <tr>\n",
       "      <th>Rooms</th>\n",
       "      <td>34857.0</td>\n",
       "      <td>3.031012e+00</td>\n",
       "      <td>0.969933</td>\n",
       "      <td>1.00000</td>\n",
       "      <td>2.00000</td>\n",
       "      <td>3.0000</td>\n",
       "      <td>4.000000e+00</td>\n",
       "      <td>1.600000e+01</td>\n",
       "    </tr>\n",
       "    <tr>\n",
       "      <th>Price</th>\n",
       "      <td>27247.0</td>\n",
       "      <td>1.050173e+06</td>\n",
       "      <td>641467.130105</td>\n",
       "      <td>85000.00000</td>\n",
       "      <td>635000.00000</td>\n",
       "      <td>870000.0000</td>\n",
       "      <td>1.295000e+06</td>\n",
       "      <td>1.120000e+07</td>\n",
       "    </tr>\n",
       "    <tr>\n",
       "      <th>Distance</th>\n",
       "      <td>34856.0</td>\n",
       "      <td>1.118493e+01</td>\n",
       "      <td>6.788892</td>\n",
       "      <td>0.00000</td>\n",
       "      <td>6.40000</td>\n",
       "      <td>10.3000</td>\n",
       "      <td>1.400000e+01</td>\n",
       "      <td>4.810000e+01</td>\n",
       "    </tr>\n",
       "    <tr>\n",
       "      <th>Postcode</th>\n",
       "      <td>34856.0</td>\n",
       "      <td>3.116063e+03</td>\n",
       "      <td>109.023903</td>\n",
       "      <td>3000.00000</td>\n",
       "      <td>3051.00000</td>\n",
       "      <td>3103.0000</td>\n",
       "      <td>3.156000e+03</td>\n",
       "      <td>3.978000e+03</td>\n",
       "    </tr>\n",
       "    <tr>\n",
       "      <th>Bedroom2</th>\n",
       "      <td>26640.0</td>\n",
       "      <td>3.084647e+00</td>\n",
       "      <td>0.980690</td>\n",
       "      <td>0.00000</td>\n",
       "      <td>2.00000</td>\n",
       "      <td>3.0000</td>\n",
       "      <td>4.000000e+00</td>\n",
       "      <td>3.000000e+01</td>\n",
       "    </tr>\n",
       "    <tr>\n",
       "      <th>Bathroom</th>\n",
       "      <td>26631.0</td>\n",
       "      <td>1.624798e+00</td>\n",
       "      <td>0.724212</td>\n",
       "      <td>0.00000</td>\n",
       "      <td>1.00000</td>\n",
       "      <td>2.0000</td>\n",
       "      <td>2.000000e+00</td>\n",
       "      <td>1.200000e+01</td>\n",
       "    </tr>\n",
       "    <tr>\n",
       "      <th>Car</th>\n",
       "      <td>26129.0</td>\n",
       "      <td>1.728845e+00</td>\n",
       "      <td>1.010771</td>\n",
       "      <td>0.00000</td>\n",
       "      <td>1.00000</td>\n",
       "      <td>2.0000</td>\n",
       "      <td>2.000000e+00</td>\n",
       "      <td>2.600000e+01</td>\n",
       "    </tr>\n",
       "    <tr>\n",
       "      <th>Landsize</th>\n",
       "      <td>23047.0</td>\n",
       "      <td>5.935990e+02</td>\n",
       "      <td>3398.841946</td>\n",
       "      <td>0.00000</td>\n",
       "      <td>224.00000</td>\n",
       "      <td>521.0000</td>\n",
       "      <td>6.700000e+02</td>\n",
       "      <td>4.330140e+05</td>\n",
       "    </tr>\n",
       "    <tr>\n",
       "      <th>BuildingArea</th>\n",
       "      <td>13742.0</td>\n",
       "      <td>1.602564e+02</td>\n",
       "      <td>401.267060</td>\n",
       "      <td>0.00000</td>\n",
       "      <td>102.00000</td>\n",
       "      <td>136.0000</td>\n",
       "      <td>1.880000e+02</td>\n",
       "      <td>4.451500e+04</td>\n",
       "    </tr>\n",
       "    <tr>\n",
       "      <th>YearBuilt</th>\n",
       "      <td>15551.0</td>\n",
       "      <td>1.965290e+03</td>\n",
       "      <td>37.328178</td>\n",
       "      <td>1196.00000</td>\n",
       "      <td>1940.00000</td>\n",
       "      <td>1970.0000</td>\n",
       "      <td>2.000000e+03</td>\n",
       "      <td>2.106000e+03</td>\n",
       "    </tr>\n",
       "    <tr>\n",
       "      <th>Lattitude</th>\n",
       "      <td>26881.0</td>\n",
       "      <td>-3.781063e+01</td>\n",
       "      <td>0.090279</td>\n",
       "      <td>-38.19043</td>\n",
       "      <td>-37.86295</td>\n",
       "      <td>-37.8076</td>\n",
       "      <td>-3.775410e+01</td>\n",
       "      <td>-3.739020e+01</td>\n",
       "    </tr>\n",
       "    <tr>\n",
       "      <th>Longtitude</th>\n",
       "      <td>26881.0</td>\n",
       "      <td>1.450019e+02</td>\n",
       "      <td>0.120169</td>\n",
       "      <td>144.42379</td>\n",
       "      <td>144.93350</td>\n",
       "      <td>145.0078</td>\n",
       "      <td>1.450719e+02</td>\n",
       "      <td>1.455264e+02</td>\n",
       "    </tr>\n",
       "    <tr>\n",
       "      <th>Propertycount</th>\n",
       "      <td>34854.0</td>\n",
       "      <td>7.572888e+03</td>\n",
       "      <td>4428.090313</td>\n",
       "      <td>83.00000</td>\n",
       "      <td>4385.00000</td>\n",
       "      <td>6763.0000</td>\n",
       "      <td>1.041200e+04</td>\n",
       "      <td>2.165000e+04</td>\n",
       "    </tr>\n",
       "  </tbody>\n",
       "</table>\n",
       "</div>"
      ],
      "text/plain": [
       "                 count          mean            std          min  \\\n",
       "Rooms          34857.0  3.031012e+00       0.969933      1.00000   \n",
       "Price          27247.0  1.050173e+06  641467.130105  85000.00000   \n",
       "Distance       34856.0  1.118493e+01       6.788892      0.00000   \n",
       "Postcode       34856.0  3.116063e+03     109.023903   3000.00000   \n",
       "Bedroom2       26640.0  3.084647e+00       0.980690      0.00000   \n",
       "Bathroom       26631.0  1.624798e+00       0.724212      0.00000   \n",
       "Car            26129.0  1.728845e+00       1.010771      0.00000   \n",
       "Landsize       23047.0  5.935990e+02    3398.841946      0.00000   \n",
       "BuildingArea   13742.0  1.602564e+02     401.267060      0.00000   \n",
       "YearBuilt      15551.0  1.965290e+03      37.328178   1196.00000   \n",
       "Lattitude      26881.0 -3.781063e+01       0.090279    -38.19043   \n",
       "Longtitude     26881.0  1.450019e+02       0.120169    144.42379   \n",
       "Propertycount  34854.0  7.572888e+03    4428.090313     83.00000   \n",
       "\n",
       "                        25%          50%           75%           max  \n",
       "Rooms               2.00000       3.0000  4.000000e+00  1.600000e+01  \n",
       "Price          635000.00000  870000.0000  1.295000e+06  1.120000e+07  \n",
       "Distance            6.40000      10.3000  1.400000e+01  4.810000e+01  \n",
       "Postcode         3051.00000    3103.0000  3.156000e+03  3.978000e+03  \n",
       "Bedroom2            2.00000       3.0000  4.000000e+00  3.000000e+01  \n",
       "Bathroom            1.00000       2.0000  2.000000e+00  1.200000e+01  \n",
       "Car                 1.00000       2.0000  2.000000e+00  2.600000e+01  \n",
       "Landsize          224.00000     521.0000  6.700000e+02  4.330140e+05  \n",
       "BuildingArea      102.00000     136.0000  1.880000e+02  4.451500e+04  \n",
       "YearBuilt        1940.00000    1970.0000  2.000000e+03  2.106000e+03  \n",
       "Lattitude         -37.86295     -37.8076 -3.775410e+01 -3.739020e+01  \n",
       "Longtitude        144.93350     145.0078  1.450719e+02  1.455264e+02  \n",
       "Propertycount    4385.00000    6763.0000  1.041200e+04  2.165000e+04  "
      ]
     },
     "execution_count": 8,
     "metadata": {},
     "output_type": "execute_result"
    }
   ],
   "source": [
    "df.describe().transpose()"
   ]
  },
  {
   "cell_type": "markdown",
   "metadata": {},
   "source": [
    "**Data Cleaning**"
   ]
  },
  {
   "cell_type": "markdown",
   "metadata": {},
   "source": [
    "**Check for Duplicate Variable**\n",
    "\n",
    "It seems that Bedroom and Bedroom2 means the same concept, i.e., the number of rooms in the unit. "
   ]
  },
  {
   "cell_type": "code",
   "execution_count": 9,
   "metadata": {},
   "outputs": [
    {
     "data": {
      "text/html": [
       "<div>\n",
       "<style scoped>\n",
       "    .dataframe tbody tr th:only-of-type {\n",
       "        vertical-align: middle;\n",
       "    }\n",
       "\n",
       "    .dataframe tbody tr th {\n",
       "        vertical-align: top;\n",
       "    }\n",
       "\n",
       "    .dataframe thead th {\n",
       "        text-align: right;\n",
       "    }\n",
       "</style>\n",
       "<table border=\"1\" class=\"dataframe\">\n",
       "  <thead>\n",
       "    <tr style=\"text-align: right;\">\n",
       "      <th></th>\n",
       "      <th>Suburb</th>\n",
       "      <th>Address</th>\n",
       "      <th>Rooms</th>\n",
       "      <th>Type</th>\n",
       "      <th>Price</th>\n",
       "      <th>Method</th>\n",
       "      <th>SellerG</th>\n",
       "      <th>Date</th>\n",
       "      <th>Distance</th>\n",
       "      <th>Postcode</th>\n",
       "      <th>...</th>\n",
       "      <th>Car</th>\n",
       "      <th>Landsize</th>\n",
       "      <th>BuildingArea</th>\n",
       "      <th>YearBuilt</th>\n",
       "      <th>CouncilArea</th>\n",
       "      <th>Lattitude</th>\n",
       "      <th>Longtitude</th>\n",
       "      <th>Regionname</th>\n",
       "      <th>Propertycount</th>\n",
       "      <th>new_bedroom</th>\n",
       "    </tr>\n",
       "  </thead>\n",
       "  <tbody>\n",
       "    <tr>\n",
       "      <th>0</th>\n",
       "      <td>Abbotsford</td>\n",
       "      <td>68 Studley St</td>\n",
       "      <td>2</td>\n",
       "      <td>h</td>\n",
       "      <td>NaN</td>\n",
       "      <td>SS</td>\n",
       "      <td>Jellis</td>\n",
       "      <td>3/9/2016</td>\n",
       "      <td>2.5</td>\n",
       "      <td>3067.0</td>\n",
       "      <td>...</td>\n",
       "      <td>1.0</td>\n",
       "      <td>126.0</td>\n",
       "      <td>NaN</td>\n",
       "      <td>NaN</td>\n",
       "      <td>Yarra City Council</td>\n",
       "      <td>-37.8014</td>\n",
       "      <td>144.9958</td>\n",
       "      <td>Northern Metropolitan</td>\n",
       "      <td>4019.0</td>\n",
       "      <td>0.0</td>\n",
       "    </tr>\n",
       "    <tr>\n",
       "      <th>1</th>\n",
       "      <td>Abbotsford</td>\n",
       "      <td>85 Turner St</td>\n",
       "      <td>2</td>\n",
       "      <td>h</td>\n",
       "      <td>1480000.0</td>\n",
       "      <td>S</td>\n",
       "      <td>Biggin</td>\n",
       "      <td>3/12/2016</td>\n",
       "      <td>2.5</td>\n",
       "      <td>3067.0</td>\n",
       "      <td>...</td>\n",
       "      <td>1.0</td>\n",
       "      <td>202.0</td>\n",
       "      <td>NaN</td>\n",
       "      <td>NaN</td>\n",
       "      <td>Yarra City Council</td>\n",
       "      <td>-37.7996</td>\n",
       "      <td>144.9984</td>\n",
       "      <td>Northern Metropolitan</td>\n",
       "      <td>4019.0</td>\n",
       "      <td>0.0</td>\n",
       "    </tr>\n",
       "    <tr>\n",
       "      <th>2</th>\n",
       "      <td>Abbotsford</td>\n",
       "      <td>25 Bloomburg St</td>\n",
       "      <td>2</td>\n",
       "      <td>h</td>\n",
       "      <td>1035000.0</td>\n",
       "      <td>S</td>\n",
       "      <td>Biggin</td>\n",
       "      <td>4/2/2016</td>\n",
       "      <td>2.5</td>\n",
       "      <td>3067.0</td>\n",
       "      <td>...</td>\n",
       "      <td>0.0</td>\n",
       "      <td>156.0</td>\n",
       "      <td>79.0</td>\n",
       "      <td>1900.0</td>\n",
       "      <td>Yarra City Council</td>\n",
       "      <td>-37.8079</td>\n",
       "      <td>144.9934</td>\n",
       "      <td>Northern Metropolitan</td>\n",
       "      <td>4019.0</td>\n",
       "      <td>0.0</td>\n",
       "    </tr>\n",
       "    <tr>\n",
       "      <th>3</th>\n",
       "      <td>Abbotsford</td>\n",
       "      <td>18/659 Victoria St</td>\n",
       "      <td>3</td>\n",
       "      <td>u</td>\n",
       "      <td>NaN</td>\n",
       "      <td>VB</td>\n",
       "      <td>Rounds</td>\n",
       "      <td>4/2/2016</td>\n",
       "      <td>2.5</td>\n",
       "      <td>3067.0</td>\n",
       "      <td>...</td>\n",
       "      <td>1.0</td>\n",
       "      <td>0.0</td>\n",
       "      <td>NaN</td>\n",
       "      <td>NaN</td>\n",
       "      <td>Yarra City Council</td>\n",
       "      <td>-37.8114</td>\n",
       "      <td>145.0116</td>\n",
       "      <td>Northern Metropolitan</td>\n",
       "      <td>4019.0</td>\n",
       "      <td>0.0</td>\n",
       "    </tr>\n",
       "    <tr>\n",
       "      <th>4</th>\n",
       "      <td>Abbotsford</td>\n",
       "      <td>5 Charles St</td>\n",
       "      <td>3</td>\n",
       "      <td>h</td>\n",
       "      <td>1465000.0</td>\n",
       "      <td>SP</td>\n",
       "      <td>Biggin</td>\n",
       "      <td>4/3/2017</td>\n",
       "      <td>2.5</td>\n",
       "      <td>3067.0</td>\n",
       "      <td>...</td>\n",
       "      <td>0.0</td>\n",
       "      <td>134.0</td>\n",
       "      <td>150.0</td>\n",
       "      <td>1900.0</td>\n",
       "      <td>Yarra City Council</td>\n",
       "      <td>-37.8093</td>\n",
       "      <td>144.9944</td>\n",
       "      <td>Northern Metropolitan</td>\n",
       "      <td>4019.0</td>\n",
       "      <td>0.0</td>\n",
       "    </tr>\n",
       "  </tbody>\n",
       "</table>\n",
       "<p>5 rows × 22 columns</p>\n",
       "</div>"
      ],
      "text/plain": [
       "       Suburb             Address  Rooms Type      Price Method SellerG  \\\n",
       "0  Abbotsford       68 Studley St      2    h        NaN     SS  Jellis   \n",
       "1  Abbotsford        85 Turner St      2    h  1480000.0      S  Biggin   \n",
       "2  Abbotsford     25 Bloomburg St      2    h  1035000.0      S  Biggin   \n",
       "3  Abbotsford  18/659 Victoria St      3    u        NaN     VB  Rounds   \n",
       "4  Abbotsford        5 Charles St      3    h  1465000.0     SP  Biggin   \n",
       "\n",
       "        Date  Distance  Postcode  ...  Car  Landsize  BuildingArea  YearBuilt  \\\n",
       "0   3/9/2016       2.5    3067.0  ...  1.0     126.0           NaN        NaN   \n",
       "1  3/12/2016       2.5    3067.0  ...  1.0     202.0           NaN        NaN   \n",
       "2   4/2/2016       2.5    3067.0  ...  0.0     156.0          79.0     1900.0   \n",
       "3   4/2/2016       2.5    3067.0  ...  1.0       0.0           NaN        NaN   \n",
       "4   4/3/2017       2.5    3067.0  ...  0.0     134.0         150.0     1900.0   \n",
       "\n",
       "          CouncilArea  Lattitude Longtitude             Regionname  \\\n",
       "0  Yarra City Council   -37.8014   144.9958  Northern Metropolitan   \n",
       "1  Yarra City Council   -37.7996   144.9984  Northern Metropolitan   \n",
       "2  Yarra City Council   -37.8079   144.9934  Northern Metropolitan   \n",
       "3  Yarra City Council   -37.8114   145.0116  Northern Metropolitan   \n",
       "4  Yarra City Council   -37.8093   144.9944  Northern Metropolitan   \n",
       "\n",
       "   Propertycount new_bedroom  \n",
       "0         4019.0         0.0  \n",
       "1         4019.0         0.0  \n",
       "2         4019.0         0.0  \n",
       "3         4019.0         0.0  \n",
       "4         4019.0         0.0  \n",
       "\n",
       "[5 rows x 22 columns]"
      ]
     },
     "execution_count": 9,
     "metadata": {},
     "output_type": "execute_result"
    }
   ],
   "source": [
    "# Examine Rooms v Bedroom2\n",
    "df['new_bedroom'] = df['Rooms'] - df['Bedroom2']\n",
    "df.head()"
   ]
  },
  {
   "cell_type": "markdown",
   "metadata": {},
   "source": [
    "The difference between *Rooms* and *Bedroom2* is minimial. As such, one of them needs to be dropw to avoid multicollinerety issues.\n",
    "\n",
    "Here I will drop *Bedroom2* and the *new-bedroom* variable that I created. \n",
    "\n",
    "\n"
   ]
  },
  {
   "cell_type": "code",
   "execution_count": 10,
   "metadata": {},
   "outputs": [],
   "source": [
    "# Drop Bedroom2 and the new-bedroom columns\n",
    "df = df.drop(['Bedroom2','new_bedroom'],1)"
   ]
  },
  {
   "cell_type": "markdown",
   "metadata": {},
   "source": [
    "**Featur Engineering**\n",
    "\n",
    "*YearBulilt* represents the year the house was built. The years go back all the way to 1900. \n",
    "This variable can be converted to represent units that are greater than 50 years old and units that are over 50 years old."
   ]
  },
  {
   "cell_type": "code",
   "execution_count": 11,
   "metadata": {},
   "outputs": [],
   "source": [
    "# Add Age variable\n",
    "df['Age'] = 2017 - df['YearBuilt']\n",
    "\n",
    "# Identify historic homes\n",
    "df['Historic'] = np.where(df['Age']>=50,'Historic','Contemporary')\n",
    "\n",
    "# Convert to Category\n",
    "df['Historic'] = df['Historic'].astype('category')"
   ]
  },
  {
   "cell_type": "markdown",
   "metadata": {},
   "source": [
    "**Check for Missing Data**"
   ]
  },
  {
   "cell_type": "code",
   "execution_count": 12,
   "metadata": {},
   "outputs": [
    {
     "name": "stdout",
     "output_type": "stream",
     "text": [
      "<class 'pandas.core.frame.DataFrame'>\n",
      "RangeIndex: 34857 entries, 0 to 34856\n",
      "Data columns (total 22 columns):\n",
      " #   Column         Non-Null Count  Dtype   \n",
      "---  ------         --------------  -----   \n",
      " 0   Suburb         34857 non-null  object  \n",
      " 1   Address        34857 non-null  object  \n",
      " 2   Rooms          34857 non-null  int64   \n",
      " 3   Type           34857 non-null  object  \n",
      " 4   Price          27247 non-null  float64 \n",
      " 5   Method         34857 non-null  object  \n",
      " 6   SellerG        34857 non-null  object  \n",
      " 7   Date           34857 non-null  object  \n",
      " 8   Distance       34856 non-null  float64 \n",
      " 9   Postcode       34856 non-null  float64 \n",
      " 10  Bathroom       26631 non-null  float64 \n",
      " 11  Car            26129 non-null  float64 \n",
      " 12  Landsize       23047 non-null  float64 \n",
      " 13  BuildingArea   13742 non-null  float64 \n",
      " 14  YearBuilt      15551 non-null  float64 \n",
      " 15  CouncilArea    34854 non-null  object  \n",
      " 16  Lattitude      26881 non-null  float64 \n",
      " 17  Longtitude     26881 non-null  float64 \n",
      " 18  Regionname     34854 non-null  object  \n",
      " 19  Propertycount  34854 non-null  float64 \n",
      " 20  Age            15551 non-null  float64 \n",
      " 21  Historic       34857 non-null  category\n",
      "dtypes: category(1), float64(12), int64(1), object(8)\n",
      "memory usage: 5.6+ MB\n"
     ]
    }
   ],
   "source": [
    "# Number of entries\n",
    "df.info()"
   ]
  },
  {
   "cell_type": "markdown",
   "metadata": {},
   "source": [
    "**Visualize Missing Values**"
   ]
  },
  {
   "cell_type": "code",
   "execution_count": 13,
   "metadata": {},
   "outputs": [
    {
     "data": {
      "text/plain": [
       "<matplotlib.axes._subplots.AxesSubplot at 0x48082a75e0>"
      ]
     },
     "execution_count": 13,
     "metadata": {},
     "output_type": "execute_result"
    },
    {
     "data": {
      "image/png": "[encoded data removed]",
      "text/plain": [
       "<Figure size 1080x504 with 2 Axes>"
      ]
     },
     "metadata": {},
     "output_type": "display_data"
    }
   ],
   "source": [
    "fig, ax = plt.subplots(figsize=(15,7))\n",
    "sns.set(font_scale=1.2)\n",
    "sns.heatmap(df.isnull(), yticklabels=False,cmap='viridis')"
   ]
  },
  {
   "cell_type": "code",
   "execution_count": 14,
   "metadata": {},
   "outputs": [
    {
     "data": {
      "text/plain": [
       "Suburb               0\n",
       "Address              0\n",
       "Rooms                0\n",
       "Type                 0\n",
       "Price             7610\n",
       "Method               0\n",
       "SellerG              0\n",
       "Date                 0\n",
       "Distance             1\n",
       "Postcode             1\n",
       "Bathroom          8226\n",
       "Car               8728\n",
       "Landsize         11810\n",
       "BuildingArea     21115\n",
       "YearBuilt        19306\n",
       "CouncilArea          3\n",
       "Lattitude         7976\n",
       "Longtitude        7976\n",
       "Regionname           3\n",
       "Propertycount        3\n",
       "Age              19306\n",
       "Historic             0\n",
       "dtype: int64"
      ]
     },
     "execution_count": 14,
     "metadata": {},
     "output_type": "execute_result"
    }
   ],
   "source": [
    "# Count of missing values\n",
    "df.isnull().sum()"
   ]
  },
  {
   "cell_type": "markdown",
   "metadata": {},
   "source": [
    "The raw data shows a lot of missing values in Price, Bathroom, Car, Landsize, BuildingArea, CouncilArea, Lattitude,  Longtitude, and age_house.\n",
    "\n",
    "Now let's convert these into percentage."
   ]
  },
  {
   "cell_type": "code",
   "execution_count": 15,
   "metadata": {},
   "outputs": [
    {
     "data": {
      "text/plain": [
       "Suburb            0.000000\n",
       "Address           0.000000\n",
       "Rooms             0.000000\n",
       "Type              0.000000\n",
       "Price            21.832057\n",
       "Method            0.000000\n",
       "SellerG           0.000000\n",
       "Date              0.000000\n",
       "Distance          0.002869\n",
       "Postcode          0.002869\n",
       "Bathroom         23.599277\n",
       "Car              25.039447\n",
       "Landsize         33.881286\n",
       "BuildingArea     60.576068\n",
       "YearBuilt        55.386293\n",
       "CouncilArea       0.008607\n",
       "Lattitude        22.882061\n",
       "Longtitude       22.882061\n",
       "Regionname        0.008607\n",
       "Propertycount     0.008607\n",
       "Age              55.386293\n",
       "Historic          0.000000\n",
       "dtype: float64"
      ]
     },
     "execution_count": 15,
     "metadata": {},
     "output_type": "execute_result"
    }
   ],
   "source": [
    "# Percentage of missing values\n",
    "df.isnull().sum()/len(df)*100"
   ]
  },
  {
   "cell_type": "markdown",
   "metadata": {},
   "source": [
    "There is a high percentage of missing date for the following column: Price, Bathroom, Car, Landsize, Building Area, YearBuilt, Council Area, Lattitude, Longitude, and age_house. \n",
    "\n",
    "To allow for a better model, the missing values will be removed from the dataset.\n",
    "\n",
    "We will remove the 22% missing data from price and impute the missing data for the other variables in the model."
   ]
  },
  {
   "cell_type": "markdown",
   "metadata": {},
   "source": [
    "**Remove Missing Values**\n",
    "\n",
    "Here we are removing the missing values from only the dependent variable price."
   ]
  },
  {
   "cell_type": "code",
   "execution_count": 16,
   "metadata": {},
   "outputs": [
    {
     "data": {
      "text/html": [
       "<div>\n",
       "<style scoped>\n",
       "    .dataframe tbody tr th:only-of-type {\n",
       "        vertical-align: middle;\n",
       "    }\n",
       "\n",
       "    .dataframe tbody tr th {\n",
       "        vertical-align: top;\n",
       "    }\n",
       "\n",
       "    .dataframe thead th {\n",
       "        text-align: right;\n",
       "    }\n",
       "</style>\n",
       "<table border=\"1\" class=\"dataframe\">\n",
       "  <thead>\n",
       "    <tr style=\"text-align: right;\">\n",
       "      <th></th>\n",
       "      <th>Suburb</th>\n",
       "      <th>Address</th>\n",
       "      <th>Rooms</th>\n",
       "      <th>Type</th>\n",
       "      <th>Price</th>\n",
       "      <th>Method</th>\n",
       "      <th>SellerG</th>\n",
       "      <th>Date</th>\n",
       "      <th>Distance</th>\n",
       "      <th>Postcode</th>\n",
       "      <th>...</th>\n",
       "      <th>Landsize</th>\n",
       "      <th>BuildingArea</th>\n",
       "      <th>YearBuilt</th>\n",
       "      <th>CouncilArea</th>\n",
       "      <th>Lattitude</th>\n",
       "      <th>Longtitude</th>\n",
       "      <th>Regionname</th>\n",
       "      <th>Propertycount</th>\n",
       "      <th>Age</th>\n",
       "      <th>Historic</th>\n",
       "    </tr>\n",
       "  </thead>\n",
       "  <tbody>\n",
       "    <tr>\n",
       "      <th>1</th>\n",
       "      <td>Abbotsford</td>\n",
       "      <td>85 Turner St</td>\n",
       "      <td>2</td>\n",
       "      <td>h</td>\n",
       "      <td>1480000.0</td>\n",
       "      <td>S</td>\n",
       "      <td>Biggin</td>\n",
       "      <td>3/12/2016</td>\n",
       "      <td>2.5</td>\n",
       "      <td>3067.0</td>\n",
       "      <td>...</td>\n",
       "      <td>202.0</td>\n",
       "      <td>NaN</td>\n",
       "      <td>NaN</td>\n",
       "      <td>Yarra City Council</td>\n",
       "      <td>-37.79960</td>\n",
       "      <td>144.99840</td>\n",
       "      <td>Northern Metropolitan</td>\n",
       "      <td>4019.0</td>\n",
       "      <td>NaN</td>\n",
       "      <td>Contemporary</td>\n",
       "    </tr>\n",
       "    <tr>\n",
       "      <th>2</th>\n",
       "      <td>Abbotsford</td>\n",
       "      <td>25 Bloomburg St</td>\n",
       "      <td>2</td>\n",
       "      <td>h</td>\n",
       "      <td>1035000.0</td>\n",
       "      <td>S</td>\n",
       "      <td>Biggin</td>\n",
       "      <td>4/2/2016</td>\n",
       "      <td>2.5</td>\n",
       "      <td>3067.0</td>\n",
       "      <td>...</td>\n",
       "      <td>156.0</td>\n",
       "      <td>79.0</td>\n",
       "      <td>1900.0</td>\n",
       "      <td>Yarra City Council</td>\n",
       "      <td>-37.80790</td>\n",
       "      <td>144.99340</td>\n",
       "      <td>Northern Metropolitan</td>\n",
       "      <td>4019.0</td>\n",
       "      <td>117.0</td>\n",
       "      <td>Historic</td>\n",
       "    </tr>\n",
       "    <tr>\n",
       "      <th>4</th>\n",
       "      <td>Abbotsford</td>\n",
       "      <td>5 Charles St</td>\n",
       "      <td>3</td>\n",
       "      <td>h</td>\n",
       "      <td>1465000.0</td>\n",
       "      <td>SP</td>\n",
       "      <td>Biggin</td>\n",
       "      <td>4/3/2017</td>\n",
       "      <td>2.5</td>\n",
       "      <td>3067.0</td>\n",
       "      <td>...</td>\n",
       "      <td>134.0</td>\n",
       "      <td>150.0</td>\n",
       "      <td>1900.0</td>\n",
       "      <td>Yarra City Council</td>\n",
       "      <td>-37.80930</td>\n",
       "      <td>144.99440</td>\n",
       "      <td>Northern Metropolitan</td>\n",
       "      <td>4019.0</td>\n",
       "      <td>117.0</td>\n",
       "      <td>Historic</td>\n",
       "    </tr>\n",
       "    <tr>\n",
       "      <th>5</th>\n",
       "      <td>Abbotsford</td>\n",
       "      <td>40 Federation La</td>\n",
       "      <td>3</td>\n",
       "      <td>h</td>\n",
       "      <td>850000.0</td>\n",
       "      <td>PI</td>\n",
       "      <td>Biggin</td>\n",
       "      <td>4/3/2017</td>\n",
       "      <td>2.5</td>\n",
       "      <td>3067.0</td>\n",
       "      <td>...</td>\n",
       "      <td>94.0</td>\n",
       "      <td>NaN</td>\n",
       "      <td>NaN</td>\n",
       "      <td>Yarra City Council</td>\n",
       "      <td>-37.79690</td>\n",
       "      <td>144.99690</td>\n",
       "      <td>Northern Metropolitan</td>\n",
       "      <td>4019.0</td>\n",
       "      <td>NaN</td>\n",
       "      <td>Contemporary</td>\n",
       "    </tr>\n",
       "    <tr>\n",
       "      <th>6</th>\n",
       "      <td>Abbotsford</td>\n",
       "      <td>55a Park St</td>\n",
       "      <td>4</td>\n",
       "      <td>h</td>\n",
       "      <td>1600000.0</td>\n",
       "      <td>VB</td>\n",
       "      <td>Nelson</td>\n",
       "      <td>4/6/2016</td>\n",
       "      <td>2.5</td>\n",
       "      <td>3067.0</td>\n",
       "      <td>...</td>\n",
       "      <td>120.0</td>\n",
       "      <td>142.0</td>\n",
       "      <td>2014.0</td>\n",
       "      <td>Yarra City Council</td>\n",
       "      <td>-37.80720</td>\n",
       "      <td>144.99410</td>\n",
       "      <td>Northern Metropolitan</td>\n",
       "      <td>4019.0</td>\n",
       "      <td>3.0</td>\n",
       "      <td>Contemporary</td>\n",
       "    </tr>\n",
       "    <tr>\n",
       "      <th>...</th>\n",
       "      <td>...</td>\n",
       "      <td>...</td>\n",
       "      <td>...</td>\n",
       "      <td>...</td>\n",
       "      <td>...</td>\n",
       "      <td>...</td>\n",
       "      <td>...</td>\n",
       "      <td>...</td>\n",
       "      <td>...</td>\n",
       "      <td>...</td>\n",
       "      <td>...</td>\n",
       "      <td>...</td>\n",
       "      <td>...</td>\n",
       "      <td>...</td>\n",
       "      <td>...</td>\n",
       "      <td>...</td>\n",
       "      <td>...</td>\n",
       "      <td>...</td>\n",
       "      <td>...</td>\n",
       "      <td>...</td>\n",
       "      <td>...</td>\n",
       "    </tr>\n",
       "    <tr>\n",
       "      <th>34852</th>\n",
       "      <td>Yarraville</td>\n",
       "      <td>13 Burns St</td>\n",
       "      <td>4</td>\n",
       "      <td>h</td>\n",
       "      <td>1480000.0</td>\n",
       "      <td>PI</td>\n",
       "      <td>Jas</td>\n",
       "      <td>24/02/2018</td>\n",
       "      <td>6.3</td>\n",
       "      <td>3013.0</td>\n",
       "      <td>...</td>\n",
       "      <td>593.0</td>\n",
       "      <td>NaN</td>\n",
       "      <td>NaN</td>\n",
       "      <td>Maribyrnong City Council</td>\n",
       "      <td>-37.81053</td>\n",
       "      <td>144.88467</td>\n",
       "      <td>Western Metropolitan</td>\n",
       "      <td>6543.0</td>\n",
       "      <td>NaN</td>\n",
       "      <td>Contemporary</td>\n",
       "    </tr>\n",
       "    <tr>\n",
       "      <th>34853</th>\n",
       "      <td>Yarraville</td>\n",
       "      <td>29A Murray St</td>\n",
       "      <td>2</td>\n",
       "      <td>h</td>\n",
       "      <td>888000.0</td>\n",
       "      <td>SP</td>\n",
       "      <td>Sweeney</td>\n",
       "      <td>24/02/2018</td>\n",
       "      <td>6.3</td>\n",
       "      <td>3013.0</td>\n",
       "      <td>...</td>\n",
       "      <td>98.0</td>\n",
       "      <td>104.0</td>\n",
       "      <td>2018.0</td>\n",
       "      <td>Maribyrnong City Council</td>\n",
       "      <td>-37.81551</td>\n",
       "      <td>144.88826</td>\n",
       "      <td>Western Metropolitan</td>\n",
       "      <td>6543.0</td>\n",
       "      <td>-1.0</td>\n",
       "      <td>Contemporary</td>\n",
       "    </tr>\n",
       "    <tr>\n",
       "      <th>34854</th>\n",
       "      <td>Yarraville</td>\n",
       "      <td>147A Severn St</td>\n",
       "      <td>2</td>\n",
       "      <td>t</td>\n",
       "      <td>705000.0</td>\n",
       "      <td>S</td>\n",
       "      <td>Jas</td>\n",
       "      <td>24/02/2018</td>\n",
       "      <td>6.3</td>\n",
       "      <td>3013.0</td>\n",
       "      <td>...</td>\n",
       "      <td>220.0</td>\n",
       "      <td>120.0</td>\n",
       "      <td>2000.0</td>\n",
       "      <td>Maribyrnong City Council</td>\n",
       "      <td>-37.82286</td>\n",
       "      <td>144.87856</td>\n",
       "      <td>Western Metropolitan</td>\n",
       "      <td>6543.0</td>\n",
       "      <td>17.0</td>\n",
       "      <td>Contemporary</td>\n",
       "    </tr>\n",
       "    <tr>\n",
       "      <th>34855</th>\n",
       "      <td>Yarraville</td>\n",
       "      <td>12/37 Stephen St</td>\n",
       "      <td>3</td>\n",
       "      <td>h</td>\n",
       "      <td>1140000.0</td>\n",
       "      <td>SP</td>\n",
       "      <td>hockingstuart</td>\n",
       "      <td>24/02/2018</td>\n",
       "      <td>6.3</td>\n",
       "      <td>3013.0</td>\n",
       "      <td>...</td>\n",
       "      <td>NaN</td>\n",
       "      <td>NaN</td>\n",
       "      <td>NaN</td>\n",
       "      <td>Maribyrnong City Council</td>\n",
       "      <td>NaN</td>\n",
       "      <td>NaN</td>\n",
       "      <td>Western Metropolitan</td>\n",
       "      <td>6543.0</td>\n",
       "      <td>NaN</td>\n",
       "      <td>Contemporary</td>\n",
       "    </tr>\n",
       "    <tr>\n",
       "      <th>34856</th>\n",
       "      <td>Yarraville</td>\n",
       "      <td>3 Tarrengower St</td>\n",
       "      <td>2</td>\n",
       "      <td>h</td>\n",
       "      <td>1020000.0</td>\n",
       "      <td>PI</td>\n",
       "      <td>RW</td>\n",
       "      <td>24/02/2018</td>\n",
       "      <td>6.3</td>\n",
       "      <td>3013.0</td>\n",
       "      <td>...</td>\n",
       "      <td>250.0</td>\n",
       "      <td>103.0</td>\n",
       "      <td>1930.0</td>\n",
       "      <td>Maribyrnong City Council</td>\n",
       "      <td>-37.81810</td>\n",
       "      <td>144.89351</td>\n",
       "      <td>Western Metropolitan</td>\n",
       "      <td>6543.0</td>\n",
       "      <td>87.0</td>\n",
       "      <td>Historic</td>\n",
       "    </tr>\n",
       "  </tbody>\n",
       "</table>\n",
       "<p>27247 rows × 22 columns</p>\n",
       "</div>"
      ],
      "text/plain": [
       "           Suburb           Address  Rooms Type      Price Method  \\\n",
       "1      Abbotsford      85 Turner St      2    h  1480000.0      S   \n",
       "2      Abbotsford   25 Bloomburg St      2    h  1035000.0      S   \n",
       "4      Abbotsford      5 Charles St      3    h  1465000.0     SP   \n",
       "5      Abbotsford  40 Federation La      3    h   850000.0     PI   \n",
       "6      Abbotsford       55a Park St      4    h  1600000.0     VB   \n",
       "...           ...               ...    ...  ...        ...    ...   \n",
       "34852  Yarraville       13 Burns St      4    h  1480000.0     PI   \n",
       "34853  Yarraville     29A Murray St      2    h   888000.0     SP   \n",
       "34854  Yarraville    147A Severn St      2    t   705000.0      S   \n",
       "34855  Yarraville  12/37 Stephen St      3    h  1140000.0     SP   \n",
       "34856  Yarraville  3 Tarrengower St      2    h  1020000.0     PI   \n",
       "\n",
       "             SellerG        Date  Distance  Postcode  ...  Landsize  \\\n",
       "1             Biggin   3/12/2016       2.5    3067.0  ...     202.0   \n",
       "2             Biggin    4/2/2016       2.5    3067.0  ...     156.0   \n",
       "4             Biggin    4/3/2017       2.5    3067.0  ...     134.0   \n",
       "5             Biggin    4/3/2017       2.5    3067.0  ...      94.0   \n",
       "6             Nelson    4/6/2016       2.5    3067.0  ...     120.0   \n",
       "...              ...         ...       ...       ...  ...       ...   \n",
       "34852            Jas  24/02/2018       6.3    3013.0  ...     593.0   \n",
       "34853        Sweeney  24/02/2018       6.3    3013.0  ...      98.0   \n",
       "34854            Jas  24/02/2018       6.3    3013.0  ...     220.0   \n",
       "34855  hockingstuart  24/02/2018       6.3    3013.0  ...       NaN   \n",
       "34856             RW  24/02/2018       6.3    3013.0  ...     250.0   \n",
       "\n",
       "       BuildingArea  YearBuilt               CouncilArea  Lattitude  \\\n",
       "1               NaN        NaN        Yarra City Council  -37.79960   \n",
       "2              79.0     1900.0        Yarra City Council  -37.80790   \n",
       "4             150.0     1900.0        Yarra City Council  -37.80930   \n",
       "5               NaN        NaN        Yarra City Council  -37.79690   \n",
       "6             142.0     2014.0        Yarra City Council  -37.80720   \n",
       "...             ...        ...                       ...        ...   \n",
       "34852           NaN        NaN  Maribyrnong City Council  -37.81053   \n",
       "34853         104.0     2018.0  Maribyrnong City Council  -37.81551   \n",
       "34854         120.0     2000.0  Maribyrnong City Council  -37.82286   \n",
       "34855           NaN        NaN  Maribyrnong City Council        NaN   \n",
       "34856         103.0     1930.0  Maribyrnong City Council  -37.81810   \n",
       "\n",
       "      Longtitude             Regionname  Propertycount    Age      Historic  \n",
       "1      144.99840  Northern Metropolitan         4019.0    NaN  Contemporary  \n",
       "2      144.99340  Northern Metropolitan         4019.0  117.0      Historic  \n",
       "4      144.99440  Northern Metropolitan         4019.0  117.0      Historic  \n",
       "5      144.99690  Northern Metropolitan         4019.0    NaN  Contemporary  \n",
       "6      144.99410  Northern Metropolitan         4019.0    3.0  Contemporary  \n",
       "...          ...                    ...            ...    ...           ...  \n",
       "34852  144.88467   Western Metropolitan         6543.0    NaN  Contemporary  \n",
       "34853  144.88826   Western Metropolitan         6543.0   -1.0  Contemporary  \n",
       "34854  144.87856   Western Metropolitan         6543.0   17.0  Contemporary  \n",
       "34855        NaN   Western Metropolitan         6543.0    NaN  Contemporary  \n",
       "34856  144.89351   Western Metropolitan         6543.0   87.0      Historic  \n",
       "\n",
       "[27247 rows x 22 columns]"
      ]
     },
     "execution_count": 16,
     "metadata": {},
     "output_type": "execute_result"
    }
   ],
   "source": [
    "df.dropna(how='all', subset=['Price'])"
   ]
  },
  {
   "cell_type": "markdown",
   "metadata": {},
   "source": [
    "**Check for Outliers**\n",
    "\n",
    "\n"
   ]
  },
  {
   "cell_type": "code",
   "execution_count": 17,
   "metadata": {},
   "outputs": [
    {
     "data": {
      "text/html": [
       "<div>\n",
       "<style scoped>\n",
       "    .dataframe tbody tr th:only-of-type {\n",
       "        vertical-align: middle;\n",
       "    }\n",
       "\n",
       "    .dataframe tbody tr th {\n",
       "        vertical-align: top;\n",
       "    }\n",
       "\n",
       "    .dataframe thead th {\n",
       "        text-align: right;\n",
       "    }\n",
       "</style>\n",
       "<table border=\"1\" class=\"dataframe\">\n",
       "  <thead>\n",
       "    <tr style=\"text-align: right;\">\n",
       "      <th></th>\n",
       "      <th>count</th>\n",
       "      <th>mean</th>\n",
       "      <th>std</th>\n",
       "      <th>min</th>\n",
       "      <th>25%</th>\n",
       "      <th>50%</th>\n",
       "      <th>75%</th>\n",
       "      <th>max</th>\n",
       "    </tr>\n",
       "  </thead>\n",
       "  <tbody>\n",
       "    <tr>\n",
       "      <th>Rooms</th>\n",
       "      <td>34857.0</td>\n",
       "      <td>3.031012e+00</td>\n",
       "      <td>0.969933</td>\n",
       "      <td>1.00000</td>\n",
       "      <td>2.00000</td>\n",
       "      <td>3.0000</td>\n",
       "      <td>4.000000e+00</td>\n",
       "      <td>1.600000e+01</td>\n",
       "    </tr>\n",
       "    <tr>\n",
       "      <th>Price</th>\n",
       "      <td>27247.0</td>\n",
       "      <td>1.050173e+06</td>\n",
       "      <td>641467.130105</td>\n",
       "      <td>85000.00000</td>\n",
       "      <td>635000.00000</td>\n",
       "      <td>870000.0000</td>\n",
       "      <td>1.295000e+06</td>\n",
       "      <td>1.120000e+07</td>\n",
       "    </tr>\n",
       "    <tr>\n",
       "      <th>Distance</th>\n",
       "      <td>34856.0</td>\n",
       "      <td>1.118493e+01</td>\n",
       "      <td>6.788892</td>\n",
       "      <td>0.00000</td>\n",
       "      <td>6.40000</td>\n",
       "      <td>10.3000</td>\n",
       "      <td>1.400000e+01</td>\n",
       "      <td>4.810000e+01</td>\n",
       "    </tr>\n",
       "    <tr>\n",
       "      <th>Postcode</th>\n",
       "      <td>34856.0</td>\n",
       "      <td>3.116063e+03</td>\n",
       "      <td>109.023903</td>\n",
       "      <td>3000.00000</td>\n",
       "      <td>3051.00000</td>\n",
       "      <td>3103.0000</td>\n",
       "      <td>3.156000e+03</td>\n",
       "      <td>3.978000e+03</td>\n",
       "    </tr>\n",
       "    <tr>\n",
       "      <th>Bathroom</th>\n",
       "      <td>26631.0</td>\n",
       "      <td>1.624798e+00</td>\n",
       "      <td>0.724212</td>\n",
       "      <td>0.00000</td>\n",
       "      <td>1.00000</td>\n",
       "      <td>2.0000</td>\n",
       "      <td>2.000000e+00</td>\n",
       "      <td>1.200000e+01</td>\n",
       "    </tr>\n",
       "    <tr>\n",
       "      <th>Car</th>\n",
       "      <td>26129.0</td>\n",
       "      <td>1.728845e+00</td>\n",
       "      <td>1.010771</td>\n",
       "      <td>0.00000</td>\n",
       "      <td>1.00000</td>\n",
       "      <td>2.0000</td>\n",
       "      <td>2.000000e+00</td>\n",
       "      <td>2.600000e+01</td>\n",
       "    </tr>\n",
       "    <tr>\n",
       "      <th>Landsize</th>\n",
       "      <td>23047.0</td>\n",
       "      <td>5.935990e+02</td>\n",
       "      <td>3398.841946</td>\n",
       "      <td>0.00000</td>\n",
       "      <td>224.00000</td>\n",
       "      <td>521.0000</td>\n",
       "      <td>6.700000e+02</td>\n",
       "      <td>4.330140e+05</td>\n",
       "    </tr>\n",
       "    <tr>\n",
       "      <th>BuildingArea</th>\n",
       "      <td>13742.0</td>\n",
       "      <td>1.602564e+02</td>\n",
       "      <td>401.267060</td>\n",
       "      <td>0.00000</td>\n",
       "      <td>102.00000</td>\n",
       "      <td>136.0000</td>\n",
       "      <td>1.880000e+02</td>\n",
       "      <td>4.451500e+04</td>\n",
       "    </tr>\n",
       "    <tr>\n",
       "      <th>YearBuilt</th>\n",
       "      <td>15551.0</td>\n",
       "      <td>1.965290e+03</td>\n",
       "      <td>37.328178</td>\n",
       "      <td>1196.00000</td>\n",
       "      <td>1940.00000</td>\n",
       "      <td>1970.0000</td>\n",
       "      <td>2.000000e+03</td>\n",
       "      <td>2.106000e+03</td>\n",
       "    </tr>\n",
       "    <tr>\n",
       "      <th>Lattitude</th>\n",
       "      <td>26881.0</td>\n",
       "      <td>-3.781063e+01</td>\n",
       "      <td>0.090279</td>\n",
       "      <td>-38.19043</td>\n",
       "      <td>-37.86295</td>\n",
       "      <td>-37.8076</td>\n",
       "      <td>-3.775410e+01</td>\n",
       "      <td>-3.739020e+01</td>\n",
       "    </tr>\n",
       "    <tr>\n",
       "      <th>Longtitude</th>\n",
       "      <td>26881.0</td>\n",
       "      <td>1.450019e+02</td>\n",
       "      <td>0.120169</td>\n",
       "      <td>144.42379</td>\n",
       "      <td>144.93350</td>\n",
       "      <td>145.0078</td>\n",
       "      <td>1.450719e+02</td>\n",
       "      <td>1.455264e+02</td>\n",
       "    </tr>\n",
       "    <tr>\n",
       "      <th>Propertycount</th>\n",
       "      <td>34854.0</td>\n",
       "      <td>7.572888e+03</td>\n",
       "      <td>4428.090313</td>\n",
       "      <td>83.00000</td>\n",
       "      <td>4385.00000</td>\n",
       "      <td>6763.0000</td>\n",
       "      <td>1.041200e+04</td>\n",
       "      <td>2.165000e+04</td>\n",
       "    </tr>\n",
       "    <tr>\n",
       "      <th>Age</th>\n",
       "      <td>15551.0</td>\n",
       "      <td>5.171012e+01</td>\n",
       "      <td>37.328178</td>\n",
       "      <td>-89.00000</td>\n",
       "      <td>17.00000</td>\n",
       "      <td>47.0000</td>\n",
       "      <td>7.700000e+01</td>\n",
       "      <td>8.210000e+02</td>\n",
       "    </tr>\n",
       "  </tbody>\n",
       "</table>\n",
       "</div>"
      ],
      "text/plain": [
       "                 count          mean            std          min  \\\n",
       "Rooms          34857.0  3.031012e+00       0.969933      1.00000   \n",
       "Price          27247.0  1.050173e+06  641467.130105  85000.00000   \n",
       "Distance       34856.0  1.118493e+01       6.788892      0.00000   \n",
       "Postcode       34856.0  3.116063e+03     109.023903   3000.00000   \n",
       "Bathroom       26631.0  1.624798e+00       0.724212      0.00000   \n",
       "Car            26129.0  1.728845e+00       1.010771      0.00000   \n",
       "Landsize       23047.0  5.935990e+02    3398.841946      0.00000   \n",
       "BuildingArea   13742.0  1.602564e+02     401.267060      0.00000   \n",
       "YearBuilt      15551.0  1.965290e+03      37.328178   1196.00000   \n",
       "Lattitude      26881.0 -3.781063e+01       0.090279    -38.19043   \n",
       "Longtitude     26881.0  1.450019e+02       0.120169    144.42379   \n",
       "Propertycount  34854.0  7.572888e+03    4428.090313     83.00000   \n",
       "Age            15551.0  5.171012e+01      37.328178    -89.00000   \n",
       "\n",
       "                        25%          50%           75%           max  \n",
       "Rooms               2.00000       3.0000  4.000000e+00  1.600000e+01  \n",
       "Price          635000.00000  870000.0000  1.295000e+06  1.120000e+07  \n",
       "Distance            6.40000      10.3000  1.400000e+01  4.810000e+01  \n",
       "Postcode         3051.00000    3103.0000  3.156000e+03  3.978000e+03  \n",
       "Bathroom            1.00000       2.0000  2.000000e+00  1.200000e+01  \n",
       "Car                 1.00000       2.0000  2.000000e+00  2.600000e+01  \n",
       "Landsize          224.00000     521.0000  6.700000e+02  4.330140e+05  \n",
       "BuildingArea      102.00000     136.0000  1.880000e+02  4.451500e+04  \n",
       "YearBuilt        1940.00000    1970.0000  2.000000e+03  2.106000e+03  \n",
       "Lattitude         -37.86295     -37.8076 -3.775410e+01 -3.739020e+01  \n",
       "Longtitude        144.93350     145.0078  1.450719e+02  1.455264e+02  \n",
       "Propertycount    4385.00000    6763.0000  1.041200e+04  2.165000e+04  \n",
       "Age                17.00000      47.0000  7.700000e+01  8.210000e+02  "
      ]
     },
     "execution_count": 17,
     "metadata": {},
     "output_type": "execute_result"
    }
   ],
   "source": [
    "df.describe().transpose()"
   ]
  },
  {
   "cell_type": "markdown",
   "metadata": {},
   "source": [
    "A closer look at the summary statistics indicates 0 values for Landsize, and BuildingArea. This is rather odd as it is difficult to imagine a land size or building area with 0 value.\n",
    "\n",
    "age-house also has a max alue of 8.2.\n",
    "\n",
    "These variables needs to be investigted further to determine if they should be in the model."
   ]
  },
  {
   "cell_type": "code",
   "execution_count": 18,
   "metadata": {},
   "outputs": [
    {
     "data": {
      "text/html": [
       "<div>\n",
       "<style scoped>\n",
       "    .dataframe tbody tr th:only-of-type {\n",
       "        vertical-align: middle;\n",
       "    }\n",
       "\n",
       "    .dataframe tbody tr th {\n",
       "        vertical-align: top;\n",
       "    }\n",
       "\n",
       "    .dataframe thead th {\n",
       "        text-align: right;\n",
       "    }\n",
       "</style>\n",
       "<table border=\"1\" class=\"dataframe\">\n",
       "  <thead>\n",
       "    <tr style=\"text-align: right;\">\n",
       "      <th></th>\n",
       "      <th>Suburb</th>\n",
       "      <th>Address</th>\n",
       "      <th>Rooms</th>\n",
       "      <th>Type</th>\n",
       "      <th>Price</th>\n",
       "      <th>Method</th>\n",
       "      <th>SellerG</th>\n",
       "      <th>Date</th>\n",
       "      <th>Distance</th>\n",
       "      <th>Postcode</th>\n",
       "      <th>...</th>\n",
       "      <th>Landsize</th>\n",
       "      <th>BuildingArea</th>\n",
       "      <th>YearBuilt</th>\n",
       "      <th>CouncilArea</th>\n",
       "      <th>Lattitude</th>\n",
       "      <th>Longtitude</th>\n",
       "      <th>Regionname</th>\n",
       "      <th>Propertycount</th>\n",
       "      <th>Age</th>\n",
       "      <th>Historic</th>\n",
       "    </tr>\n",
       "  </thead>\n",
       "  <tbody>\n",
       "    <tr>\n",
       "      <th>16424</th>\n",
       "      <td>Mount Waverley</td>\n",
       "      <td>5 Armstrong St</td>\n",
       "      <td>3</td>\n",
       "      <td>h</td>\n",
       "      <td>1200000.0</td>\n",
       "      <td>VB</td>\n",
       "      <td>McGrath</td>\n",
       "      <td>24/06/2017</td>\n",
       "      <td>14.2</td>\n",
       "      <td>3149.0</td>\n",
       "      <td>...</td>\n",
       "      <td>807.0</td>\n",
       "      <td>117.0</td>\n",
       "      <td>1196.0</td>\n",
       "      <td>Monash City Council</td>\n",
       "      <td>-37.86788</td>\n",
       "      <td>145.12121</td>\n",
       "      <td>Eastern Metropolitan</td>\n",
       "      <td>13366.0</td>\n",
       "      <td>821.0</td>\n",
       "      <td>Historic</td>\n",
       "    </tr>\n",
       "  </tbody>\n",
       "</table>\n",
       "<p>1 rows × 22 columns</p>\n",
       "</div>"
      ],
      "text/plain": [
       "               Suburb         Address  Rooms Type      Price Method  SellerG  \\\n",
       "16424  Mount Waverley  5 Armstrong St      3    h  1200000.0     VB  McGrath   \n",
       "\n",
       "             Date  Distance  Postcode  ...  Landsize  BuildingArea  YearBuilt  \\\n",
       "16424  24/06/2017      14.2    3149.0  ...     807.0         117.0     1196.0   \n",
       "\n",
       "               CouncilArea  Lattitude Longtitude            Regionname  \\\n",
       "16424  Monash City Council  -37.86788  145.12121  Eastern Metropolitan   \n",
       "\n",
       "       Propertycount    Age  Historic  \n",
       "16424        13366.0  821.0  Historic  \n",
       "\n",
       "[1 rows x 22 columns]"
      ]
     },
     "execution_count": 18,
     "metadata": {},
     "output_type": "execute_result"
    }
   ],
   "source": [
    "df[df['Age']>800]"
   ]
  },
  {
   "cell_type": "code",
   "execution_count": 19,
   "metadata": {},
   "outputs": [
    {
     "data": {
      "text/html": [
       "<div>\n",
       "<style scoped>\n",
       "    .dataframe tbody tr th:only-of-type {\n",
       "        vertical-align: middle;\n",
       "    }\n",
       "\n",
       "    .dataframe tbody tr th {\n",
       "        vertical-align: top;\n",
       "    }\n",
       "\n",
       "    .dataframe thead th {\n",
       "        text-align: right;\n",
       "    }\n",
       "</style>\n",
       "<table border=\"1\" class=\"dataframe\">\n",
       "  <thead>\n",
       "    <tr style=\"text-align: right;\">\n",
       "      <th></th>\n",
       "      <th>Suburb</th>\n",
       "      <th>Address</th>\n",
       "      <th>Rooms</th>\n",
       "      <th>Type</th>\n",
       "      <th>Price</th>\n",
       "      <th>Method</th>\n",
       "      <th>SellerG</th>\n",
       "      <th>Date</th>\n",
       "      <th>Distance</th>\n",
       "      <th>Postcode</th>\n",
       "      <th>...</th>\n",
       "      <th>Landsize</th>\n",
       "      <th>BuildingArea</th>\n",
       "      <th>YearBuilt</th>\n",
       "      <th>CouncilArea</th>\n",
       "      <th>Lattitude</th>\n",
       "      <th>Longtitude</th>\n",
       "      <th>Regionname</th>\n",
       "      <th>Propertycount</th>\n",
       "      <th>Age</th>\n",
       "      <th>Historic</th>\n",
       "    </tr>\n",
       "  </thead>\n",
       "  <tbody>\n",
       "    <tr>\n",
       "      <th>3</th>\n",
       "      <td>Abbotsford</td>\n",
       "      <td>18/659 Victoria St</td>\n",
       "      <td>3</td>\n",
       "      <td>u</td>\n",
       "      <td>NaN</td>\n",
       "      <td>VB</td>\n",
       "      <td>Rounds</td>\n",
       "      <td>4/2/2016</td>\n",
       "      <td>2.5</td>\n",
       "      <td>3067.0</td>\n",
       "      <td>...</td>\n",
       "      <td>0.0</td>\n",
       "      <td>NaN</td>\n",
       "      <td>NaN</td>\n",
       "      <td>Yarra City Council</td>\n",
       "      <td>-37.81140</td>\n",
       "      <td>145.01160</td>\n",
       "      <td>Northern Metropolitan</td>\n",
       "      <td>4019.0</td>\n",
       "      <td>NaN</td>\n",
       "      <td>Contemporary</td>\n",
       "    </tr>\n",
       "    <tr>\n",
       "      <th>17</th>\n",
       "      <td>Abbotsford</td>\n",
       "      <td>6/241 Nicholson St</td>\n",
       "      <td>1</td>\n",
       "      <td>u</td>\n",
       "      <td>300000.0</td>\n",
       "      <td>S</td>\n",
       "      <td>Biggin</td>\n",
       "      <td>8/10/2016</td>\n",
       "      <td>2.5</td>\n",
       "      <td>3067.0</td>\n",
       "      <td>...</td>\n",
       "      <td>0.0</td>\n",
       "      <td>NaN</td>\n",
       "      <td>NaN</td>\n",
       "      <td>Yarra City Council</td>\n",
       "      <td>-37.80080</td>\n",
       "      <td>144.99730</td>\n",
       "      <td>Northern Metropolitan</td>\n",
       "      <td>4019.0</td>\n",
       "      <td>NaN</td>\n",
       "      <td>Contemporary</td>\n",
       "    </tr>\n",
       "    <tr>\n",
       "      <th>23</th>\n",
       "      <td>Abbotsford</td>\n",
       "      <td>411/8 Grosvenor St</td>\n",
       "      <td>2</td>\n",
       "      <td>u</td>\n",
       "      <td>700000.0</td>\n",
       "      <td>VB</td>\n",
       "      <td>Jellis</td>\n",
       "      <td>12/11/2016</td>\n",
       "      <td>2.5</td>\n",
       "      <td>3067.0</td>\n",
       "      <td>...</td>\n",
       "      <td>0.0</td>\n",
       "      <td>NaN</td>\n",
       "      <td>NaN</td>\n",
       "      <td>Yarra City Council</td>\n",
       "      <td>-37.81100</td>\n",
       "      <td>145.00670</td>\n",
       "      <td>Northern Metropolitan</td>\n",
       "      <td>4019.0</td>\n",
       "      <td>NaN</td>\n",
       "      <td>Contemporary</td>\n",
       "    </tr>\n",
       "    <tr>\n",
       "      <th>25</th>\n",
       "      <td>Abbotsford</td>\n",
       "      <td>123/56 Nicholson St</td>\n",
       "      <td>2</td>\n",
       "      <td>u</td>\n",
       "      <td>750000.0</td>\n",
       "      <td>S</td>\n",
       "      <td>Biggin</td>\n",
       "      <td>12/11/2016</td>\n",
       "      <td>2.5</td>\n",
       "      <td>3067.0</td>\n",
       "      <td>...</td>\n",
       "      <td>0.0</td>\n",
       "      <td>94.00</td>\n",
       "      <td>2009.0</td>\n",
       "      <td>Yarra City Council</td>\n",
       "      <td>-37.80780</td>\n",
       "      <td>144.99650</td>\n",
       "      <td>Northern Metropolitan</td>\n",
       "      <td>4019.0</td>\n",
       "      <td>8.0</td>\n",
       "      <td>Contemporary</td>\n",
       "    </tr>\n",
       "    <tr>\n",
       "      <th>29</th>\n",
       "      <td>Abbotsford</td>\n",
       "      <td>7/20 Abbotsford St</td>\n",
       "      <td>1</td>\n",
       "      <td>u</td>\n",
       "      <td>441000.0</td>\n",
       "      <td>SP</td>\n",
       "      <td>Greg</td>\n",
       "      <td>14/05/2016</td>\n",
       "      <td>2.5</td>\n",
       "      <td>3067.0</td>\n",
       "      <td>...</td>\n",
       "      <td>0.0</td>\n",
       "      <td>NaN</td>\n",
       "      <td>NaN</td>\n",
       "      <td>Yarra City Council</td>\n",
       "      <td>-37.80160</td>\n",
       "      <td>144.99880</td>\n",
       "      <td>Northern Metropolitan</td>\n",
       "      <td>4019.0</td>\n",
       "      <td>NaN</td>\n",
       "      <td>Contemporary</td>\n",
       "    </tr>\n",
       "    <tr>\n",
       "      <th>...</th>\n",
       "      <td>...</td>\n",
       "      <td>...</td>\n",
       "      <td>...</td>\n",
       "      <td>...</td>\n",
       "      <td>...</td>\n",
       "      <td>...</td>\n",
       "      <td>...</td>\n",
       "      <td>...</td>\n",
       "      <td>...</td>\n",
       "      <td>...</td>\n",
       "      <td>...</td>\n",
       "      <td>...</td>\n",
       "      <td>...</td>\n",
       "      <td>...</td>\n",
       "      <td>...</td>\n",
       "      <td>...</td>\n",
       "      <td>...</td>\n",
       "      <td>...</td>\n",
       "      <td>...</td>\n",
       "      <td>...</td>\n",
       "      <td>...</td>\n",
       "    </tr>\n",
       "    <tr>\n",
       "      <th>19696</th>\n",
       "      <td>Surrey Hills</td>\n",
       "      <td>6/91 Warrigal Rd</td>\n",
       "      <td>3</td>\n",
       "      <td>u</td>\n",
       "      <td>1050000.0</td>\n",
       "      <td>PI</td>\n",
       "      <td>hockingstuart</td>\n",
       "      <td>29/07/2017</td>\n",
       "      <td>10.2</td>\n",
       "      <td>3127.0</td>\n",
       "      <td>...</td>\n",
       "      <td>0.0</td>\n",
       "      <td>NaN</td>\n",
       "      <td>NaN</td>\n",
       "      <td>Boroondara City Council</td>\n",
       "      <td>-37.83358</td>\n",
       "      <td>145.09884</td>\n",
       "      <td>Southern Metropolitan</td>\n",
       "      <td>5457.0</td>\n",
       "      <td>NaN</td>\n",
       "      <td>Contemporary</td>\n",
       "    </tr>\n",
       "    <tr>\n",
       "      <th>19710</th>\n",
       "      <td>Tullamarine</td>\n",
       "      <td>9/200 Melrose Dr</td>\n",
       "      <td>2</td>\n",
       "      <td>u</td>\n",
       "      <td>300000.0</td>\n",
       "      <td>SP</td>\n",
       "      <td>Jason</td>\n",
       "      <td>29/07/2017</td>\n",
       "      <td>12.9</td>\n",
       "      <td>3043.0</td>\n",
       "      <td>...</td>\n",
       "      <td>0.0</td>\n",
       "      <td>66.32</td>\n",
       "      <td>1980.0</td>\n",
       "      <td>Brimbank City Council</td>\n",
       "      <td>-37.69815</td>\n",
       "      <td>144.88019</td>\n",
       "      <td>Western Metropolitan</td>\n",
       "      <td>3296.0</td>\n",
       "      <td>37.0</td>\n",
       "      <td>Contemporary</td>\n",
       "    </tr>\n",
       "    <tr>\n",
       "      <th>19725</th>\n",
       "      <td>West Footscray</td>\n",
       "      <td>12/102 Cross St</td>\n",
       "      <td>2</td>\n",
       "      <td>u</td>\n",
       "      <td>NaN</td>\n",
       "      <td>SP</td>\n",
       "      <td>Jas</td>\n",
       "      <td>29/07/2017</td>\n",
       "      <td>6.4</td>\n",
       "      <td>3012.0</td>\n",
       "      <td>...</td>\n",
       "      <td>0.0</td>\n",
       "      <td>92.00</td>\n",
       "      <td>NaN</td>\n",
       "      <td>Maribyrnong City Council</td>\n",
       "      <td>-37.80029</td>\n",
       "      <td>144.87859</td>\n",
       "      <td>Western Metropolitan</td>\n",
       "      <td>5058.0</td>\n",
       "      <td>NaN</td>\n",
       "      <td>Contemporary</td>\n",
       "    </tr>\n",
       "    <tr>\n",
       "      <th>19734</th>\n",
       "      <td>Williamstown</td>\n",
       "      <td>2/29 Dover Rd</td>\n",
       "      <td>1</td>\n",
       "      <td>u</td>\n",
       "      <td>385000.0</td>\n",
       "      <td>SP</td>\n",
       "      <td>Williams</td>\n",
       "      <td>29/07/2017</td>\n",
       "      <td>6.8</td>\n",
       "      <td>3016.0</td>\n",
       "      <td>...</td>\n",
       "      <td>0.0</td>\n",
       "      <td>35.64</td>\n",
       "      <td>1967.0</td>\n",
       "      <td>Hobsons Bay City Council</td>\n",
       "      <td>-37.85588</td>\n",
       "      <td>144.89936</td>\n",
       "      <td>Western Metropolitan</td>\n",
       "      <td>6380.0</td>\n",
       "      <td>50.0</td>\n",
       "      <td>Historic</td>\n",
       "    </tr>\n",
       "    <tr>\n",
       "      <th>19736</th>\n",
       "      <td>Windsor</td>\n",
       "      <td>201/152 Peel St</td>\n",
       "      <td>2</td>\n",
       "      <td>u</td>\n",
       "      <td>560000.0</td>\n",
       "      <td>PI</td>\n",
       "      <td>hockingstuart</td>\n",
       "      <td>29/07/2017</td>\n",
       "      <td>4.6</td>\n",
       "      <td>3181.0</td>\n",
       "      <td>...</td>\n",
       "      <td>0.0</td>\n",
       "      <td>61.60</td>\n",
       "      <td>2012.0</td>\n",
       "      <td>Port Phillip City Council</td>\n",
       "      <td>-37.85581</td>\n",
       "      <td>144.99025</td>\n",
       "      <td>Southern Metropolitan</td>\n",
       "      <td>4380.0</td>\n",
       "      <td>5.0</td>\n",
       "      <td>Contemporary</td>\n",
       "    </tr>\n",
       "  </tbody>\n",
       "</table>\n",
       "<p>2437 rows × 22 columns</p>\n",
       "</div>"
      ],
      "text/plain": [
       "               Suburb              Address  Rooms Type      Price Method  \\\n",
       "3          Abbotsford   18/659 Victoria St      3    u        NaN     VB   \n",
       "17         Abbotsford   6/241 Nicholson St      1    u   300000.0      S   \n",
       "23         Abbotsford   411/8 Grosvenor St      2    u   700000.0     VB   \n",
       "25         Abbotsford  123/56 Nicholson St      2    u   750000.0      S   \n",
       "29         Abbotsford   7/20 Abbotsford St      1    u   441000.0     SP   \n",
       "...               ...                  ...    ...  ...        ...    ...   \n",
       "19696    Surrey Hills     6/91 Warrigal Rd      3    u  1050000.0     PI   \n",
       "19710     Tullamarine     9/200 Melrose Dr      2    u   300000.0     SP   \n",
       "19725  West Footscray      12/102 Cross St      2    u        NaN     SP   \n",
       "19734    Williamstown        2/29 Dover Rd      1    u   385000.0     SP   \n",
       "19736         Windsor      201/152 Peel St      2    u   560000.0     PI   \n",
       "\n",
       "             SellerG        Date  Distance  Postcode  ...  Landsize  \\\n",
       "3             Rounds    4/2/2016       2.5    3067.0  ...       0.0   \n",
       "17            Biggin   8/10/2016       2.5    3067.0  ...       0.0   \n",
       "23            Jellis  12/11/2016       2.5    3067.0  ...       0.0   \n",
       "25            Biggin  12/11/2016       2.5    3067.0  ...       0.0   \n",
       "29              Greg  14/05/2016       2.5    3067.0  ...       0.0   \n",
       "...              ...         ...       ...       ...  ...       ...   \n",
       "19696  hockingstuart  29/07/2017      10.2    3127.0  ...       0.0   \n",
       "19710          Jason  29/07/2017      12.9    3043.0  ...       0.0   \n",
       "19725            Jas  29/07/2017       6.4    3012.0  ...       0.0   \n",
       "19734       Williams  29/07/2017       6.8    3016.0  ...       0.0   \n",
       "19736  hockingstuart  29/07/2017       4.6    3181.0  ...       0.0   \n",
       "\n",
       "       BuildingArea  YearBuilt                CouncilArea  Lattitude  \\\n",
       "3               NaN        NaN         Yarra City Council  -37.81140   \n",
       "17              NaN        NaN         Yarra City Council  -37.80080   \n",
       "23              NaN        NaN         Yarra City Council  -37.81100   \n",
       "25            94.00     2009.0         Yarra City Council  -37.80780   \n",
       "29              NaN        NaN         Yarra City Council  -37.80160   \n",
       "...             ...        ...                        ...        ...   \n",
       "19696           NaN        NaN    Boroondara City Council  -37.83358   \n",
       "19710         66.32     1980.0      Brimbank City Council  -37.69815   \n",
       "19725         92.00        NaN   Maribyrnong City Council  -37.80029   \n",
       "19734         35.64     1967.0   Hobsons Bay City Council  -37.85588   \n",
       "19736         61.60     2012.0  Port Phillip City Council  -37.85581   \n",
       "\n",
       "      Longtitude             Regionname  Propertycount   Age      Historic  \n",
       "3      145.01160  Northern Metropolitan         4019.0   NaN  Contemporary  \n",
       "17     144.99730  Northern Metropolitan         4019.0   NaN  Contemporary  \n",
       "23     145.00670  Northern Metropolitan         4019.0   NaN  Contemporary  \n",
       "25     144.99650  Northern Metropolitan         4019.0   8.0  Contemporary  \n",
       "29     144.99880  Northern Metropolitan         4019.0   NaN  Contemporary  \n",
       "...          ...                    ...            ...   ...           ...  \n",
       "19696  145.09884  Southern Metropolitan         5457.0   NaN  Contemporary  \n",
       "19710  144.88019   Western Metropolitan         3296.0  37.0  Contemporary  \n",
       "19725  144.87859   Western Metropolitan         5058.0   NaN  Contemporary  \n",
       "19734  144.89936   Western Metropolitan         6380.0  50.0      Historic  \n",
       "19736  144.99025  Southern Metropolitan         4380.0   5.0  Contemporary  \n",
       "\n",
       "[2437 rows x 22 columns]"
      ]
     },
     "execution_count": 19,
     "metadata": {},
     "output_type": "execute_result"
    }
   ],
   "source": [
    "df[df['Landsize']==0]"
   ]
  },
  {
   "cell_type": "code",
   "execution_count": 20,
   "metadata": {},
   "outputs": [
    {
     "data": {
      "text/html": [
       "<div>\n",
       "<style scoped>\n",
       "    .dataframe tbody tr th:only-of-type {\n",
       "        vertical-align: middle;\n",
       "    }\n",
       "\n",
       "    .dataframe tbody tr th {\n",
       "        vertical-align: top;\n",
       "    }\n",
       "\n",
       "    .dataframe thead th {\n",
       "        text-align: right;\n",
       "    }\n",
       "</style>\n",
       "<table border=\"1\" class=\"dataframe\">\n",
       "  <thead>\n",
       "    <tr style=\"text-align: right;\">\n",
       "      <th></th>\n",
       "      <th>Suburb</th>\n",
       "      <th>Address</th>\n",
       "      <th>Rooms</th>\n",
       "      <th>Type</th>\n",
       "      <th>Price</th>\n",
       "      <th>Method</th>\n",
       "      <th>SellerG</th>\n",
       "      <th>Date</th>\n",
       "      <th>Distance</th>\n",
       "      <th>Postcode</th>\n",
       "      <th>...</th>\n",
       "      <th>Landsize</th>\n",
       "      <th>BuildingArea</th>\n",
       "      <th>YearBuilt</th>\n",
       "      <th>CouncilArea</th>\n",
       "      <th>Lattitude</th>\n",
       "      <th>Longtitude</th>\n",
       "      <th>Regionname</th>\n",
       "      <th>Propertycount</th>\n",
       "      <th>Age</th>\n",
       "      <th>Historic</th>\n",
       "    </tr>\n",
       "  </thead>\n",
       "  <tbody>\n",
       "    <tr>\n",
       "      <th>7211</th>\n",
       "      <td>North Melbourne</td>\n",
       "      <td>19 Shands La</td>\n",
       "      <td>2</td>\n",
       "      <td>t</td>\n",
       "      <td>841000.0</td>\n",
       "      <td>S</td>\n",
       "      <td>Jellis</td>\n",
       "      <td>4/3/2017</td>\n",
       "      <td>2.3</td>\n",
       "      <td>3051.0</td>\n",
       "      <td>...</td>\n",
       "      <td>215.0</td>\n",
       "      <td>0.0</td>\n",
       "      <td>2000.0</td>\n",
       "      <td>Melbourne City Council</td>\n",
       "      <td>-37.79530</td>\n",
       "      <td>144.94370</td>\n",
       "      <td>Northern Metropolitan</td>\n",
       "      <td>6821.0</td>\n",
       "      <td>17.0</td>\n",
       "      <td>Contemporary</td>\n",
       "    </tr>\n",
       "    <tr>\n",
       "      <th>19775</th>\n",
       "      <td>Balwyn North</td>\n",
       "      <td>14 Wanbrow Av</td>\n",
       "      <td>5</td>\n",
       "      <td>h</td>\n",
       "      <td>1950000.0</td>\n",
       "      <td>S</td>\n",
       "      <td>RT</td>\n",
       "      <td>3/9/2017</td>\n",
       "      <td>9.7</td>\n",
       "      <td>3104.0</td>\n",
       "      <td>...</td>\n",
       "      <td>743.0</td>\n",
       "      <td>0.0</td>\n",
       "      <td>1949.0</td>\n",
       "      <td>Boroondara City Council</td>\n",
       "      <td>-37.80235</td>\n",
       "      <td>145.09311</td>\n",
       "      <td>Southern Metropolitan</td>\n",
       "      <td>7809.0</td>\n",
       "      <td>68.0</td>\n",
       "      <td>Historic</td>\n",
       "    </tr>\n",
       "    <tr>\n",
       "      <th>19840</th>\n",
       "      <td>Bundoora</td>\n",
       "      <td>22 Moreton Cr</td>\n",
       "      <td>3</td>\n",
       "      <td>h</td>\n",
       "      <td>814000.0</td>\n",
       "      <td>S</td>\n",
       "      <td>Barry</td>\n",
       "      <td>3/9/2017</td>\n",
       "      <td>12.1</td>\n",
       "      <td>3083.0</td>\n",
       "      <td>...</td>\n",
       "      <td>542.0</td>\n",
       "      <td>0.0</td>\n",
       "      <td>1970.0</td>\n",
       "      <td>Banyule City Council</td>\n",
       "      <td>-37.70861</td>\n",
       "      <td>145.05691</td>\n",
       "      <td>Northern Metropolitan</td>\n",
       "      <td>10175.0</td>\n",
       "      <td>47.0</td>\n",
       "      <td>Contemporary</td>\n",
       "    </tr>\n",
       "    <tr>\n",
       "      <th>20038</th>\n",
       "      <td>Heidelberg Heights</td>\n",
       "      <td>8 Thames St</td>\n",
       "      <td>3</td>\n",
       "      <td>h</td>\n",
       "      <td>NaN</td>\n",
       "      <td>SN</td>\n",
       "      <td>Miles</td>\n",
       "      <td>3/9/2017</td>\n",
       "      <td>8.8</td>\n",
       "      <td>3081.0</td>\n",
       "      <td>...</td>\n",
       "      <td>658.0</td>\n",
       "      <td>0.0</td>\n",
       "      <td>1920.0</td>\n",
       "      <td>Banyule City Council</td>\n",
       "      <td>-37.75287</td>\n",
       "      <td>145.05547</td>\n",
       "      <td>Eastern Metropolitan</td>\n",
       "      <td>2947.0</td>\n",
       "      <td>97.0</td>\n",
       "      <td>Historic</td>\n",
       "    </tr>\n",
       "    <tr>\n",
       "      <th>20223</th>\n",
       "      <td>Roxburgh Park</td>\n",
       "      <td>16 Sandover Dr</td>\n",
       "      <td>4</td>\n",
       "      <td>h</td>\n",
       "      <td>570000.0</td>\n",
       "      <td>S</td>\n",
       "      <td>Raine</td>\n",
       "      <td>3/9/2017</td>\n",
       "      <td>20.6</td>\n",
       "      <td>3064.0</td>\n",
       "      <td>...</td>\n",
       "      <td>504.0</td>\n",
       "      <td>0.0</td>\n",
       "      <td>2000.0</td>\n",
       "      <td>Hume City Council</td>\n",
       "      <td>-37.61419</td>\n",
       "      <td>144.93448</td>\n",
       "      <td>Northern Metropolitan</td>\n",
       "      <td>5833.0</td>\n",
       "      <td>17.0</td>\n",
       "      <td>Contemporary</td>\n",
       "    </tr>\n",
       "    <tr>\n",
       "      <th>...</th>\n",
       "      <td>...</td>\n",
       "      <td>...</td>\n",
       "      <td>...</td>\n",
       "      <td>...</td>\n",
       "      <td>...</td>\n",
       "      <td>...</td>\n",
       "      <td>...</td>\n",
       "      <td>...</td>\n",
       "      <td>...</td>\n",
       "      <td>...</td>\n",
       "      <td>...</td>\n",
       "      <td>...</td>\n",
       "      <td>...</td>\n",
       "      <td>...</td>\n",
       "      <td>...</td>\n",
       "      <td>...</td>\n",
       "      <td>...</td>\n",
       "      <td>...</td>\n",
       "      <td>...</td>\n",
       "      <td>...</td>\n",
       "      <td>...</td>\n",
       "    </tr>\n",
       "    <tr>\n",
       "      <th>32936</th>\n",
       "      <td>Wollert</td>\n",
       "      <td>42 Rhone Dr</td>\n",
       "      <td>4</td>\n",
       "      <td>h</td>\n",
       "      <td>722500.0</td>\n",
       "      <td>S</td>\n",
       "      <td>LJH</td>\n",
       "      <td>17/02/2018</td>\n",
       "      <td>25.5</td>\n",
       "      <td>3750.0</td>\n",
       "      <td>...</td>\n",
       "      <td>512.0</td>\n",
       "      <td>0.0</td>\n",
       "      <td>NaN</td>\n",
       "      <td>Whittlesea City Council</td>\n",
       "      <td>-37.61971</td>\n",
       "      <td>145.02910</td>\n",
       "      <td>Northern Metropolitan</td>\n",
       "      <td>2940.0</td>\n",
       "      <td>NaN</td>\n",
       "      <td>Contemporary</td>\n",
       "    </tr>\n",
       "    <tr>\n",
       "      <th>33397</th>\n",
       "      <td>Greenvale</td>\n",
       "      <td>26 Perugia Av</td>\n",
       "      <td>4</td>\n",
       "      <td>h</td>\n",
       "      <td>677000.0</td>\n",
       "      <td>S</td>\n",
       "      <td>Ray</td>\n",
       "      <td>17/03/2018</td>\n",
       "      <td>20.4</td>\n",
       "      <td>3059.0</td>\n",
       "      <td>...</td>\n",
       "      <td>312.0</td>\n",
       "      <td>0.0</td>\n",
       "      <td>2013.0</td>\n",
       "      <td>Hume City Council</td>\n",
       "      <td>-37.62439</td>\n",
       "      <td>144.88629</td>\n",
       "      <td>Northern Metropolitan</td>\n",
       "      <td>4864.0</td>\n",
       "      <td>4.0</td>\n",
       "      <td>Contemporary</td>\n",
       "    </tr>\n",
       "    <tr>\n",
       "      <th>33660</th>\n",
       "      <td>Preston</td>\n",
       "      <td>91 Dundas St</td>\n",
       "      <td>3</td>\n",
       "      <td>h</td>\n",
       "      <td>950000.0</td>\n",
       "      <td>PI</td>\n",
       "      <td>Spencer</td>\n",
       "      <td>17/03/2018</td>\n",
       "      <td>8.4</td>\n",
       "      <td>3072.0</td>\n",
       "      <td>...</td>\n",
       "      <td>301.0</td>\n",
       "      <td>0.0</td>\n",
       "      <td>1935.0</td>\n",
       "      <td>Darebin City Council</td>\n",
       "      <td>-37.75302</td>\n",
       "      <td>145.00948</td>\n",
       "      <td>Northern Metropolitan</td>\n",
       "      <td>14577.0</td>\n",
       "      <td>82.0</td>\n",
       "      <td>Historic</td>\n",
       "    </tr>\n",
       "    <tr>\n",
       "      <th>33899</th>\n",
       "      <td>Wollert</td>\n",
       "      <td>40 Whitebark St</td>\n",
       "      <td>4</td>\n",
       "      <td>h</td>\n",
       "      <td>615000.0</td>\n",
       "      <td>S</td>\n",
       "      <td>HAR</td>\n",
       "      <td>17/03/2018</td>\n",
       "      <td>25.5</td>\n",
       "      <td>3750.0</td>\n",
       "      <td>...</td>\n",
       "      <td>392.0</td>\n",
       "      <td>0.0</td>\n",
       "      <td>2015.0</td>\n",
       "      <td>Whittlesea City Council</td>\n",
       "      <td>-37.61252</td>\n",
       "      <td>145.04288</td>\n",
       "      <td>Northern Metropolitan</td>\n",
       "      <td>2940.0</td>\n",
       "      <td>2.0</td>\n",
       "      <td>Contemporary</td>\n",
       "    </tr>\n",
       "    <tr>\n",
       "      <th>34083</th>\n",
       "      <td>Camberwell</td>\n",
       "      <td>1088 Toorak Rd</td>\n",
       "      <td>3</td>\n",
       "      <td>h</td>\n",
       "      <td>NaN</td>\n",
       "      <td>VB</td>\n",
       "      <td>Marshall</td>\n",
       "      <td>24/02/2018</td>\n",
       "      <td>7.7</td>\n",
       "      <td>3124.0</td>\n",
       "      <td>...</td>\n",
       "      <td>647.0</td>\n",
       "      <td>0.0</td>\n",
       "      <td>NaN</td>\n",
       "      <td>Boroondara City Council</td>\n",
       "      <td>-37.84812</td>\n",
       "      <td>145.07414</td>\n",
       "      <td>Southern Metropolitan</td>\n",
       "      <td>8920.0</td>\n",
       "      <td>NaN</td>\n",
       "      <td>Contemporary</td>\n",
       "    </tr>\n",
       "  </tbody>\n",
       "</table>\n",
       "<p>76 rows × 22 columns</p>\n",
       "</div>"
      ],
      "text/plain": [
       "                   Suburb          Address  Rooms Type      Price Method  \\\n",
       "7211      North Melbourne     19 Shands La      2    t   841000.0      S   \n",
       "19775        Balwyn North    14 Wanbrow Av      5    h  1950000.0      S   \n",
       "19840            Bundoora    22 Moreton Cr      3    h   814000.0      S   \n",
       "20038  Heidelberg Heights      8 Thames St      3    h        NaN     SN   \n",
       "20223       Roxburgh Park   16 Sandover Dr      4    h   570000.0      S   \n",
       "...                   ...              ...    ...  ...        ...    ...   \n",
       "32936             Wollert      42 Rhone Dr      4    h   722500.0      S   \n",
       "33397           Greenvale    26 Perugia Av      4    h   677000.0      S   \n",
       "33660             Preston     91 Dundas St      3    h   950000.0     PI   \n",
       "33899             Wollert  40 Whitebark St      4    h   615000.0      S   \n",
       "34083          Camberwell   1088 Toorak Rd      3    h        NaN     VB   \n",
       "\n",
       "        SellerG        Date  Distance  Postcode  ...  Landsize  BuildingArea  \\\n",
       "7211     Jellis    4/3/2017       2.3    3051.0  ...     215.0           0.0   \n",
       "19775        RT    3/9/2017       9.7    3104.0  ...     743.0           0.0   \n",
       "19840     Barry    3/9/2017      12.1    3083.0  ...     542.0           0.0   \n",
       "20038     Miles    3/9/2017       8.8    3081.0  ...     658.0           0.0   \n",
       "20223     Raine    3/9/2017      20.6    3064.0  ...     504.0           0.0   \n",
       "...         ...         ...       ...       ...  ...       ...           ...   \n",
       "32936       LJH  17/02/2018      25.5    3750.0  ...     512.0           0.0   \n",
       "33397       Ray  17/03/2018      20.4    3059.0  ...     312.0           0.0   \n",
       "33660   Spencer  17/03/2018       8.4    3072.0  ...     301.0           0.0   \n",
       "33899       HAR  17/03/2018      25.5    3750.0  ...     392.0           0.0   \n",
       "34083  Marshall  24/02/2018       7.7    3124.0  ...     647.0           0.0   \n",
       "\n",
       "       YearBuilt              CouncilArea  Lattitude Longtitude  \\\n",
       "7211      2000.0   Melbourne City Council  -37.79530  144.94370   \n",
       "19775     1949.0  Boroondara City Council  -37.80235  145.09311   \n",
       "19840     1970.0     Banyule City Council  -37.70861  145.05691   \n",
       "20038     1920.0     Banyule City Council  -37.75287  145.05547   \n",
       "20223     2000.0        Hume City Council  -37.61419  144.93448   \n",
       "...          ...                      ...        ...        ...   \n",
       "32936        NaN  Whittlesea City Council  -37.61971  145.02910   \n",
       "33397     2013.0        Hume City Council  -37.62439  144.88629   \n",
       "33660     1935.0     Darebin City Council  -37.75302  145.00948   \n",
       "33899     2015.0  Whittlesea City Council  -37.61252  145.04288   \n",
       "34083        NaN  Boroondara City Council  -37.84812  145.07414   \n",
       "\n",
       "                  Regionname  Propertycount   Age      Historic  \n",
       "7211   Northern Metropolitan         6821.0  17.0  Contemporary  \n",
       "19775  Southern Metropolitan         7809.0  68.0      Historic  \n",
       "19840  Northern Metropolitan        10175.0  47.0  Contemporary  \n",
       "20038   Eastern Metropolitan         2947.0  97.0      Historic  \n",
       "20223  Northern Metropolitan         5833.0  17.0  Contemporary  \n",
       "...                      ...            ...   ...           ...  \n",
       "32936  Northern Metropolitan         2940.0   NaN  Contemporary  \n",
       "33397  Northern Metropolitan         4864.0   4.0  Contemporary  \n",
       "33660  Northern Metropolitan        14577.0  82.0      Historic  \n",
       "33899  Northern Metropolitan         2940.0   2.0  Contemporary  \n",
       "34083  Southern Metropolitan         8920.0   NaN  Contemporary  \n",
       "\n",
       "[76 rows x 22 columns]"
      ]
     },
     "execution_count": 20,
     "metadata": {},
     "output_type": "execute_result"
    }
   ],
   "source": [
    "df[df['BuildingArea']==0]"
   ]
  },
  {
   "cell_type": "markdown",
   "metadata": {},
   "source": [
    "After external research, it turned out that zero for land slide is indicative of 'zero-lot-line' houses in residential real estate. This is valid variable and will be kept in the data.\n",
    "BulildingArea = 0 because it is not possible for a lot size to be zero.\n",
    "\n",
    "The price outlier of $8.4 million seems to be an error and will be removed. \n",
    "\n"
   ]
  },
  {
   "cell_type": "code",
   "execution_count": 21,
   "metadata": {},
   "outputs": [
    {
     "data": {
      "text/html": [
       "<div>\n",
       "<style scoped>\n",
       "    .dataframe tbody tr th:only-of-type {\n",
       "        vertical-align: middle;\n",
       "    }\n",
       "\n",
       "    .dataframe tbody tr th {\n",
       "        vertical-align: top;\n",
       "    }\n",
       "\n",
       "    .dataframe thead th {\n",
       "        text-align: right;\n",
       "    }\n",
       "</style>\n",
       "<table border=\"1\" class=\"dataframe\">\n",
       "  <thead>\n",
       "    <tr style=\"text-align: right;\">\n",
       "      <th></th>\n",
       "      <th>count</th>\n",
       "      <th>mean</th>\n",
       "      <th>std</th>\n",
       "      <th>min</th>\n",
       "      <th>25%</th>\n",
       "      <th>50%</th>\n",
       "      <th>75%</th>\n",
       "      <th>max</th>\n",
       "    </tr>\n",
       "  </thead>\n",
       "  <tbody>\n",
       "    <tr>\n",
       "      <th>Rooms</th>\n",
       "      <td>34781.0</td>\n",
       "      <td>3.030304e+00</td>\n",
       "      <td>0.969934</td>\n",
       "      <td>1.00000</td>\n",
       "      <td>2.00000</td>\n",
       "      <td>3.0000</td>\n",
       "      <td>4.000000e+00</td>\n",
       "      <td>1.600000e+01</td>\n",
       "    </tr>\n",
       "    <tr>\n",
       "      <th>Price</th>\n",
       "      <td>27186.0</td>\n",
       "      <td>1.050130e+06</td>\n",
       "      <td>641416.528118</td>\n",
       "      <td>85000.00000</td>\n",
       "      <td>635000.00000</td>\n",
       "      <td>870000.0000</td>\n",
       "      <td>1.295000e+06</td>\n",
       "      <td>1.120000e+07</td>\n",
       "    </tr>\n",
       "    <tr>\n",
       "      <th>Distance</th>\n",
       "      <td>34780.0</td>\n",
       "      <td>1.118049e+01</td>\n",
       "      <td>6.785558</td>\n",
       "      <td>0.00000</td>\n",
       "      <td>6.40000</td>\n",
       "      <td>10.3000</td>\n",
       "      <td>1.400000e+01</td>\n",
       "      <td>4.810000e+01</td>\n",
       "    </tr>\n",
       "    <tr>\n",
       "      <th>Postcode</th>\n",
       "      <td>34780.0</td>\n",
       "      <td>3.115999e+03</td>\n",
       "      <td>108.887843</td>\n",
       "      <td>3000.00000</td>\n",
       "      <td>3051.00000</td>\n",
       "      <td>3103.0000</td>\n",
       "      <td>3.156000e+03</td>\n",
       "      <td>3.978000e+03</td>\n",
       "    </tr>\n",
       "    <tr>\n",
       "      <th>Bathroom</th>\n",
       "      <td>26555.0</td>\n",
       "      <td>1.624666e+00</td>\n",
       "      <td>0.724496</td>\n",
       "      <td>0.00000</td>\n",
       "      <td>1.00000</td>\n",
       "      <td>2.0000</td>\n",
       "      <td>2.000000e+00</td>\n",
       "      <td>1.200000e+01</td>\n",
       "    </tr>\n",
       "    <tr>\n",
       "      <th>Car</th>\n",
       "      <td>26055.0</td>\n",
       "      <td>1.728651e+00</td>\n",
       "      <td>1.010719</td>\n",
       "      <td>0.00000</td>\n",
       "      <td>1.00000</td>\n",
       "      <td>2.0000</td>\n",
       "      <td>2.000000e+00</td>\n",
       "      <td>2.600000e+01</td>\n",
       "    </tr>\n",
       "    <tr>\n",
       "      <th>Landsize</th>\n",
       "      <td>22991.0</td>\n",
       "      <td>5.935641e+02</td>\n",
       "      <td>3402.807307</td>\n",
       "      <td>0.00000</td>\n",
       "      <td>224.00000</td>\n",
       "      <td>520.0000</td>\n",
       "      <td>6.700000e+02</td>\n",
       "      <td>4.330140e+05</td>\n",
       "    </tr>\n",
       "    <tr>\n",
       "      <th>BuildingArea</th>\n",
       "      <td>13666.0</td>\n",
       "      <td>1.611476e+02</td>\n",
       "      <td>402.202853</td>\n",
       "      <td>0.01000</td>\n",
       "      <td>102.00000</td>\n",
       "      <td>136.0000</td>\n",
       "      <td>1.880000e+02</td>\n",
       "      <td>4.451500e+04</td>\n",
       "    </tr>\n",
       "    <tr>\n",
       "      <th>YearBuilt</th>\n",
       "      <td>15477.0</td>\n",
       "      <td>1.965251e+03</td>\n",
       "      <td>37.345333</td>\n",
       "      <td>1196.00000</td>\n",
       "      <td>1940.00000</td>\n",
       "      <td>1970.0000</td>\n",
       "      <td>2.000000e+03</td>\n",
       "      <td>2.106000e+03</td>\n",
       "    </tr>\n",
       "    <tr>\n",
       "      <th>Lattitude</th>\n",
       "      <td>26805.0</td>\n",
       "      <td>-3.781068e+01</td>\n",
       "      <td>0.090175</td>\n",
       "      <td>-38.19043</td>\n",
       "      <td>-37.86295</td>\n",
       "      <td>-37.8077</td>\n",
       "      <td>-3.775415e+01</td>\n",
       "      <td>-3.739020e+01</td>\n",
       "    </tr>\n",
       "    <tr>\n",
       "      <th>Longtitude</th>\n",
       "      <td>26805.0</td>\n",
       "      <td>1.450018e+02</td>\n",
       "      <td>0.120192</td>\n",
       "      <td>144.42379</td>\n",
       "      <td>144.93345</td>\n",
       "      <td>145.0078</td>\n",
       "      <td>1.450719e+02</td>\n",
       "      <td>1.455264e+02</td>\n",
       "    </tr>\n",
       "    <tr>\n",
       "      <th>Propertycount</th>\n",
       "      <td>34778.0</td>\n",
       "      <td>7.572403e+03</td>\n",
       "      <td>4429.053146</td>\n",
       "      <td>83.00000</td>\n",
       "      <td>4385.00000</td>\n",
       "      <td>6763.0000</td>\n",
       "      <td>1.041200e+04</td>\n",
       "      <td>2.165000e+04</td>\n",
       "    </tr>\n",
       "    <tr>\n",
       "      <th>Age</th>\n",
       "      <td>15477.0</td>\n",
       "      <td>5.174898e+01</td>\n",
       "      <td>37.345333</td>\n",
       "      <td>-89.00000</td>\n",
       "      <td>17.00000</td>\n",
       "      <td>47.0000</td>\n",
       "      <td>7.700000e+01</td>\n",
       "      <td>8.210000e+02</td>\n",
       "    </tr>\n",
       "  </tbody>\n",
       "</table>\n",
       "</div>"
      ],
      "text/plain": [
       "                 count          mean            std          min  \\\n",
       "Rooms          34781.0  3.030304e+00       0.969934      1.00000   \n",
       "Price          27186.0  1.050130e+06  641416.528118  85000.00000   \n",
       "Distance       34780.0  1.118049e+01       6.785558      0.00000   \n",
       "Postcode       34780.0  3.115999e+03     108.887843   3000.00000   \n",
       "Bathroom       26555.0  1.624666e+00       0.724496      0.00000   \n",
       "Car            26055.0  1.728651e+00       1.010719      0.00000   \n",
       "Landsize       22991.0  5.935641e+02    3402.807307      0.00000   \n",
       "BuildingArea   13666.0  1.611476e+02     402.202853      0.01000   \n",
       "YearBuilt      15477.0  1.965251e+03      37.345333   1196.00000   \n",
       "Lattitude      26805.0 -3.781068e+01       0.090175    -38.19043   \n",
       "Longtitude     26805.0  1.450018e+02       0.120192    144.42379   \n",
       "Propertycount  34778.0  7.572403e+03    4429.053146     83.00000   \n",
       "Age            15477.0  5.174898e+01      37.345333    -89.00000   \n",
       "\n",
       "                        25%          50%           75%           max  \n",
       "Rooms               2.00000       3.0000  4.000000e+00  1.600000e+01  \n",
       "Price          635000.00000  870000.0000  1.295000e+06  1.120000e+07  \n",
       "Distance            6.40000      10.3000  1.400000e+01  4.810000e+01  \n",
       "Postcode         3051.00000    3103.0000  3.156000e+03  3.978000e+03  \n",
       "Bathroom            1.00000       2.0000  2.000000e+00  1.200000e+01  \n",
       "Car                 1.00000       2.0000  2.000000e+00  2.600000e+01  \n",
       "Landsize          224.00000     520.0000  6.700000e+02  4.330140e+05  \n",
       "BuildingArea      102.00000     136.0000  1.880000e+02  4.451500e+04  \n",
       "YearBuilt        1940.00000    1970.0000  2.000000e+03  2.106000e+03  \n",
       "Lattitude         -37.86295     -37.8077 -3.775415e+01 -3.739020e+01  \n",
       "Longtitude        144.93345     145.0078  1.450719e+02  1.455264e+02  \n",
       "Propertycount    4385.00000    6763.0000  1.041200e+04  2.165000e+04  \n",
       "Age                17.00000      47.0000  7.700000e+01  8.210000e+02  "
      ]
     },
     "execution_count": 21,
     "metadata": {},
     "output_type": "execute_result"
    }
   ],
   "source": [
    "# Remove outlier\n",
    "df = df[df['BuildingArea']!=0]\n",
    "\n",
    "# Confirm removal\n",
    "df.describe().transpose()"
   ]
  },
  {
   "cell_type": "markdown",
   "metadata": {},
   "source": [
    "**EXPLORATORY ANALYSIS**\n",
    "\n",
    "**Descriptive Statistics**\n",
    "\n"
   ]
  },
  {
   "cell_type": "markdown",
   "metadata": {},
   "source": [
    "**Univariate Analysis of the Dependent Variables**\n",
    "\n",
    "The dependent variable is price. \n",
    "\n",
    "The majority of the homes are between 900 K to 1 million. \n",
    "\n",
    "A few of the outliers homes are aournd $8 million.\n"
   ]
  },
  {
   "cell_type": "code",
   "execution_count": 22,
   "metadata": {},
   "outputs": [],
   "source": [
    "def distplay(feature):\n",
    "    sns.distplot(df[feature])\n",
    "def catplay(feature):\n",
    "    cat_counts = df[feature].value_counts()\n",
    "    sns.barplot(cat_counts.index, cat_counts)\n",
    "    print(\"Mean of %s: %.3f\" % (feature, df[feature].mean()))\n",
    "    print(\"Mode of %s: %.3f\" % (feature, df[feature].mode()))"
   ]
  },
  {
   "cell_type": "code",
   "execution_count": 23,
   "metadata": {},
   "outputs": [
    {
     "data": {
      "image/png": "[encoded data removed]",
      "text/plain": [
       "<Figure size 1152x504 with 1 Axes>"
      ]
     },
     "metadata": {},
     "output_type": "display_data"
    }
   ],
   "source": [
    "##More condence format of teh data using SNS distplay\n",
    "plt.figure(figsize=(16,7))\n",
    "distplay('Price')"
   ]
  },
  {
   "cell_type": "markdown",
   "metadata": {},
   "source": [
    "https://dev.to/rokaandy/logarithmic-transformation-in-linear-regression-models-why-when-3a7c\n",
    "\n",
    "\n",
    "**Logarithmic Transaformation of Price**\n",
    "\n",
    "The pricing data is skewed. Let's transform it to a normal distribution.\n"
   ]
  },
  {
   "cell_type": "code",
   "execution_count": 24,
   "metadata": {},
   "outputs": [
    {
     "data": {
      "text/plain": [
       "Text(0.5, 0, 'Price')"
      ]
     },
     "execution_count": 24,
     "metadata": {},
     "output_type": "execute_result"
    },
    {
     "data": {
      "image/png": "[encoded data removed]",
      "text/plain": [
       "<Figure size 576x360 with 1 Axes>"
      ]
     },
     "metadata": {},
     "output_type": "display_data"
    }
   ],
   "source": [
    "df.hist('Price',figsize=(8,5))\n",
    "plt.title('Number of houses vs Price')\n",
    "plt.ylabel('Number of Houses')\n",
    "plt.xlabel(\"Price\")"
   ]
  },
  {
   "cell_type": "code",
   "execution_count": 25,
   "metadata": {},
   "outputs": [
    {
     "data": {
      "text/plain": [
       "Text(0.5, 0, 'log(Price)')"
      ]
     },
     "execution_count": 25,
     "metadata": {},
     "output_type": "execute_result"
    },
    {
     "data": {
      "image/png": "[encoded data removed]",
      "text/plain": [
       "<Figure size 576x360 with 1 Axes>"
      ]
     },
     "metadata": {},
     "output_type": "display_data"
    }
   ],
   "source": [
    "df['log_price'] = np.log(df['Price'])\n",
    "\n",
    "df.hist('log_price',figsize=(8,5))\n",
    "plt.title('Number of houses vs log(Price)')\n",
    "plt.ylabel('Number of Houses')\n",
    "plt.xlabel(\"log(Price)\")"
   ]
  },
  {
   "cell_type": "markdown",
   "metadata": {},
   "source": [
    "**Bivariate Analysis of the Independent Variables**\n",
    "\n",
    "**Categorical Variables**\n",
    "\n",
    "Based on the information below, we have the following are categgorical variables: 'Suburb', 'Address', 'Type', 'Method', 'SellerG', 'CouncilArea', and 'Regionname' \n",
    "\n",
    "The Date variable will need to be converted to a date object."
   ]
  },
  {
   "cell_type": "code",
   "execution_count": 26,
   "metadata": {},
   "outputs": [
    {
     "name": "stdout",
     "output_type": "stream",
     "text": [
      "<class 'pandas.core.frame.DataFrame'>\n",
      "Int64Index: 34781 entries, 0 to 34856\n",
      "Data columns (total 23 columns):\n",
      " #   Column         Non-Null Count  Dtype   \n",
      "---  ------         --------------  -----   \n",
      " 0   Suburb         34781 non-null  object  \n",
      " 1   Address        34781 non-null  object  \n",
      " 2   Rooms          34781 non-null  int64   \n",
      " 3   Type           34781 non-null  object  \n",
      " 4   Price          27186 non-null  float64 \n",
      " 5   Method         34781 non-null  object  \n",
      " 6   SellerG        34781 non-null  object  \n",
      " 7   Date           34781 non-null  object  \n",
      " 8   Distance       34780 non-null  float64 \n",
      " 9   Postcode       34780 non-null  float64 \n",
      " 10  Bathroom       26555 non-null  float64 \n",
      " 11  Car            26055 non-null  float64 \n",
      " 12  Landsize       22991 non-null  float64 \n",
      " 13  BuildingArea   13666 non-null  float64 \n",
      " 14  YearBuilt      15477 non-null  float64 \n",
      " 15  CouncilArea    34778 non-null  object  \n",
      " 16  Lattitude      26805 non-null  float64 \n",
      " 17  Longtitude     26805 non-null  float64 \n",
      " 18  Regionname     34778 non-null  object  \n",
      " 19  Propertycount  34778 non-null  float64 \n",
      " 20  Age            15477 non-null  float64 \n",
      " 21  Historic       34781 non-null  category\n",
      " 22  log_price      27186 non-null  float64 \n",
      "dtypes: category(1), float64(13), int64(1), object(8)\n",
      "memory usage: 6.1+ MB\n"
     ]
    }
   ],
   "source": [
    "df.info()"
   ]
  },
  {
   "cell_type": "markdown",
   "metadata": {},
   "source": [
    "**Feature Selection of Categorical Variables**\n",
    "\n",
    "Suburb, Address, Postcode, more or less are measures base on locations. To capture all of them and to avoid-over fitting, Regionname will be a better proxy to measure location and for better model fit.\n",
    "\n",
    "\n",
    "Based on domain knowledge, a home's real estate agent or council member has a minimal effect on a price relative to other features and will be excluded from further analysis.\n",
    "\n"
   ]
  },
  {
   "cell_type": "code",
   "execution_count": 27,
   "metadata": {},
   "outputs": [
    {
     "data": {
      "text/plain": [
       "Index(['Historic'], dtype='object')"
      ]
     },
     "execution_count": 27,
     "metadata": {},
     "output_type": "execute_result"
    }
   ],
   "source": [
    "##Identify the categorical variables\n",
    "df.select_dtypes(['category']).columns"
   ]
  },
  {
   "cell_type": "code",
   "execution_count": 28,
   "metadata": {},
   "outputs": [],
   "source": [
    "# Convert to date object\n",
    "df['Date'] = pd.to_datetime(df['Date'])"
   ]
  },
  {
   "cell_type": "code",
   "execution_count": 29,
   "metadata": {},
   "outputs": [],
   "source": [
    "# Abbreviate Regionname categories\n",
    "df['Regionname'] = df['Regionname'].map({'Northern Metropolitan':'N Metro',\n",
    "                                            'Western Metropolitan':'W Metro', \n",
    "                                            'Southern Metropolitan':'S Metro', \n",
    "                                            'Eastern Metropolitan':'E Metro', \n",
    "                                            'South-Eastern Metropolitan':'SE Metro', \n",
    "                                            'Northern Victoria':'N Vic',\n",
    "                                            'Eastern Victoria':'E Vic',\n",
    "                                            'Western Victoria':'W Vic'})"
   ]
  },
  {
   "cell_type": "markdown",
   "metadata": {},
   "source": [
    "**Step 1: Visualization**\n",
    "\n",
    "Using visualization, you should be able to judge which feature variables have a linear relatinship with the dependent variable."
   ]
  },
  {
   "cell_type": "markdown",
   "metadata": {},
   "source": [
    "**Plot Categorical Variables with Independent Variable**\n",
    "\n",
    "Note, Price is the dependnet variable in the model\n",
    "\n",
    "\n",
    "We will only use **Type, Method, Regionname, and Historic** as categorical features.\n"
   ]
  },
  {
   "cell_type": "code",
   "execution_count": 30,
   "metadata": {},
   "outputs": [
    {
     "data": {
      "text/plain": [
       "Text(0.5, 1.0, 'Historic v Price')"
      ]
     },
     "execution_count": 30,
     "metadata": {},
     "output_type": "execute_result"
    },
    {
     "data": {
      "image/png": "[encoded data removed]",
      "text/plain": [
       "<Figure size 1080x1080 with 4 Axes>"
      ]
     },
     "metadata": {},
     "output_type": "display_data"
    }
   ],
   "source": [
    "# Suplots of categorical features v price\n",
    "sns.set_style('darkgrid')\n",
    "f, axes = plt.subplots(2,2, figsize = (15,15))\n",
    "# Plot [1]\n",
    "sns.boxplot(data = df, x = 'Type', y = 'log_price', ax = axes[0,0])\n",
    "axes[0,0].set_xlabel('Type')\n",
    "axes[0,0].set_ylabel('Price')\n",
    "axes[0,0].set_title('Type v Price')\n",
    "\n",
    "# plot 2\n",
    "sns.boxplot(x = 'Method', y = 'log_price', data = df, ax = axes[0,1])\n",
    "axes[0,1].set_xlabel('Method')\n",
    "#axes[0,1].set_ylabel('Price')\n",
    "axes[0,1].set_title('Method v Price')\n",
    "\n",
    "# Plot [1,0]\n",
    "sns.boxplot(x = 'Regionname', y = 'log_price', data = df, ax = axes[1,0])\n",
    "axes[1,0].set_xlabel('Regionname')\n",
    "#axes[1,0].set_ylabel('Price')\n",
    "axes[1,0].set_title('Region Name v Price')\n",
    "\n",
    "# Plot [1,1]\n",
    "sns.boxplot(x = 'Historic', y = 'log_price', data = df, ax = axes[1,1])\n",
    "axes[1,1].set_xlabel('Historic')\n",
    "axes[1,1].set_ylabel('Price')\n",
    "axes[1,1].set_title('Historic v Price')"
   ]
  },
  {
   "cell_type": "markdown",
   "metadata": {},
   "source": [
    "\n",
    "**Key Insights**\n",
    "\n",
    " -the median prices for houses in approximately  1 million. About 50 percent  of houses are within the 1 million to  1.5 million median range. Townhouses are between the  800K to  900K range, while Units are about  500K.\n",
    " \n",
    " - The median price base on selling methods are about 1 million. The price are condensed between $1.5 to $2 million for all selling method except for Vendor Bid (VB). \n",
    " \n",
    " \n",
    " - Median prices in the metro region are the highers. Prices are highest in Southern Metro at ~ 1.4. Eastern and Western Victoria has the losest median price $1 million.\n",
    " \n",
    " \n",
    " - Older Historia homes (> 50 years old) median price is ~ 1 million. Median price for Contempory houses is ~ 800K. \n",
    "\n",
    "  \n",
    "\n"
   ]
  },
  {
   "cell_type": "markdown",
   "metadata": {},
   "source": [
    "Now lets do a correlation to see which ones contribute to price"
   ]
  },
  {
   "cell_type": "markdown",
   "metadata": {},
   "source": [
    "**Plot Numerical Variables**"
   ]
  },
  {
   "cell_type": "code",
   "execution_count": 31,
   "metadata": {},
   "outputs": [
    {
     "data": {
      "text/plain": [
       "Index(['Rooms', 'Price', 'Distance', 'Postcode', 'Bathroom', 'Car', 'Landsize',\n",
       "       'BuildingArea', 'YearBuilt', 'Lattitude', 'Longtitude', 'Propertycount',\n",
       "       'Age', 'log_price'],\n",
       "      dtype='object')"
      ]
     },
     "execution_count": 31,
     "metadata": {},
     "output_type": "execute_result"
    }
   ],
   "source": [
    "# Identify numeric variables\n",
    "df.select_dtypes(['float64','int64']).columns"
   ]
  },
  {
   "cell_type": "code",
   "execution_count": 32,
   "metadata": {},
   "outputs": [
    {
     "data": {
      "image/png": "[encoded data removed]",
      "text/plain": [
       "<Figure size 1440x2160 with 8 Axes>"
      ]
     },
     "metadata": {},
     "output_type": "display_data"
    }
   ],
   "source": [
    "# Plots of numeric variables with price\n",
    "sns.set_style('darkgrid')\n",
    "f, axes = plt.subplots(4,2, figsize = (20,30))\n",
    "# Plot [0,0]\n",
    "axes[0,0].scatter(x = 'Rooms', y = 'log_price', data = df, edgecolor = 'b')\n",
    "axes[0,0].set_xlabel('Rooms')\n",
    "axes[0,0].set_ylabel('Price')\n",
    "axes[0,0].set_title('Rooms v Price')\n",
    "\n",
    "# Plot [0,1]\n",
    "axes[0,1].scatter(x = 'Distance', y = 'log_price', data = df, edgecolor = 'b')\n",
    "axes[0,1].set_xlabel('Distance')\n",
    "# axes[0,1].set_ylabel('Price')\n",
    "axes[0,1].set_title('Distance v Price')\n",
    "\n",
    "# Plot [1,0]\n",
    "axes[1,0].scatter(x = 'Bathroom', y = 'log_price', data = df, edgecolor = 'b')\n",
    "axes[1,0].set_xlabel('Bathroom')\n",
    "axes[1,0].set_ylabel('Price')\n",
    "axes[1,0].set_title('Bathroom v Price')\n",
    "\n",
    "# Plot [1,1]\n",
    "axes[1,1].scatter(x = 'Car', y = 'log_price', data = df, edgecolor = 'b')\n",
    "axes[1,0].set_xlabel('Car')\n",
    "axes[1,1].set_ylabel('Price')\n",
    "axes[1,1].set_title('Car v Price')\n",
    "\n",
    "# Plot [2,0]\n",
    "axes[2,0].scatter(x = 'Landsize', y = 'log_price', data = df, edgecolor = 'b')\n",
    "axes[2,0].set_xlabel('Landsize')\n",
    "axes[2,0].set_ylabel('Price')\n",
    "axes[2,0].set_title('Landsize v  Price')\n",
    "\n",
    "# Plot [2,1]\n",
    "axes[2,1].scatter(x = 'BuildingArea', y = 'log_price', data = df, edgecolor = 'b')\n",
    "axes[2,1].set_xlabel('BuildingArea')\n",
    "axes[2,1].set_ylabel('Price')\n",
    "axes[2,1].set_title('BuildingArea v Price')\n",
    "\n",
    "# Plot [3,0]\n",
    "axes[3,0].scatter(x = 'Age', y = 'log_price', data = df,edgecolor = 'b')\n",
    "axes[3,0].set_xlabel('Age')\n",
    "axes[3,0].set_ylabel('Price')\n",
    "axes[3,0].set_ylabel('Age v Price')\n",
    "\n",
    "# Plot [3,1]\n",
    "axes[3,1].scatter(x = 'Propertycount', y = 'log_price', data = df, edgecolor = 'b')\n",
    "axes[3,1].set_xlabel('Propertycount')\n",
    "axes[3,1].set_ylabel('Price')         \n",
    "axes[3,1].set_title('Property Count v Price')\n",
    "\n",
    "plt.show()"
   ]
  },
  {
   "cell_type": "markdown",
   "metadata": {},
   "source": [
    "The relationship between distance and price, car and price, and bathroom and  is not clear. \n",
    "\n",
    "Let's use Implot with the overlaid regression line to see the relationship a bit clearler."
   ]
  },
  {
   "cell_type": "code",
   "execution_count": 33,
   "metadata": {},
   "outputs": [
    {
     "data": {
      "image/png": "[encoded data removed]",
      "text/plain": [
       "<Figure size 360x360 with 1 Axes>"
      ]
     },
     "metadata": {},
     "output_type": "display_data"
    }
   ],
   "source": [
    "sns.lmplot(x=\"Distance\", y=\"log_price\", data=df, x_estimator=np.mean);"
   ]
  },
  {
   "cell_type": "code",
   "execution_count": 34,
   "metadata": {},
   "outputs": [
    {
     "data": {
      "image/png": "[encoded data removed]",
      "text/plain": [
       "<Figure size 360x360 with 1 Axes>"
      ]
     },
     "metadata": {},
     "output_type": "display_data"
    }
   ],
   "source": [
    "sns.lmplot(x=\"Car\", y=\"log_price\", data=df, x_estimator=np.mean);"
   ]
  },
  {
   "cell_type": "code",
   "execution_count": 35,
   "metadata": {},
   "outputs": [
    {
     "data": {
      "image/png": "[encoded data removed]",
      "text/plain": [
       "<Figure size 360x360 with 1 Axes>"
      ]
     },
     "metadata": {},
     "output_type": "display_data"
    }
   ],
   "source": [
    "sns.lmplot(x=\"Bathroom\", y=\"log_price\", data=df, x_estimator=np.mean);"
   ]
  },
  {
   "cell_type": "markdown",
   "metadata": {},
   "source": [
    "**Lattitude and Longitude**\n",
    "\n",
    "Let's plot Lattitude and Longitude to see if there is any observable relationship.\n",
    "\n",
    "As you can see from both the scatterplot and correlation below, there is no discernable pattern. \n",
    "As a matter of fact, there is very minimial variation with Longtitue, Lattitude and Price.\n",
    "There is no visable patter in the plot that will help with the regression model in predicting price.\n",
    "\n"
   ]
  },
  {
   "cell_type": "code",
   "execution_count": 36,
   "metadata": {},
   "outputs": [
    {
     "data": {
      "text/plain": [
       "<seaborn.axisgrid.FacetGrid at 0x480ee27100>"
      ]
     },
     "execution_count": 36,
     "metadata": {},
     "output_type": "execute_result"
    },
    {
     "data": {
      "image/png": "[encoded data removed]",
      "text/plain": [
       "<Figure size 461.27x360 with 1 Axes>"
      ]
     },
     "metadata": {},
     "output_type": "display_data"
    }
   ],
   "source": [
    "sns.relplot (x='Longtitude', y ='Lattitude', hue = 'log_price', data=df)"
   ]
  },
  {
   "cell_type": "code",
   "execution_count": 37,
   "metadata": {},
   "outputs": [
    {
     "name": "stdout",
     "output_type": "stream",
     "text": [
      "           log_price  Lattitude\n",
      "log_price   1.000000  -0.237854\n",
      "Lattitude  -0.237854   1.000000\n"
     ]
    }
   ],
   "source": [
    "cc = df[[\"log_price\", \"Lattitude\"]].corr()\n",
    "print(cc)"
   ]
  },
  {
   "cell_type": "code",
   "execution_count": 38,
   "metadata": {},
   "outputs": [
    {
     "name": "stdout",
     "output_type": "stream",
     "text": [
      "            log_price  Longtitude\n",
      "log_price    1.000000    0.252057\n",
      "Longtitude   0.252057    1.000000\n"
     ]
    }
   ],
   "source": [
    "cc = df[[\"log_price\", \"Longtitude\"]].corr()\n",
    "print(cc)"
   ]
  },
  {
   "cell_type": "markdown",
   "metadata": {},
   "source": [
    "**More Insights**\n",
    "\n",
    "There is an inverse relationship between distance and price. Prices are lower as one moves away from the CBD\n",
    "\n",
    "An increase in car lots leads to an increase in prices.\n",
    "\n",
    "More bathrooms leads to an increase in prices. "
   ]
  },
  {
   "cell_type": "markdown",
   "metadata": {},
   "source": [
    "**Key Insights**\n",
    "\n",
    "* The majority of homes have 4 to 5 bedrooms and carries the highest price tag. \n",
    "* Homes closer to the city center is more expensive. The most expensive home (> 2M) is closer to the CBD\n",
    "* Homes with 3 to 4 car garage are more expensive\n",
    "* Homes with 3 to 4 bathrooms are more expensive\n",
    "* Homes are clustered with  smaller lotsize and land space; price ranges from  2M to  4M\n",
    "* Houses > 100 years are more expensive. \n",
    "\n",
    "\n"
   ]
  },
  {
   "cell_type": "markdown",
   "metadata": {},
   "source": [
    "**Drop String Variables**\n",
    "\n",
    "There are string variables that does not contribute to the model.\n",
    "\n",
    "Cannot use mean strategy with non-numeric data.\n",
    "\n",
    "I will drop these string variables."
   ]
  },
  {
   "cell_type": "code",
   "execution_count": 39,
   "metadata": {},
   "outputs": [
    {
     "data": {
      "text/html": [
       "<div>\n",
       "<style scoped>\n",
       "    .dataframe tbody tr th:only-of-type {\n",
       "        vertical-align: middle;\n",
       "    }\n",
       "\n",
       "    .dataframe tbody tr th {\n",
       "        vertical-align: top;\n",
       "    }\n",
       "\n",
       "    .dataframe thead th {\n",
       "        text-align: right;\n",
       "    }\n",
       "</style>\n",
       "<table border=\"1\" class=\"dataframe\">\n",
       "  <thead>\n",
       "    <tr style=\"text-align: right;\">\n",
       "      <th></th>\n",
       "      <th>Rooms</th>\n",
       "      <th>Distance</th>\n",
       "      <th>Bathroom</th>\n",
       "      <th>Car</th>\n",
       "      <th>Landsize</th>\n",
       "      <th>BuildingArea</th>\n",
       "      <th>YearBuilt</th>\n",
       "      <th>Lattitude</th>\n",
       "      <th>Longtitude</th>\n",
       "      <th>Propertycount</th>\n",
       "      <th>Age</th>\n",
       "      <th>log_price</th>\n",
       "    </tr>\n",
       "  </thead>\n",
       "  <tbody>\n",
       "    <tr>\n",
       "      <th>0</th>\n",
       "      <td>2</td>\n",
       "      <td>2.5</td>\n",
       "      <td>1.0</td>\n",
       "      <td>1.0</td>\n",
       "      <td>126.0</td>\n",
       "      <td>NaN</td>\n",
       "      <td>NaN</td>\n",
       "      <td>-37.80140</td>\n",
       "      <td>144.99580</td>\n",
       "      <td>4019.0</td>\n",
       "      <td>NaN</td>\n",
       "      <td>NaN</td>\n",
       "    </tr>\n",
       "    <tr>\n",
       "      <th>1</th>\n",
       "      <td>2</td>\n",
       "      <td>2.5</td>\n",
       "      <td>1.0</td>\n",
       "      <td>1.0</td>\n",
       "      <td>202.0</td>\n",
       "      <td>NaN</td>\n",
       "      <td>NaN</td>\n",
       "      <td>-37.79960</td>\n",
       "      <td>144.99840</td>\n",
       "      <td>4019.0</td>\n",
       "      <td>NaN</td>\n",
       "      <td>14.207553</td>\n",
       "    </tr>\n",
       "    <tr>\n",
       "      <th>2</th>\n",
       "      <td>2</td>\n",
       "      <td>2.5</td>\n",
       "      <td>1.0</td>\n",
       "      <td>0.0</td>\n",
       "      <td>156.0</td>\n",
       "      <td>79.0</td>\n",
       "      <td>1900.0</td>\n",
       "      <td>-37.80790</td>\n",
       "      <td>144.99340</td>\n",
       "      <td>4019.0</td>\n",
       "      <td>117.0</td>\n",
       "      <td>13.849912</td>\n",
       "    </tr>\n",
       "    <tr>\n",
       "      <th>3</th>\n",
       "      <td>3</td>\n",
       "      <td>2.5</td>\n",
       "      <td>2.0</td>\n",
       "      <td>1.0</td>\n",
       "      <td>0.0</td>\n",
       "      <td>NaN</td>\n",
       "      <td>NaN</td>\n",
       "      <td>-37.81140</td>\n",
       "      <td>145.01160</td>\n",
       "      <td>4019.0</td>\n",
       "      <td>NaN</td>\n",
       "      <td>NaN</td>\n",
       "    </tr>\n",
       "    <tr>\n",
       "      <th>4</th>\n",
       "      <td>3</td>\n",
       "      <td>2.5</td>\n",
       "      <td>2.0</td>\n",
       "      <td>0.0</td>\n",
       "      <td>134.0</td>\n",
       "      <td>150.0</td>\n",
       "      <td>1900.0</td>\n",
       "      <td>-37.80930</td>\n",
       "      <td>144.99440</td>\n",
       "      <td>4019.0</td>\n",
       "      <td>117.0</td>\n",
       "      <td>14.197366</td>\n",
       "    </tr>\n",
       "    <tr>\n",
       "      <th>...</th>\n",
       "      <td>...</td>\n",
       "      <td>...</td>\n",
       "      <td>...</td>\n",
       "      <td>...</td>\n",
       "      <td>...</td>\n",
       "      <td>...</td>\n",
       "      <td>...</td>\n",
       "      <td>...</td>\n",
       "      <td>...</td>\n",
       "      <td>...</td>\n",
       "      <td>...</td>\n",
       "      <td>...</td>\n",
       "    </tr>\n",
       "    <tr>\n",
       "      <th>34852</th>\n",
       "      <td>4</td>\n",
       "      <td>6.3</td>\n",
       "      <td>1.0</td>\n",
       "      <td>3.0</td>\n",
       "      <td>593.0</td>\n",
       "      <td>NaN</td>\n",
       "      <td>NaN</td>\n",
       "      <td>-37.81053</td>\n",
       "      <td>144.88467</td>\n",
       "      <td>6543.0</td>\n",
       "      <td>NaN</td>\n",
       "      <td>14.207553</td>\n",
       "    </tr>\n",
       "    <tr>\n",
       "      <th>34853</th>\n",
       "      <td>2</td>\n",
       "      <td>6.3</td>\n",
       "      <td>2.0</td>\n",
       "      <td>1.0</td>\n",
       "      <td>98.0</td>\n",
       "      <td>104.0</td>\n",
       "      <td>2018.0</td>\n",
       "      <td>-37.81551</td>\n",
       "      <td>144.88826</td>\n",
       "      <td>6543.0</td>\n",
       "      <td>-1.0</td>\n",
       "      <td>13.696727</td>\n",
       "    </tr>\n",
       "    <tr>\n",
       "      <th>34854</th>\n",
       "      <td>2</td>\n",
       "      <td>6.3</td>\n",
       "      <td>1.0</td>\n",
       "      <td>2.0</td>\n",
       "      <td>220.0</td>\n",
       "      <td>120.0</td>\n",
       "      <td>2000.0</td>\n",
       "      <td>-37.82286</td>\n",
       "      <td>144.87856</td>\n",
       "      <td>6543.0</td>\n",
       "      <td>17.0</td>\n",
       "      <td>13.465953</td>\n",
       "    </tr>\n",
       "    <tr>\n",
       "      <th>34855</th>\n",
       "      <td>3</td>\n",
       "      <td>6.3</td>\n",
       "      <td>NaN</td>\n",
       "      <td>NaN</td>\n",
       "      <td>NaN</td>\n",
       "      <td>NaN</td>\n",
       "      <td>NaN</td>\n",
       "      <td>NaN</td>\n",
       "      <td>NaN</td>\n",
       "      <td>6543.0</td>\n",
       "      <td>NaN</td>\n",
       "      <td>13.946539</td>\n",
       "    </tr>\n",
       "    <tr>\n",
       "      <th>34856</th>\n",
       "      <td>2</td>\n",
       "      <td>6.3</td>\n",
       "      <td>1.0</td>\n",
       "      <td>0.0</td>\n",
       "      <td>250.0</td>\n",
       "      <td>103.0</td>\n",
       "      <td>1930.0</td>\n",
       "      <td>-37.81810</td>\n",
       "      <td>144.89351</td>\n",
       "      <td>6543.0</td>\n",
       "      <td>87.0</td>\n",
       "      <td>13.835313</td>\n",
       "    </tr>\n",
       "  </tbody>\n",
       "</table>\n",
       "<p>34781 rows × 12 columns</p>\n",
       "</div>"
      ],
      "text/plain": [
       "       Rooms  Distance  Bathroom  Car  Landsize  BuildingArea  YearBuilt  \\\n",
       "0          2       2.5       1.0  1.0     126.0           NaN        NaN   \n",
       "1          2       2.5       1.0  1.0     202.0           NaN        NaN   \n",
       "2          2       2.5       1.0  0.0     156.0          79.0     1900.0   \n",
       "3          3       2.5       2.0  1.0       0.0           NaN        NaN   \n",
       "4          3       2.5       2.0  0.0     134.0         150.0     1900.0   \n",
       "...      ...       ...       ...  ...       ...           ...        ...   \n",
       "34852      4       6.3       1.0  3.0     593.0           NaN        NaN   \n",
       "34853      2       6.3       2.0  1.0      98.0         104.0     2018.0   \n",
       "34854      2       6.3       1.0  2.0     220.0         120.0     2000.0   \n",
       "34855      3       6.3       NaN  NaN       NaN           NaN        NaN   \n",
       "34856      2       6.3       1.0  0.0     250.0         103.0     1930.0   \n",
       "\n",
       "       Lattitude  Longtitude  Propertycount    Age  log_price  \n",
       "0      -37.80140   144.99580         4019.0    NaN        NaN  \n",
       "1      -37.79960   144.99840         4019.0    NaN  14.207553  \n",
       "2      -37.80790   144.99340         4019.0  117.0  13.849912  \n",
       "3      -37.81140   145.01160         4019.0    NaN        NaN  \n",
       "4      -37.80930   144.99440         4019.0  117.0  14.197366  \n",
       "...          ...         ...            ...    ...        ...  \n",
       "34852  -37.81053   144.88467         6543.0    NaN  14.207553  \n",
       "34853  -37.81551   144.88826         6543.0   -1.0  13.696727  \n",
       "34854  -37.82286   144.87856         6543.0   17.0  13.465953  \n",
       "34855        NaN         NaN         6543.0    NaN  13.946539  \n",
       "34856  -37.81810   144.89351         6543.0   87.0  13.835313  \n",
       "\n",
       "[34781 rows x 12 columns]"
      ]
     },
     "execution_count": 39,
     "metadata": {},
     "output_type": "execute_result"
    }
   ],
   "source": [
    "# dropping passed columns \n",
    "df.drop(['Suburb', 'Address','Type', 'Method', 'SellerG','Date', 'Postcode', \n",
    "'Regionname', 'Historic', 'CouncilArea', 'Price'], axis = 1, inplace = True) \n",
    "  \n",
    "# display \n",
    "df"
   ]
  },
  {
   "cell_type": "markdown",
   "metadata": {},
   "source": [
    "**IMPUTATION**"
   ]
  },
  {
   "cell_type": "markdown",
   "metadata": {},
   "source": [
    "**Handling Missing Values**\n",
    "\n",
    "Now that outliers are remove, let's handle the missing values.\n",
    "\n",
    "There are a few ways to handle missing values:\n",
    "\n",
    "**Drop Colums** with missing values - droping is only advice if missing values are few (say 0.01 -0.5% of the data).\n",
    "\n",
    "**Imputation** - fill in missing value with the mean, median, or mode.\n",
    "\n",
    "Here, we will use imputation. the default behaviour fills in the mean value for the imputation.\n",
    "\n",
    "It is important to remove the missing values before imputation otherwise the mean will be skewed."
   ]
  },
  {
   "cell_type": "code",
   "execution_count": 40,
   "metadata": {},
   "outputs": [],
   "source": [
    "df['log_price'] =df['log_price'].transform(lambda x: x.fillna(x.mean()))"
   ]
  },
  {
   "cell_type": "code",
   "execution_count": 41,
   "metadata": {},
   "outputs": [],
   "source": [
    "df['Rooms'] =df['Rooms'].transform(lambda x: x.fillna(x.mean()))"
   ]
  },
  {
   "cell_type": "code",
   "execution_count": 42,
   "metadata": {},
   "outputs": [],
   "source": [
    "df['Distance'] =df['Distance'].transform(lambda x: x.fillna(x.mean()))"
   ]
  },
  {
   "cell_type": "code",
   "execution_count": 43,
   "metadata": {},
   "outputs": [],
   "source": [
    "df['Bathroom'] =df['Bathroom'].transform(lambda x: x.fillna(x.mean()))"
   ]
  },
  {
   "cell_type": "code",
   "execution_count": 44,
   "metadata": {},
   "outputs": [],
   "source": [
    "df['Car'] =df['Car'].transform(lambda x: x.fillna(x.mean()))"
   ]
  },
  {
   "cell_type": "code",
   "execution_count": 45,
   "metadata": {},
   "outputs": [],
   "source": [
    "df['Landsize'] =df['Landsize'].transform(lambda x: x.fillna(x.mean()))"
   ]
  },
  {
   "cell_type": "code",
   "execution_count": 46,
   "metadata": {},
   "outputs": [],
   "source": [
    "df['BuildingArea'] =df['BuildingArea'].transform(lambda x: x.fillna(x.mean()))"
   ]
  },
  {
   "cell_type": "code",
   "execution_count": 47,
   "metadata": {},
   "outputs": [],
   "source": [
    "df['YearBuilt'] =df['YearBuilt'].transform(lambda x: x.fillna(x.mean()))"
   ]
  },
  {
   "cell_type": "code",
   "execution_count": 48,
   "metadata": {},
   "outputs": [],
   "source": [
    "df['Lattitude'] =df['Lattitude'].transform(lambda x: x.fillna(x.mean()))"
   ]
  },
  {
   "cell_type": "code",
   "execution_count": 49,
   "metadata": {},
   "outputs": [],
   "source": [
    "df['Longtitude'] =df['Longtitude'].transform(lambda x: x.fillna(x.mean()))"
   ]
  },
  {
   "cell_type": "code",
   "execution_count": 50,
   "metadata": {},
   "outputs": [],
   "source": [
    "df['Propertycount'] =df['Propertycount'].transform(lambda x: x.fillna(x.mean()))"
   ]
  },
  {
   "cell_type": "code",
   "execution_count": 51,
   "metadata": {},
   "outputs": [],
   "source": [
    "df['Age'] =df['Age'].transform(lambda x: x.fillna(x.mean()))"
   ]
  },
  {
   "cell_type": "code",
   "execution_count": 52,
   "metadata": {},
   "outputs": [
    {
     "data": {
      "text/html": [
       "<div>\n",
       "<style scoped>\n",
       "    .dataframe tbody tr th:only-of-type {\n",
       "        vertical-align: middle;\n",
       "    }\n",
       "\n",
       "    .dataframe tbody tr th {\n",
       "        vertical-align: top;\n",
       "    }\n",
       "\n",
       "    .dataframe thead th {\n",
       "        text-align: right;\n",
       "    }\n",
       "</style>\n",
       "<table border=\"1\" class=\"dataframe\">\n",
       "  <thead>\n",
       "    <tr style=\"text-align: right;\">\n",
       "      <th></th>\n",
       "      <th>Rooms</th>\n",
       "      <th>Distance</th>\n",
       "      <th>Bathroom</th>\n",
       "      <th>Car</th>\n",
       "      <th>Landsize</th>\n",
       "      <th>BuildingArea</th>\n",
       "      <th>YearBuilt</th>\n",
       "      <th>Lattitude</th>\n",
       "      <th>Longtitude</th>\n",
       "      <th>Propertycount</th>\n",
       "      <th>Age</th>\n",
       "      <th>log_price</th>\n",
       "    </tr>\n",
       "  </thead>\n",
       "  <tbody>\n",
       "    <tr>\n",
       "      <th>count</th>\n",
       "      <td>34781.000000</td>\n",
       "      <td>34781.000000</td>\n",
       "      <td>34781.000000</td>\n",
       "      <td>34781.000000</td>\n",
       "      <td>34781.000000</td>\n",
       "      <td>34781.000000</td>\n",
       "      <td>34781.000000</td>\n",
       "      <td>34781.000000</td>\n",
       "      <td>34781.000000</td>\n",
       "      <td>34781.000000</td>\n",
       "      <td>34781.000000</td>\n",
       "      <td>34781.000000</td>\n",
       "    </tr>\n",
       "    <tr>\n",
       "      <th>mean</th>\n",
       "      <td>3.030304</td>\n",
       "      <td>11.180489</td>\n",
       "      <td>1.624666</td>\n",
       "      <td>1.728651</td>\n",
       "      <td>593.564134</td>\n",
       "      <td>161.147626</td>\n",
       "      <td>1965.251018</td>\n",
       "      <td>-37.810676</td>\n",
       "      <td>145.001824</td>\n",
       "      <td>7572.403215</td>\n",
       "      <td>51.748982</td>\n",
       "      <td>13.722717</td>\n",
       "    </tr>\n",
       "    <tr>\n",
       "      <th>std</th>\n",
       "      <td>0.969934</td>\n",
       "      <td>6.785461</td>\n",
       "      <td>0.633047</td>\n",
       "      <td>0.874788</td>\n",
       "      <td>2766.572486</td>\n",
       "      <td>252.107158</td>\n",
       "      <td>24.911559</td>\n",
       "      <td>0.079163</td>\n",
       "      <td>0.105514</td>\n",
       "      <td>4428.862124</td>\n",
       "      <td>24.911559</td>\n",
       "      <td>0.457044</td>\n",
       "    </tr>\n",
       "    <tr>\n",
       "      <th>min</th>\n",
       "      <td>1.000000</td>\n",
       "      <td>0.000000</td>\n",
       "      <td>0.000000</td>\n",
       "      <td>0.000000</td>\n",
       "      <td>0.000000</td>\n",
       "      <td>0.010000</td>\n",
       "      <td>1196.000000</td>\n",
       "      <td>-38.190430</td>\n",
       "      <td>144.423790</td>\n",
       "      <td>83.000000</td>\n",
       "      <td>-89.000000</td>\n",
       "      <td>11.350407</td>\n",
       "    </tr>\n",
       "    <tr>\n",
       "      <th>25%</th>\n",
       "      <td>2.000000</td>\n",
       "      <td>6.400000</td>\n",
       "      <td>1.000000</td>\n",
       "      <td>1.000000</td>\n",
       "      <td>357.000000</td>\n",
       "      <td>160.000000</td>\n",
       "      <td>1965.251018</td>\n",
       "      <td>-37.846880</td>\n",
       "      <td>144.964460</td>\n",
       "      <td>4385.000000</td>\n",
       "      <td>51.748982</td>\n",
       "      <td>13.451667</td>\n",
       "    </tr>\n",
       "    <tr>\n",
       "      <th>50%</th>\n",
       "      <td>3.000000</td>\n",
       "      <td>10.300000</td>\n",
       "      <td>1.624666</td>\n",
       "      <td>1.728651</td>\n",
       "      <td>593.564134</td>\n",
       "      <td>161.147626</td>\n",
       "      <td>1965.251018</td>\n",
       "      <td>-37.810676</td>\n",
       "      <td>145.001824</td>\n",
       "      <td>6763.000000</td>\n",
       "      <td>51.748982</td>\n",
       "      <td>13.722717</td>\n",
       "    </tr>\n",
       "    <tr>\n",
       "      <th>75%</th>\n",
       "      <td>4.000000</td>\n",
       "      <td>14.000000</td>\n",
       "      <td>2.000000</td>\n",
       "      <td>2.000000</td>\n",
       "      <td>598.000000</td>\n",
       "      <td>161.147626</td>\n",
       "      <td>1965.251018</td>\n",
       "      <td>-37.770920</td>\n",
       "      <td>145.051700</td>\n",
       "      <td>10412.000000</td>\n",
       "      <td>51.748982</td>\n",
       "      <td>13.955273</td>\n",
       "    </tr>\n",
       "    <tr>\n",
       "      <th>max</th>\n",
       "      <td>16.000000</td>\n",
       "      <td>48.100000</td>\n",
       "      <td>12.000000</td>\n",
       "      <td>26.000000</td>\n",
       "      <td>433014.000000</td>\n",
       "      <td>44515.000000</td>\n",
       "      <td>2106.000000</td>\n",
       "      <td>-37.390200</td>\n",
       "      <td>145.526350</td>\n",
       "      <td>21650.000000</td>\n",
       "      <td>821.000000</td>\n",
       "      <td>16.231424</td>\n",
       "    </tr>\n",
       "  </tbody>\n",
       "</table>\n",
       "</div>"
      ],
      "text/plain": [
       "              Rooms      Distance      Bathroom           Car       Landsize  \\\n",
       "count  34781.000000  34781.000000  34781.000000  34781.000000   34781.000000   \n",
       "mean       3.030304     11.180489      1.624666      1.728651     593.564134   \n",
       "std        0.969934      6.785461      0.633047      0.874788    2766.572486   \n",
       "min        1.000000      0.000000      0.000000      0.000000       0.000000   \n",
       "25%        2.000000      6.400000      1.000000      1.000000     357.000000   \n",
       "50%        3.000000     10.300000      1.624666      1.728651     593.564134   \n",
       "75%        4.000000     14.000000      2.000000      2.000000     598.000000   \n",
       "max       16.000000     48.100000     12.000000     26.000000  433014.000000   \n",
       "\n",
       "       BuildingArea     YearBuilt     Lattitude    Longtitude  Propertycount  \\\n",
       "count  34781.000000  34781.000000  34781.000000  34781.000000   34781.000000   \n",
       "mean     161.147626   1965.251018    -37.810676    145.001824    7572.403215   \n",
       "std      252.107158     24.911559      0.079163      0.105514    4428.862124   \n",
       "min        0.010000   1196.000000    -38.190430    144.423790      83.000000   \n",
       "25%      160.000000   1965.251018    -37.846880    144.964460    4385.000000   \n",
       "50%      161.147626   1965.251018    -37.810676    145.001824    6763.000000   \n",
       "75%      161.147626   1965.251018    -37.770920    145.051700   10412.000000   \n",
       "max    44515.000000   2106.000000    -37.390200    145.526350   21650.000000   \n",
       "\n",
       "                Age     log_price  \n",
       "count  34781.000000  34781.000000  \n",
       "mean      51.748982     13.722717  \n",
       "std       24.911559      0.457044  \n",
       "min      -89.000000     11.350407  \n",
       "25%       51.748982     13.451667  \n",
       "50%       51.748982     13.722717  \n",
       "75%       51.748982     13.955273  \n",
       "max      821.000000     16.231424  "
      ]
     },
     "execution_count": 52,
     "metadata": {},
     "output_type": "execute_result"
    }
   ],
   "source": [
    "df.describe()"
   ]
  },
  {
   "cell_type": "code",
   "execution_count": 53,
   "metadata": {},
   "outputs": [
    {
     "data": {
      "text/html": [
       "<div>\n",
       "<style scoped>\n",
       "    .dataframe tbody tr th:only-of-type {\n",
       "        vertical-align: middle;\n",
       "    }\n",
       "\n",
       "    .dataframe tbody tr th {\n",
       "        vertical-align: top;\n",
       "    }\n",
       "\n",
       "    .dataframe thead th {\n",
       "        text-align: right;\n",
       "    }\n",
       "</style>\n",
       "<table border=\"1\" class=\"dataframe\">\n",
       "  <thead>\n",
       "    <tr style=\"text-align: right;\">\n",
       "      <th></th>\n",
       "      <th>Rooms</th>\n",
       "      <th>Distance</th>\n",
       "      <th>Bathroom</th>\n",
       "      <th>Car</th>\n",
       "      <th>Landsize</th>\n",
       "      <th>BuildingArea</th>\n",
       "      <th>YearBuilt</th>\n",
       "      <th>Lattitude</th>\n",
       "      <th>Longtitude</th>\n",
       "      <th>Propertycount</th>\n",
       "      <th>Age</th>\n",
       "      <th>log_price</th>\n",
       "    </tr>\n",
       "  </thead>\n",
       "  <tbody>\n",
       "    <tr>\n",
       "      <th>0</th>\n",
       "      <td>2</td>\n",
       "      <td>2.5</td>\n",
       "      <td>1.000000</td>\n",
       "      <td>1.000000</td>\n",
       "      <td>126.000000</td>\n",
       "      <td>161.147626</td>\n",
       "      <td>1965.251018</td>\n",
       "      <td>-37.801400</td>\n",
       "      <td>144.995800</td>\n",
       "      <td>4019.0</td>\n",
       "      <td>51.748982</td>\n",
       "      <td>13.722717</td>\n",
       "    </tr>\n",
       "    <tr>\n",
       "      <th>1</th>\n",
       "      <td>2</td>\n",
       "      <td>2.5</td>\n",
       "      <td>1.000000</td>\n",
       "      <td>1.000000</td>\n",
       "      <td>202.000000</td>\n",
       "      <td>161.147626</td>\n",
       "      <td>1965.251018</td>\n",
       "      <td>-37.799600</td>\n",
       "      <td>144.998400</td>\n",
       "      <td>4019.0</td>\n",
       "      <td>51.748982</td>\n",
       "      <td>14.207553</td>\n",
       "    </tr>\n",
       "    <tr>\n",
       "      <th>2</th>\n",
       "      <td>2</td>\n",
       "      <td>2.5</td>\n",
       "      <td>1.000000</td>\n",
       "      <td>0.000000</td>\n",
       "      <td>156.000000</td>\n",
       "      <td>79.000000</td>\n",
       "      <td>1900.000000</td>\n",
       "      <td>-37.807900</td>\n",
       "      <td>144.993400</td>\n",
       "      <td>4019.0</td>\n",
       "      <td>117.000000</td>\n",
       "      <td>13.849912</td>\n",
       "    </tr>\n",
       "    <tr>\n",
       "      <th>3</th>\n",
       "      <td>3</td>\n",
       "      <td>2.5</td>\n",
       "      <td>2.000000</td>\n",
       "      <td>1.000000</td>\n",
       "      <td>0.000000</td>\n",
       "      <td>161.147626</td>\n",
       "      <td>1965.251018</td>\n",
       "      <td>-37.811400</td>\n",
       "      <td>145.011600</td>\n",
       "      <td>4019.0</td>\n",
       "      <td>51.748982</td>\n",
       "      <td>13.722717</td>\n",
       "    </tr>\n",
       "    <tr>\n",
       "      <th>4</th>\n",
       "      <td>3</td>\n",
       "      <td>2.5</td>\n",
       "      <td>2.000000</td>\n",
       "      <td>0.000000</td>\n",
       "      <td>134.000000</td>\n",
       "      <td>150.000000</td>\n",
       "      <td>1900.000000</td>\n",
       "      <td>-37.809300</td>\n",
       "      <td>144.994400</td>\n",
       "      <td>4019.0</td>\n",
       "      <td>117.000000</td>\n",
       "      <td>14.197366</td>\n",
       "    </tr>\n",
       "    <tr>\n",
       "      <th>...</th>\n",
       "      <td>...</td>\n",
       "      <td>...</td>\n",
       "      <td>...</td>\n",
       "      <td>...</td>\n",
       "      <td>...</td>\n",
       "      <td>...</td>\n",
       "      <td>...</td>\n",
       "      <td>...</td>\n",
       "      <td>...</td>\n",
       "      <td>...</td>\n",
       "      <td>...</td>\n",
       "      <td>...</td>\n",
       "    </tr>\n",
       "    <tr>\n",
       "      <th>34852</th>\n",
       "      <td>4</td>\n",
       "      <td>6.3</td>\n",
       "      <td>1.000000</td>\n",
       "      <td>3.000000</td>\n",
       "      <td>593.000000</td>\n",
       "      <td>161.147626</td>\n",
       "      <td>1965.251018</td>\n",
       "      <td>-37.810530</td>\n",
       "      <td>144.884670</td>\n",
       "      <td>6543.0</td>\n",
       "      <td>51.748982</td>\n",
       "      <td>14.207553</td>\n",
       "    </tr>\n",
       "    <tr>\n",
       "      <th>34853</th>\n",
       "      <td>2</td>\n",
       "      <td>6.3</td>\n",
       "      <td>2.000000</td>\n",
       "      <td>1.000000</td>\n",
       "      <td>98.000000</td>\n",
       "      <td>104.000000</td>\n",
       "      <td>2018.000000</td>\n",
       "      <td>-37.815510</td>\n",
       "      <td>144.888260</td>\n",
       "      <td>6543.0</td>\n",
       "      <td>-1.000000</td>\n",
       "      <td>13.696727</td>\n",
       "    </tr>\n",
       "    <tr>\n",
       "      <th>34854</th>\n",
       "      <td>2</td>\n",
       "      <td>6.3</td>\n",
       "      <td>1.000000</td>\n",
       "      <td>2.000000</td>\n",
       "      <td>220.000000</td>\n",
       "      <td>120.000000</td>\n",
       "      <td>2000.000000</td>\n",
       "      <td>-37.822860</td>\n",
       "      <td>144.878560</td>\n",
       "      <td>6543.0</td>\n",
       "      <td>17.000000</td>\n",
       "      <td>13.465953</td>\n",
       "    </tr>\n",
       "    <tr>\n",
       "      <th>34855</th>\n",
       "      <td>3</td>\n",
       "      <td>6.3</td>\n",
       "      <td>1.624666</td>\n",
       "      <td>1.728651</td>\n",
       "      <td>593.564134</td>\n",
       "      <td>161.147626</td>\n",
       "      <td>1965.251018</td>\n",
       "      <td>-37.810676</td>\n",
       "      <td>145.001824</td>\n",
       "      <td>6543.0</td>\n",
       "      <td>51.748982</td>\n",
       "      <td>13.946539</td>\n",
       "    </tr>\n",
       "    <tr>\n",
       "      <th>34856</th>\n",
       "      <td>2</td>\n",
       "      <td>6.3</td>\n",
       "      <td>1.000000</td>\n",
       "      <td>0.000000</td>\n",
       "      <td>250.000000</td>\n",
       "      <td>103.000000</td>\n",
       "      <td>1930.000000</td>\n",
       "      <td>-37.818100</td>\n",
       "      <td>144.893510</td>\n",
       "      <td>6543.0</td>\n",
       "      <td>87.000000</td>\n",
       "      <td>13.835313</td>\n",
       "    </tr>\n",
       "  </tbody>\n",
       "</table>\n",
       "<p>34781 rows × 12 columns</p>\n",
       "</div>"
      ],
      "text/plain": [
       "       Rooms  Distance  Bathroom       Car    Landsize  BuildingArea  \\\n",
       "0          2       2.5  1.000000  1.000000  126.000000    161.147626   \n",
       "1          2       2.5  1.000000  1.000000  202.000000    161.147626   \n",
       "2          2       2.5  1.000000  0.000000  156.000000     79.000000   \n",
       "3          3       2.5  2.000000  1.000000    0.000000    161.147626   \n",
       "4          3       2.5  2.000000  0.000000  134.000000    150.000000   \n",
       "...      ...       ...       ...       ...         ...           ...   \n",
       "34852      4       6.3  1.000000  3.000000  593.000000    161.147626   \n",
       "34853      2       6.3  2.000000  1.000000   98.000000    104.000000   \n",
       "34854      2       6.3  1.000000  2.000000  220.000000    120.000000   \n",
       "34855      3       6.3  1.624666  1.728651  593.564134    161.147626   \n",
       "34856      2       6.3  1.000000  0.000000  250.000000    103.000000   \n",
       "\n",
       "         YearBuilt  Lattitude  Longtitude  Propertycount         Age  \\\n",
       "0      1965.251018 -37.801400  144.995800         4019.0   51.748982   \n",
       "1      1965.251018 -37.799600  144.998400         4019.0   51.748982   \n",
       "2      1900.000000 -37.807900  144.993400         4019.0  117.000000   \n",
       "3      1965.251018 -37.811400  145.011600         4019.0   51.748982   \n",
       "4      1900.000000 -37.809300  144.994400         4019.0  117.000000   \n",
       "...            ...        ...         ...            ...         ...   \n",
       "34852  1965.251018 -37.810530  144.884670         6543.0   51.748982   \n",
       "34853  2018.000000 -37.815510  144.888260         6543.0   -1.000000   \n",
       "34854  2000.000000 -37.822860  144.878560         6543.0   17.000000   \n",
       "34855  1965.251018 -37.810676  145.001824         6543.0   51.748982   \n",
       "34856  1930.000000 -37.818100  144.893510         6543.0   87.000000   \n",
       "\n",
       "       log_price  \n",
       "0      13.722717  \n",
       "1      14.207553  \n",
       "2      13.849912  \n",
       "3      13.722717  \n",
       "4      14.197366  \n",
       "...          ...  \n",
       "34852  14.207553  \n",
       "34853  13.696727  \n",
       "34854  13.465953  \n",
       "34855  13.946539  \n",
       "34856  13.835313  \n",
       "\n",
       "[34781 rows x 12 columns]"
      ]
     },
     "execution_count": 53,
     "metadata": {},
     "output_type": "execute_result"
    }
   ],
   "source": [
    "df_mean_imputed = df.fillna(df.mean())\n",
    "df_mean_imputed"
   ]
  },
  {
   "cell_type": "markdown",
   "metadata": {},
   "source": [
    "**Correlation**\n",
    "\n",
    "Let's explore further to see which variables are correlated with each other."
   ]
  },
  {
   "cell_type": "code",
   "execution_count": 54,
   "metadata": {},
   "outputs": [
    {
     "data": {
      "text/plain": [
       "Text(0.5, 1.0, 'Correlation Matrix')"
      ]
     },
     "execution_count": 54,
     "metadata": {},
     "output_type": "execute_result"
    },
    {
     "data": {
      "image/png": "[encoded data removed]",
      "text/plain": [
       "<Figure size 720x432 with 2 Axes>"
      ]
     },
     "metadata": {},
     "output_type": "display_data"
    }
   ],
   "source": [
    "plt.figure(figsize=(10,6))\n",
    "sns.heatmap(df.corr(),cmap = 'coolwarm',linewidth = 1,annot= True, annot_kws={\"size\": 9})\n",
    "plt.title('Correlation Matrix')"
   ]
  },
  {
   "cell_type": "markdown",
   "metadata": {},
   "source": [
    "**Insights**\n",
    "\n",
    "Moderate Correlation\n",
    "\n",
    "    Room is moderately correlated with price\n",
    "    Bathroom is moderately corelated with price\n",
    " \n",
    "Weak Correlation\n",
    "\n",
    "    Distance, Car, and land Landsize are all weakly correlated with price\n",
    "\n",
    "    Lattitude, Longtitude, and Year build are also weakly correlated with price\n",
    "\n",
    "Multicollinearity Bathrooms and rooms  have moderately strong correlation (.>.60)\n",
    "\n",
    "Interestingly enough, there is a perfect inverse relationship between YearBuilt and Price.\n"
   ]
  },
  {
   "cell_type": "markdown",
   "metadata": {},
   "source": [
    "**Detecting Multiplecolinearity Using VIF**\n",
    "\n",
    "\"Although correlation matrix and scatter plots can also be used to find multicollinearity, their findings only show the bivariate relationship between the independent variables. VIF is preferred as it can show the correlation of a variable with a group of other variables.\"\n",
    "\n",
    "\"VIF score of an independent variable represents how well the variable is explained by other independent variables.\"\n",
    "\n",
    "\n",
    "* VIF starts at 1 and has no upper limit\n",
    "* VIF = 1, no correlation between the independent variable and the other variables\n",
    "* VIF exceeding 5 or 10 indicates high multicollinearity between this independent variable and the others\n",
    "\n",
    "\n",
    " ” VIF determines the strength of the correlation between the independent variables. It is predicted by taking a variable and regressing it against every other variable. “\n",
    "\n",
    "    or\n",
    " VIF score of an independent variable represents how well the variable is explained by other independent variables.\n",
    "\n",
    "\n",
    "\n",
    "Source: https://www.analyticsvidhya.com/blog/2020/03/what-is-multicollinearity/"
   ]
  },
  {
   "cell_type": "code",
   "execution_count": 55,
   "metadata": {},
   "outputs": [],
   "source": [
    "# Import library for VIF\n",
    "from statsmodels.stats.outliers_influence import variance_inflation_factor\n",
    "\n",
    "def calc_vif(X):\n",
    "\n",
    "    # Calculating VIF\n",
    "    vif = pd.DataFrame()\n",
    "    vif[\"variables\"] = X.columns\n",
    "    vif[\"VIF\"] = [variance_inflation_factor(X.values, i) for i in range(X.shape[1])]\n",
    "\n",
    "    return(vif)"
   ]
  },
  {
   "cell_type": "code",
   "execution_count": 56,
   "metadata": {},
   "outputs": [
    {
     "data": {
      "text/html": [
       "<div>\n",
       "<style scoped>\n",
       "    .dataframe tbody tr th:only-of-type {\n",
       "        vertical-align: middle;\n",
       "    }\n",
       "\n",
       "    .dataframe tbody tr th {\n",
       "        vertical-align: top;\n",
       "    }\n",
       "\n",
       "    .dataframe thead th {\n",
       "        text-align: right;\n",
       "    }\n",
       "</style>\n",
       "<table border=\"1\" class=\"dataframe\">\n",
       "  <thead>\n",
       "    <tr style=\"text-align: right;\">\n",
       "      <th></th>\n",
       "      <th>variables</th>\n",
       "      <th>VIF</th>\n",
       "    </tr>\n",
       "  </thead>\n",
       "  <tbody>\n",
       "    <tr>\n",
       "      <th>0</th>\n",
       "      <td>Rooms</td>\n",
       "      <td>1.591166e+00</td>\n",
       "    </tr>\n",
       "    <tr>\n",
       "      <th>1</th>\n",
       "      <td>Distance</td>\n",
       "      <td>1.211610e+00</td>\n",
       "    </tr>\n",
       "    <tr>\n",
       "      <th>2</th>\n",
       "      <td>Bathroom</td>\n",
       "      <td>1.494023e+00</td>\n",
       "    </tr>\n",
       "    <tr>\n",
       "      <th>3</th>\n",
       "      <td>Car</td>\n",
       "      <td>1.186228e+00</td>\n",
       "    </tr>\n",
       "    <tr>\n",
       "      <th>4</th>\n",
       "      <td>Landsize</td>\n",
       "      <td>1.011009e+00</td>\n",
       "    </tr>\n",
       "    <tr>\n",
       "      <th>5</th>\n",
       "      <td>BuildingArea</td>\n",
       "      <td>1.023236e+00</td>\n",
       "    </tr>\n",
       "    <tr>\n",
       "      <th>6</th>\n",
       "      <td>YearBuilt</td>\n",
       "      <td>1.876784e+06</td>\n",
       "    </tr>\n",
       "    <tr>\n",
       "      <th>7</th>\n",
       "      <td>Lattitude</td>\n",
       "      <td>1.153405e+00</td>\n",
       "    </tr>\n",
       "    <tr>\n",
       "      <th>8</th>\n",
       "      <td>Longtitude</td>\n",
       "      <td>1.174700e+00</td>\n",
       "    </tr>\n",
       "    <tr>\n",
       "      <th>9</th>\n",
       "      <td>Propertycount</td>\n",
       "      <td>1.006699e+00</td>\n",
       "    </tr>\n",
       "    <tr>\n",
       "      <th>10</th>\n",
       "      <td>Age</td>\n",
       "      <td>1.621803e+03</td>\n",
       "    </tr>\n",
       "  </tbody>\n",
       "</table>\n",
       "</div>"
      ],
      "text/plain": [
       "        variables           VIF\n",
       "0           Rooms  1.591166e+00\n",
       "1        Distance  1.211610e+00\n",
       "2        Bathroom  1.494023e+00\n",
       "3             Car  1.186228e+00\n",
       "4        Landsize  1.011009e+00\n",
       "5    BuildingArea  1.023236e+00\n",
       "6       YearBuilt  1.876784e+06\n",
       "7       Lattitude  1.153405e+00\n",
       "8      Longtitude  1.174700e+00\n",
       "9   Propertycount  1.006699e+00\n",
       "10            Age  1.621803e+03"
      ]
     },
     "execution_count": 56,
     "metadata": {},
     "output_type": "execute_result"
    }
   ],
   "source": [
    "X =df.iloc[:,:-1]\n",
    "calc_vif(X)"
   ]
  },
  {
   "cell_type": "markdown",
   "metadata": {},
   "source": [
    "**VIF Results**\n",
    "\n",
    "As you can see from above, the VIF for all the variables are low.\n",
    "None of the variables has a VIF exceeding 5. "
   ]
  },
  {
   "cell_type": "markdown",
   "metadata": {},
   "source": [
    "**MODEL BUILDING**\n",
    "\n",
    "\n"
   ]
  },
  {
   "cell_type": "markdown",
   "metadata": {},
   "source": [
    "**Model Evaluation with Statsmodel**"
   ]
  },
  {
   "cell_type": "code",
   "execution_count": 57,
   "metadata": {},
   "outputs": [],
   "source": [
    "y = df['log_price']\n",
    "x1 =df[['Rooms','Distance', 'Bathroom', 'Car', 'Landsize',\n",
    "       'BuildingArea', 'YearBuilt', 'Lattitude', 'Longtitude', 'Propertycount',\n",
    "       'Age']]"
   ]
  },
  {
   "cell_type": "code",
   "execution_count": 58,
   "metadata": {},
   "outputs": [
    {
     "data": {
      "text/html": [
       "<table class=\"simpletable\">\n",
       "<caption>OLS Regression Results</caption>\n",
       "<tr>\n",
       "  <th>Dep. Variable:</th>        <td>log_price</td>    <th>  R-squared:         </th> <td>   0.409</td> \n",
       "</tr>\n",
       "<tr>\n",
       "  <th>Model:</th>                   <td>OLS</td>       <th>  Adj. R-squared:    </th> <td>   0.408</td> \n",
       "</tr>\n",
       "<tr>\n",
       "  <th>Method:</th>             <td>Least Squares</td>  <th>  F-statistic:       </th> <td>   2402.</td> \n",
       "</tr>\n",
       "<tr>\n",
       "  <th>Date:</th>             <td>Thu, 08 Oct 2020</td> <th>  Prob (F-statistic):</th>  <td>  0.00</td>  \n",
       "</tr>\n",
       "<tr>\n",
       "  <th>Time:</th>                 <td>20:09:34</td>     <th>  Log-Likelihood:    </th> <td> -12985.</td> \n",
       "</tr>\n",
       "<tr>\n",
       "  <th>No. Observations:</th>      <td> 34781</td>      <th>  AIC:               </th> <td>2.599e+04</td>\n",
       "</tr>\n",
       "<tr>\n",
       "  <th>Df Residuals:</th>          <td> 34770</td>      <th>  BIC:               </th> <td>2.608e+04</td>\n",
       "</tr>\n",
       "<tr>\n",
       "  <th>Df Model:</th>              <td>    10</td>      <th>                     </th>     <td> </td>    \n",
       "</tr>\n",
       "<tr>\n",
       "  <th>Covariance Type:</th>      <td>nonrobust</td>    <th>                     </th>     <td> </td>    \n",
       "</tr>\n",
       "</table>\n",
       "<table class=\"simpletable\">\n",
       "<tr>\n",
       "        <td></td>           <th>coef</th>     <th>std err</th>      <th>t</th>      <th>P>|t|</th>  <th>[0.025</th>    <th>0.975]</th>  \n",
       "</tr>\n",
       "<tr>\n",
       "  <th>const</th>         <td>-5.459e-05</td> <td> 1.31e-06</td> <td>  -41.793</td> <td> 0.000</td> <td>-5.71e-05</td> <td> -5.2e-05</td>\n",
       "</tr>\n",
       "<tr>\n",
       "  <th>Rooms</th>         <td>    0.2257</td> <td>    0.002</td> <td>   92.080</td> <td> 0.000</td> <td>    0.221</td> <td>    0.231</td>\n",
       "</tr>\n",
       "<tr>\n",
       "  <th>Distance</th>      <td>   -0.0234</td> <td>    0.000</td> <td>  -76.514</td> <td> 0.000</td> <td>   -0.024</td> <td>   -0.023</td>\n",
       "</tr>\n",
       "<tr>\n",
       "  <th>Bathroom</th>      <td>    0.0478</td> <td>    0.004</td> <td>   13.129</td> <td> 0.000</td> <td>    0.041</td> <td>    0.055</td>\n",
       "</tr>\n",
       "<tr>\n",
       "  <th>Car</th>           <td>    0.0299</td> <td>    0.002</td> <td>   12.750</td> <td> 0.000</td> <td>    0.025</td> <td>    0.035</td>\n",
       "</tr>\n",
       "<tr>\n",
       "  <th>Landsize</th>      <td> 4.255e-06</td> <td> 6.85e-07</td> <td>    6.212</td> <td> 0.000</td> <td> 2.91e-06</td> <td>  5.6e-06</td>\n",
       "</tr>\n",
       "<tr>\n",
       "  <th>BuildingArea</th>  <td> 4.789e-05</td> <td> 7.56e-06</td> <td>    6.332</td> <td> 0.000</td> <td> 3.31e-05</td> <td> 6.27e-05</td>\n",
       "</tr>\n",
       "<tr>\n",
       "  <th>YearBuilt</th>     <td>   -0.0563</td> <td>    0.001</td> <td>  -42.887</td> <td> 0.000</td> <td>   -0.059</td> <td>   -0.054</td>\n",
       "</tr>\n",
       "<tr>\n",
       "  <th>Lattitude</th>     <td>   -0.8829</td> <td>    0.026</td> <td>  -34.525</td> <td> 0.000</td> <td>   -0.933</td> <td>   -0.833</td>\n",
       "</tr>\n",
       "<tr>\n",
       "  <th>Longtitude</th>    <td>    0.6436</td> <td>    0.019</td> <td>   33.243</td> <td> 0.000</td> <td>    0.606</td> <td>    0.682</td>\n",
       "</tr>\n",
       "<tr>\n",
       "  <th>Propertycount</th> <td>-4.509e-06</td> <td> 4.27e-07</td> <td>  -10.560</td> <td> 0.000</td> <td>-5.35e-06</td> <td>-3.67e-06</td>\n",
       "</tr>\n",
       "<tr>\n",
       "  <th>Age</th>           <td>   -0.0538</td> <td>    0.001</td> <td>  -40.669</td> <td> 0.000</td> <td>   -0.056</td> <td>   -0.051</td>\n",
       "</tr>\n",
       "</table>\n",
       "<table class=\"simpletable\">\n",
       "<tr>\n",
       "  <th>Omnibus:</th>       <td>1146.004</td> <th>  Durbin-Watson:     </th> <td>   1.800</td>\n",
       "</tr>\n",
       "<tr>\n",
       "  <th>Prob(Omnibus):</th>  <td> 0.000</td>  <th>  Jarque-Bera (JB):  </th> <td>1925.668</td>\n",
       "</tr>\n",
       "<tr>\n",
       "  <th>Skew:</th>           <td> 0.294</td>  <th>  Prob(JB):          </th> <td>    0.00</td>\n",
       "</tr>\n",
       "<tr>\n",
       "  <th>Kurtosis:</th>       <td> 3.992</td>  <th>  Cond. No.          </th> <td>2.14e+17</td>\n",
       "</tr>\n",
       "</table><br/><br/>Warnings:<br/>[1] Standard Errors assume that the covariance matrix of the errors is correctly specified.<br/>[2] The smallest eigenvalue is 6.07e-23. This might indicate that there are<br/>strong multicollinearity problems or that the design matrix is singular."
      ],
      "text/plain": [
       "<class 'statsmodels.iolib.summary.Summary'>\n",
       "\"\"\"\n",
       "                            OLS Regression Results                            \n",
       "==============================================================================\n",
       "Dep. Variable:              log_price   R-squared:                       0.409\n",
       "Model:                            OLS   Adj. R-squared:                  0.408\n",
       "Method:                 Least Squares   F-statistic:                     2402.\n",
       "Date:                Thu, 08 Oct 2020   Prob (F-statistic):               0.00\n",
       "Time:                        20:09:34   Log-Likelihood:                -12985.\n",
       "No. Observations:               34781   AIC:                         2.599e+04\n",
       "Df Residuals:                   34770   BIC:                         2.608e+04\n",
       "Df Model:                          10                                         \n",
       "Covariance Type:            nonrobust                                         \n",
       "=================================================================================\n",
       "                    coef    std err          t      P>|t|      [0.025      0.975]\n",
       "---------------------------------------------------------------------------------\n",
       "const         -5.459e-05   1.31e-06    -41.793      0.000   -5.71e-05    -5.2e-05\n",
       "Rooms             0.2257      0.002     92.080      0.000       0.221       0.231\n",
       "Distance         -0.0234      0.000    -76.514      0.000      -0.024      -0.023\n",
       "Bathroom          0.0478      0.004     13.129      0.000       0.041       0.055\n",
       "Car               0.0299      0.002     12.750      0.000       0.025       0.035\n",
       "Landsize       4.255e-06   6.85e-07      6.212      0.000    2.91e-06     5.6e-06\n",
       "BuildingArea   4.789e-05   7.56e-06      6.332      0.000    3.31e-05    6.27e-05\n",
       "YearBuilt        -0.0563      0.001    -42.887      0.000      -0.059      -0.054\n",
       "Lattitude        -0.8829      0.026    -34.525      0.000      -0.933      -0.833\n",
       "Longtitude        0.6436      0.019     33.243      0.000       0.606       0.682\n",
       "Propertycount -4.509e-06   4.27e-07    -10.560      0.000   -5.35e-06   -3.67e-06\n",
       "Age              -0.0538      0.001    -40.669      0.000      -0.056      -0.051\n",
       "==============================================================================\n",
       "Omnibus:                     1146.004   Durbin-Watson:                   1.800\n",
       "Prob(Omnibus):                  0.000   Jarque-Bera (JB):             1925.668\n",
       "Skew:                           0.294   Prob(JB):                         0.00\n",
       "Kurtosis:                       3.992   Cond. No.                     2.14e+17\n",
       "==============================================================================\n",
       "\n",
       "Warnings:\n",
       "[1] Standard Errors assume that the covariance matrix of the errors is correctly specified.\n",
       "[2] The smallest eigenvalue is 6.07e-23. This might indicate that there are\n",
       "strong multicollinearity problems or that the design matrix is singular.\n",
       "\"\"\""
      ]
     },
     "execution_count": 58,
     "metadata": {},
     "output_type": "execute_result"
    }
   ],
   "source": [
    "x = sm.add_constant (x1)\n",
    "results = sm.OLS(y,x).fit()\n",
    "results.summary ()"
   ]
  },
  {
   "cell_type": "markdown",
   "metadata": {},
   "source": [
    "**Results**\n",
    "\n",
    "The adjusted R-square is 40% - meaning that the model only explained 40% of the variance.\n",
    "\n",
    "All of the variables are statistically significant at the p = 0.05 level.\n",
    "\n",
    "There is strong evidence to reject the null-hypothesis H0.\n",
    "\n",
    "All of the varaibles are statistically significant in explaination variation in Price.\n",
    "\n",
    "Buyers put a lot of emphasis on car lots and the number of rooms when deciding to purchase a home.\n",
    "\n",
    "There is an invese relationship between distance and Price. Hose price decrease further away from the CBD.\n",
    "\n"
   ]
  },
  {
   "cell_type": "markdown",
   "metadata": {},
   "source": [
    "**STEP 2: SK LEARN - SETTING VARIABLES**"
   ]
  },
  {
   "cell_type": "markdown",
   "metadata": {},
   "source": [
    "**Model Evaluation with scikit-learn**"
   ]
  },
  {
   "cell_type": "code",
   "execution_count": 59,
   "metadata": {},
   "outputs": [],
   "source": [
    "##Assigned feature colums as a list:X\n",
    "#Assign to y the response variable \n",
    "y = df['log_price']\n",
    "X=df[['Rooms','Distance', 'Bathroom', 'Car', 'Landsize',\n",
    "       'BuildingArea', 'YearBuilt', 'Lattitude', 'Longtitude', 'Propertycount',\n",
    "       'Age']]"
   ]
  },
  {
   "cell_type": "code",
   "execution_count": 60,
   "metadata": {},
   "outputs": [
    {
     "data": {
      "text/html": [
       "<div>\n",
       "<style scoped>\n",
       "    .dataframe tbody tr th:only-of-type {\n",
       "        vertical-align: middle;\n",
       "    }\n",
       "\n",
       "    .dataframe tbody tr th {\n",
       "        vertical-align: top;\n",
       "    }\n",
       "\n",
       "    .dataframe thead th {\n",
       "        text-align: right;\n",
       "    }\n",
       "</style>\n",
       "<table border=\"1\" class=\"dataframe\">\n",
       "  <thead>\n",
       "    <tr style=\"text-align: right;\">\n",
       "      <th></th>\n",
       "      <th>Rooms</th>\n",
       "      <th>Distance</th>\n",
       "      <th>Bathroom</th>\n",
       "      <th>Car</th>\n",
       "      <th>Landsize</th>\n",
       "      <th>BuildingArea</th>\n",
       "      <th>YearBuilt</th>\n",
       "      <th>Lattitude</th>\n",
       "      <th>Longtitude</th>\n",
       "      <th>Propertycount</th>\n",
       "      <th>Age</th>\n",
       "    </tr>\n",
       "  </thead>\n",
       "  <tbody>\n",
       "    <tr>\n",
       "      <th>0</th>\n",
       "      <td>2</td>\n",
       "      <td>2.5</td>\n",
       "      <td>1.0</td>\n",
       "      <td>1.0</td>\n",
       "      <td>126.0</td>\n",
       "      <td>161.147626</td>\n",
       "      <td>1965.251018</td>\n",
       "      <td>-37.8014</td>\n",
       "      <td>144.9958</td>\n",
       "      <td>4019.0</td>\n",
       "      <td>51.748982</td>\n",
       "    </tr>\n",
       "    <tr>\n",
       "      <th>1</th>\n",
       "      <td>2</td>\n",
       "      <td>2.5</td>\n",
       "      <td>1.0</td>\n",
       "      <td>1.0</td>\n",
       "      <td>202.0</td>\n",
       "      <td>161.147626</td>\n",
       "      <td>1965.251018</td>\n",
       "      <td>-37.7996</td>\n",
       "      <td>144.9984</td>\n",
       "      <td>4019.0</td>\n",
       "      <td>51.748982</td>\n",
       "    </tr>\n",
       "    <tr>\n",
       "      <th>2</th>\n",
       "      <td>2</td>\n",
       "      <td>2.5</td>\n",
       "      <td>1.0</td>\n",
       "      <td>0.0</td>\n",
       "      <td>156.0</td>\n",
       "      <td>79.000000</td>\n",
       "      <td>1900.000000</td>\n",
       "      <td>-37.8079</td>\n",
       "      <td>144.9934</td>\n",
       "      <td>4019.0</td>\n",
       "      <td>117.000000</td>\n",
       "    </tr>\n",
       "    <tr>\n",
       "      <th>3</th>\n",
       "      <td>3</td>\n",
       "      <td>2.5</td>\n",
       "      <td>2.0</td>\n",
       "      <td>1.0</td>\n",
       "      <td>0.0</td>\n",
       "      <td>161.147626</td>\n",
       "      <td>1965.251018</td>\n",
       "      <td>-37.8114</td>\n",
       "      <td>145.0116</td>\n",
       "      <td>4019.0</td>\n",
       "      <td>51.748982</td>\n",
       "    </tr>\n",
       "    <tr>\n",
       "      <th>4</th>\n",
       "      <td>3</td>\n",
       "      <td>2.5</td>\n",
       "      <td>2.0</td>\n",
       "      <td>0.0</td>\n",
       "      <td>134.0</td>\n",
       "      <td>150.000000</td>\n",
       "      <td>1900.000000</td>\n",
       "      <td>-37.8093</td>\n",
       "      <td>144.9944</td>\n",
       "      <td>4019.0</td>\n",
       "      <td>117.000000</td>\n",
       "    </tr>\n",
       "  </tbody>\n",
       "</table>\n",
       "</div>"
      ],
      "text/plain": [
       "   Rooms  Distance  Bathroom  Car  Landsize  BuildingArea    YearBuilt  \\\n",
       "0      2       2.5       1.0  1.0     126.0    161.147626  1965.251018   \n",
       "1      2       2.5       1.0  1.0     202.0    161.147626  1965.251018   \n",
       "2      2       2.5       1.0  0.0     156.0     79.000000  1900.000000   \n",
       "3      3       2.5       2.0  1.0       0.0    161.147626  1965.251018   \n",
       "4      3       2.5       2.0  0.0     134.0    150.000000  1900.000000   \n",
       "\n",
       "   Lattitude  Longtitude  Propertycount         Age  \n",
       "0   -37.8014    144.9958         4019.0   51.748982  \n",
       "1   -37.7996    144.9984         4019.0   51.748982  \n",
       "2   -37.8079    144.9934         4019.0  117.000000  \n",
       "3   -37.8114    145.0116         4019.0   51.748982  \n",
       "4   -37.8093    144.9944         4019.0  117.000000  "
      ]
     },
     "execution_count": 60,
     "metadata": {},
     "output_type": "execute_result"
    }
   ],
   "source": [
    "X.head()"
   ]
  },
  {
   "cell_type": "code",
   "execution_count": 61,
   "metadata": {},
   "outputs": [
    {
     "name": "stdout",
     "output_type": "stream",
     "text": [
      "<class 'pandas.core.frame.DataFrame'>\n",
      "(34781, 11)\n"
     ]
    }
   ],
   "source": [
    "# check the type and shape of X\n",
    "print(type(X))\n",
    "print(X.shape)"
   ]
  },
  {
   "cell_type": "code",
   "execution_count": 62,
   "metadata": {},
   "outputs": [
    {
     "data": {
      "text/plain": [
       "0    13.722717\n",
       "1    14.207553\n",
       "2    13.849912\n",
       "3    13.722717\n",
       "4    14.197366\n",
       "Name: log_price, dtype: float64"
      ]
     },
     "execution_count": 62,
     "metadata": {},
     "output_type": "execute_result"
    }
   ],
   "source": [
    "y.head()"
   ]
  },
  {
   "cell_type": "code",
   "execution_count": 63,
   "metadata": {},
   "outputs": [
    {
     "name": "stdout",
     "output_type": "stream",
     "text": [
      "The shape of our features is: (34781, 12)\n"
     ]
    }
   ],
   "source": [
    "print('The shape of our features is:', df.shape)"
   ]
  },
  {
   "cell_type": "code",
   "execution_count": 64,
   "metadata": {},
   "outputs": [
    {
     "name": "stdout",
     "output_type": "stream",
     "text": [
      "<class 'pandas.core.series.Series'>\n",
      "(34781,)\n"
     ]
    }
   ],
   "source": [
    "# check the type and shape of y\n",
    "print(type(y))\n",
    "print(y.shape)"
   ]
  },
  {
   "cell_type": "markdown",
   "metadata": {},
   "source": [
    "**STEP 3: SK LEARN - SPLITTING THE DATA**\n",
    "\n",
    "Splitting X and y into train and test sets:\n",
    "\n",
    "By passing our X and y variables into the train_test_split method, we are able to capture the splits in data by assigning 4 variables to the result."
   ]
  },
  {
   "cell_type": "markdown",
   "metadata": {},
   "source": [
    "**Data Partition**\n",
    "\n",
    "\n",
    "Let’s partition the data and start modeling.\n",
    "\n",
    "train_test_split() returns four objects:\n",
    "\n",
    "    X_train is the subset of our features used for training.\n",
    "    X_test is the subset which will be our ‘hold-out’ set – what we’ll use to test the model.\n",
    "    y_train is the target variable SalePrice which corresponds to X_train.\n",
    "    y_test is the target variable SalePrice which corresponds to X_test.\n"
   ]
  },
  {
   "cell_type": "markdown",
   "metadata": {},
   "source": [
    "**Begin Modelling**\n",
    "\n",
    "Let's first create the Linear Regression model."
   ]
  },
  {
   "cell_type": "code",
   "execution_count": 65,
   "metadata": {},
   "outputs": [],
   "source": [
    "# Train, test, split\n",
    "from sklearn.model_selection import train_test_split\n",
    "X_train, X_test, y_train, y_test = train_test_split(X,y, test_size = .20, random_state= 0)"
   ]
  },
  {
   "cell_type": "code",
   "execution_count": 66,
   "metadata": {},
   "outputs": [
    {
     "name": "stdout",
     "output_type": "stream",
     "text": [
      "(27824, 11)\n",
      "(6957, 11)\n",
      "(27824,)\n",
      "(6957,)\n"
     ]
    }
   ],
   "source": [
    "# Note by default, the  split is 75% for training and 25% for testing.\n",
    "#Here the test size is 20% and train size is 80%\n",
    "print(X_train.shape)\n",
    "print(X_test.shape)\n",
    "print(y_train.shape)\n",
    "print(y_test.shape)"
   ]
  },
  {
   "cell_type": "markdown",
   "metadata": {},
   "source": [
    "**Let's read the Shape of both the Training and Testing Samples**"
   ]
  },
  {
   "cell_type": "code",
   "execution_count": 67,
   "metadata": {},
   "outputs": [
    {
     "name": "stdout",
     "output_type": "stream",
     "text": [
      "Training Features Shape: (27824, 11)\n",
      "Training Outcome Shape: (6957, 11)\n",
      "Testing Features Shape: (27824,)\n",
      "Testing Outcome Shape: (6957,)\n"
     ]
    }
   ],
   "source": [
    "print('Training Features Shape:',X_train.shape )\n",
    "print('Training Outcome Shape:',X_test.shape)\n",
    "print('Testing Features Shape:',y_train.shape)\n",
    "print('Testing Outcome Shape:',y_test.shape)"
   ]
  },
  {
   "cell_type": "markdown",
   "metadata": {},
   "source": [
    "**STEP 4: SK LEARN - TRAINING THE MODEL**"
   ]
  },
  {
   "cell_type": "markdown",
   "metadata": {},
   "source": [
    "**Model Fitting**\n",
    "\n",
    "Let's fit the model. \n",
    "\n",
    "We are estimating the relatiionship between the independnet variables and the target variable to make accurate predictions.\n",
    "\n"
   ]
  },
  {
   "cell_type": "code",
   "execution_count": 68,
   "metadata": {},
   "outputs": [
    {
     "data": {
      "text/plain": [
       "LinearRegression()"
      ]
     },
     "execution_count": 68,
     "metadata": {},
     "output_type": "execute_result"
    }
   ],
   "source": [
    "# Fit\n",
    "# Import model\n",
    "from sklearn.linear_model import LinearRegression\n",
    "\n",
    "# Create linear regression object\n",
    "regressor = LinearRegression()\n",
    "\n",
    "# Fit model to training data\n",
    "regressor.fit(X_train,y_train)"
   ]
  },
  {
   "cell_type": "markdown",
   "metadata": {},
   "source": [
    "**STEP 5: INTERPRETING COEFFICIENTS**"
   ]
  },
  {
   "cell_type": "code",
   "execution_count": 69,
   "metadata": {},
   "outputs": [
    {
     "name": "stdout",
     "output_type": "stream",
     "text": [
      "-113.42068813478686\n"
     ]
    }
   ],
   "source": [
    "###print y-intercept\n",
    "print(regressor.intercept_)"
   ]
  },
  {
   "cell_type": "code",
   "execution_count": 70,
   "metadata": {},
   "outputs": [
    {
     "name": "stdout",
     "output_type": "stream",
     "text": [
      "[ 2.27943379e-01 -2.40196424e-02  4.53532670e-02  2.95185890e-02\n",
      "  9.07539035e-06  3.84524310e-05 -1.28249821e-03 -8.98946370e-01\n",
      "  6.55725096e-01 -4.09929285e-06  1.28249821e-03]\n"
     ]
    }
   ],
   "source": [
    "###print beta coefficients\n",
    "print(regressor.coef_)"
   ]
  },
  {
   "cell_type": "code",
   "execution_count": 71,
   "metadata": {},
   "outputs": [
    {
     "data": {
      "text/plain": [
       "<zip at 0x4809372680>"
      ]
     },
     "execution_count": 71,
     "metadata": {},
     "output_type": "execute_result"
    }
   ],
   "source": [
    "# pair the feature names with the coefficients\n",
    "# hard to remember the order, we so we python's zip function to pair the feature names with the coefficients\n",
    "zip(X, regressor.coef_)"
   ]
  },
  {
   "cell_type": "code",
   "execution_count": 72,
   "metadata": {},
   "outputs": [
    {
     "data": {
      "text/html": [
       "<div>\n",
       "<style scoped>\n",
       "    .dataframe tbody tr th:only-of-type {\n",
       "        vertical-align: middle;\n",
       "    }\n",
       "\n",
       "    .dataframe tbody tr th {\n",
       "        vertical-align: top;\n",
       "    }\n",
       "\n",
       "    .dataframe thead th {\n",
       "        text-align: right;\n",
       "    }\n",
       "</style>\n",
       "<table border=\"1\" class=\"dataframe\">\n",
       "  <thead>\n",
       "    <tr style=\"text-align: right;\">\n",
       "      <th></th>\n",
       "      <th>Coefficients</th>\n",
       "    </tr>\n",
       "  </thead>\n",
       "  <tbody>\n",
       "    <tr>\n",
       "      <th>Rooms</th>\n",
       "      <td>0.227943</td>\n",
       "    </tr>\n",
       "    <tr>\n",
       "      <th>Distance</th>\n",
       "      <td>-0.024020</td>\n",
       "    </tr>\n",
       "    <tr>\n",
       "      <th>Bathroom</th>\n",
       "      <td>0.045353</td>\n",
       "    </tr>\n",
       "    <tr>\n",
       "      <th>Car</th>\n",
       "      <td>0.029519</td>\n",
       "    </tr>\n",
       "    <tr>\n",
       "      <th>Landsize</th>\n",
       "      <td>0.000009</td>\n",
       "    </tr>\n",
       "    <tr>\n",
       "      <th>BuildingArea</th>\n",
       "      <td>0.000038</td>\n",
       "    </tr>\n",
       "    <tr>\n",
       "      <th>YearBuilt</th>\n",
       "      <td>-0.001282</td>\n",
       "    </tr>\n",
       "    <tr>\n",
       "      <th>Lattitude</th>\n",
       "      <td>-0.898946</td>\n",
       "    </tr>\n",
       "    <tr>\n",
       "      <th>Longtitude</th>\n",
       "      <td>0.655725</td>\n",
       "    </tr>\n",
       "    <tr>\n",
       "      <th>Propertycount</th>\n",
       "      <td>-0.000004</td>\n",
       "    </tr>\n",
       "    <tr>\n",
       "      <th>Age</th>\n",
       "      <td>0.001282</td>\n",
       "    </tr>\n",
       "  </tbody>\n",
       "</table>\n",
       "</div>"
      ],
      "text/plain": [
       "               Coefficients\n",
       "Rooms              0.227943\n",
       "Distance          -0.024020\n",
       "Bathroom           0.045353\n",
       "Car                0.029519\n",
       "Landsize           0.000009\n",
       "BuildingArea       0.000038\n",
       "YearBuilt         -0.001282\n",
       "Lattitude         -0.898946\n",
       "Longtitude         0.655725\n",
       "Propertycount     -0.000004\n",
       "Age                0.001282"
      ]
     },
     "execution_count": 72,
     "metadata": {},
     "output_type": "execute_result"
    }
   ],
   "source": [
    "##Coefficient in table format\n",
    "cdf = pd.DataFrame(data = regressor.coef_, index = X.columns, columns = ['Coefficients'])\n",
    "cdf"
   ]
  },
  {
   "cell_type": "markdown",
   "metadata": {},
   "source": [
    "**The top predictive features that we see here are very plausible**\n",
    "\n",
    "At the very top there are Rooms, Distance, Bathroom, Car and Longititude that are associated with higher price. "
   ]
  },
  {
   "cell_type": "code",
   "execution_count": 73,
   "metadata": {},
   "outputs": [
    {
     "data": {
      "image/png": "[encoded data removed]",
      "text/plain": [
       "<Figure size 648x504 with 1 Axes>"
      ]
     },
     "metadata": {},
     "output_type": "display_data"
    }
   ],
   "source": [
    "cdf.plot(kind='barh', figsize=(9, 7))\n",
    "plt.title('Ridge model, small regularization')\n",
    "plt.axvline(x=0, color='.5')\n",
    "plt.subplots_adjust(left=.3)"
   ]
  },
  {
   "cell_type": "markdown",
   "metadata": {},
   "source": [
    "A closer look at the plot figure above shows that longtitude is the most important factor that affects house price.\n",
    "\n",
    "the number of rooms, bathrooms, and car lots are also significant in house price."
   ]
  },
  {
   "cell_type": "markdown",
   "metadata": {},
   "source": [
    "**STEP 6: MAKING PREDICTIONS**\n",
    "\n",
    "Making prediction is base on the code below - passing the predict method with your test data.\n",
    "\n",
    "This will return the predicted values of y given the text X data.\n"
   ]
  },
  {
   "cell_type": "code",
   "execution_count": 74,
   "metadata": {},
   "outputs": [],
   "source": [
    "# Predict\n",
    "# Predicting test set results\n",
    "y_pred = regressor.predict(X_test)"
   ]
  },
  {
   "cell_type": "markdown",
   "metadata": {},
   "source": [
    "**STEP 7: MODEL EVALUATOIN**\n",
    "\n",
    "Evaluation metrics for classification problems, such as accuracy, are not useful for regression problems. Instead, we need evaluation metrics designed for comparing continuous values.\n",
    "\n",
    "There are three primary metrics to evaluate regression models:\n",
    " - Mean absolute error (MAE)\n",
    " - Mean squared error (MSE), or\n",
    " - Root mean squared error (RMSE).\n",
    " \n",
    " MAE: The easiest to understand. Represents average error\n",
    "\n",
    "MSE: Similar to MAE but noise is exaggerated and larger errors are “punished”. It is harder to interpret than MAE as it’s not in base units, however, it is generally more popular.\n",
    "\n",
    "RMSE: Most popular metric, similar to MSE, however, the result is square rooted to make it more interpretable as it’s in base units. It is recommended that RMSE be used as the primary metric to interpret your model.\n",
    "\n",
    "source: https://towardsdatascience.com/linear-regression-in-python-9a1f5f000606"
   ]
  },
  {
   "cell_type": "code",
   "execution_count": 75,
   "metadata": {},
   "outputs": [
    {
     "name": "stdout",
     "output_type": "stream",
     "text": [
      "MAE: 0.2740532210562559\n",
      "MSE: 0.12576627959255576\n",
      "RMSE: 0.3546354178484656\n"
     ]
    }
   ],
   "source": [
    "from sklearn import metrics\n",
    "print('MAE:',metrics.mean_absolute_error(y_test,y_pred))\n",
    "print('MSE:',metrics.mean_squared_error(y_test,y_pred))\n",
    "print('RMSE:',np.sqrt(metrics.mean_squared_error(y_test,y_pred)))"
   ]
  },
  {
   "cell_type": "markdown",
   "metadata": {},
   "source": [
    "RMSE shows how much the model prediction deviate form the actual value. In this case, the predicted value is $354,635 away from the actual value."
   ]
  },
  {
   "cell_type": "code",
   "execution_count": 76,
   "metadata": {},
   "outputs": [
    {
     "name": "stdout",
     "output_type": "stream",
     "text": [
      "R^2 = 0.38563082217029254\n"
     ]
    }
   ],
   "source": [
    "# Calculated R Squared\n",
    "print('R^2 =',metrics.explained_variance_score(y_test,y_pred))"
   ]
  },
  {
   "cell_type": "markdown",
   "metadata": {},
   "source": [
    "The feature variables only explaned 39% of the variance."
   ]
  },
  {
   "cell_type": "markdown",
   "metadata": {},
   "source": [
    "Interpreting the RMSE is somewhat more intuitive than the r-squared value. \n",
    "\n",
    "The RMSE measures the distance between our predicted values and actual values.\n",
    "\n",
    "We can view this relationship graphically with a scatter plot."
   ]
  },
  {
   "cell_type": "markdown",
   "metadata": {},
   "source": [
    "**Calculate the RSME and R_Square for the Test and Train Data**\n"
   ]
  },
  {
   "cell_type": "code",
   "execution_count": 77,
   "metadata": {},
   "outputs": [
    {
     "name": "stdout",
     "output_type": "stream",
     "text": [
      "0.35103288651956105\n",
      "R^2 = 0.41294764870228795\n",
      "0.3546354178484656\n",
      "R^2 = 0.38563082217029254\n"
     ]
    }
   ],
   "source": [
    "pred_train_regressor= regressor.predict(X_train)\n",
    "print(np.sqrt(metrics.mean_squared_error(y_train,pred_train_regressor)))\n",
    "print('R^2 =',metrics.explained_variance_score(y_train,pred_train_regressor))\n",
    "\n",
    "pred_test_regressor= regressor.predict(X_test)\n",
    "print(np.sqrt(metrics.mean_squared_error(y_test,pred_test_regressor))) \n",
    "print('R^2 =',metrics.explained_variance_score(y_test,pred_test_regressor))        "
   ]
  },
  {
   "cell_type": "markdown",
   "metadata": {},
   "source": [
    "**STEP 8: ANALYZE THE RESIDUALS**"
   ]
  },
  {
   "cell_type": "markdown",
   "metadata": {},
   "source": [
    "Plot one sows the prediction with the alpha set at .7\n",
    "\n",
    "Plot two shows a regular residual plot without the alpha."
   ]
  },
  {
   "cell_type": "code",
   "execution_count": 78,
   "metadata": {},
   "outputs": [
    {
     "data": {
      "image/png": "[encoded data removed]",
      "text/plain": [
       "<Figure size 432x288 with 1 Axes>"
      ]
     },
     "metadata": {},
     "output_type": "display_data"
    }
   ],
   "source": [
    "actual_values = y_test\n",
    "plt.scatter(y_pred, actual_values, alpha=.7,\n",
    "            color='b') #alpha helps to show overlapping data\n",
    "plt.xlabel('Predicted Price')\n",
    "plt.ylabel('Actual Price')\n",
    "plt.title('Linear Regression Model')\n",
    "plt.show()"
   ]
  },
  {
   "cell_type": "code",
   "execution_count": 79,
   "metadata": {},
   "outputs": [
    {
     "data": {
      "image/png": "[encoded data removed]",
      "text/plain": [
       "<Figure size 432x288 with 1 Axes>"
      ]
     },
     "metadata": {},
     "output_type": "display_data"
    }
   ],
   "source": [
    "# Actual v predictions scatter\n",
    "plt.scatter(y_test, y_pred)\n",
    "plt.xlabel('Predicted Price')\n",
    "plt.ylabel('Actual Price')\n",
    "plt.title('Linear Regression Model')\n",
    "plt.show()"
   ]
  },
  {
   "cell_type": "markdown",
   "metadata": {},
   "source": [
    "If our predicted values were identical to the actual values, this graph would be the straight line y=x because each predicted value x would be equal to each actual value y."
   ]
  },
  {
   "cell_type": "code",
   "execution_count": 80,
   "metadata": {},
   "outputs": [
    {
     "data": {
      "text/plain": [
       "<matplotlib.axes._subplots.AxesSubplot at 0x480a952040>"
      ]
     },
     "execution_count": 80,
     "metadata": {},
     "output_type": "execute_result"
    },
    {
     "data": {
      "image/png": "[encoded data removed]",
      "text/plain": [
       "<Figure size 432x288 with 1 Axes>"
      ]
     },
     "metadata": {},
     "output_type": "display_data"
    }
   ],
   "source": [
    "# Histogram of the distribution of residuals\n",
    "sns.distplot((y_test - y_pred))"
   ]
  },
  {
   "cell_type": "code",
   "execution_count": 81,
   "metadata": {},
   "outputs": [
    {
     "data": {
      "text/html": [
       "<div>\n",
       "<style scoped>\n",
       "    .dataframe tbody tr th:only-of-type {\n",
       "        vertical-align: middle;\n",
       "    }\n",
       "\n",
       "    .dataframe tbody tr th {\n",
       "        vertical-align: top;\n",
       "    }\n",
       "\n",
       "    .dataframe thead th {\n",
       "        text-align: right;\n",
       "    }\n",
       "</style>\n",
       "<table border=\"1\" class=\"dataframe\">\n",
       "  <thead>\n",
       "    <tr style=\"text-align: right;\">\n",
       "      <th></th>\n",
       "      <th>Actual</th>\n",
       "      <th>Predicted</th>\n",
       "    </tr>\n",
       "  </thead>\n",
       "  <tbody>\n",
       "    <tr>\n",
       "      <th>6938</th>\n",
       "      <td>13.72</td>\n",
       "      <td>13.68</td>\n",
       "    </tr>\n",
       "    <tr>\n",
       "      <th>24367</th>\n",
       "      <td>13.72</td>\n",
       "      <td>13.58</td>\n",
       "    </tr>\n",
       "    <tr>\n",
       "      <th>17627</th>\n",
       "      <td>13.12</td>\n",
       "      <td>13.00</td>\n",
       "    </tr>\n",
       "    <tr>\n",
       "      <th>18568</th>\n",
       "      <td>13.20</td>\n",
       "      <td>13.35</td>\n",
       "    </tr>\n",
       "    <tr>\n",
       "      <th>32870</th>\n",
       "      <td>14.08</td>\n",
       "      <td>13.41</td>\n",
       "    </tr>\n",
       "    <tr>\n",
       "      <th>8326</th>\n",
       "      <td>13.29</td>\n",
       "      <td>13.66</td>\n",
       "    </tr>\n",
       "    <tr>\n",
       "      <th>29199</th>\n",
       "      <td>14.00</td>\n",
       "      <td>13.53</td>\n",
       "    </tr>\n",
       "    <tr>\n",
       "      <th>7357</th>\n",
       "      <td>13.83</td>\n",
       "      <td>13.66</td>\n",
       "    </tr>\n",
       "    <tr>\n",
       "      <th>1034</th>\n",
       "      <td>13.72</td>\n",
       "      <td>14.13</td>\n",
       "    </tr>\n",
       "    <tr>\n",
       "      <th>1759</th>\n",
       "      <td>13.72</td>\n",
       "      <td>13.54</td>\n",
       "    </tr>\n",
       "  </tbody>\n",
       "</table>\n",
       "</div>"
      ],
      "text/plain": [
       "       Actual  Predicted\n",
       "6938    13.72      13.68\n",
       "24367   13.72      13.58\n",
       "17627   13.12      13.00\n",
       "18568   13.20      13.35\n",
       "32870   14.08      13.41\n",
       "8326    13.29      13.66\n",
       "29199   14.00      13.53\n",
       "7357    13.83      13.66\n",
       "1034    13.72      14.13\n",
       "1759    13.72      13.54"
      ]
     },
     "execution_count": 81,
     "metadata": {},
     "output_type": "execute_result"
    }
   ],
   "source": [
    "df_mean_imputed = pd.DataFrame({'Actual': np.round(y_test, 2), \n",
    "                   'Predicted': np.round(y_pred, 2)})\n",
    "df_mean_imputed.head(10)"
   ]
  },
  {
   "cell_type": "markdown",
   "metadata": {},
   "source": [
    "**Conclusion**"
   ]
  },
  {
   "cell_type": "markdown",
   "metadata": {},
   "source": [
    "The model has weak adjusted r-square.\n",
    "\n",
    "40% of the variane in house prices aere exlplained by the model.\n",
    "\n",
    "the number of bathroms and car lots are significant variables in house price.\n",
    "\n",
    "Distance has an invesere relationship with house price. The farther away from the CBD, the less expensive is the price of a house.\n"
   ]
  },
  {
   "cell_type": "markdown",
   "metadata": {},
   "source": [
    "**RANDOM FOREST**"
   ]
  },
  {
   "cell_type": "code",
   "execution_count": 82,
   "metadata": {},
   "outputs": [],
   "source": [
    "import numpy as np\n",
    "import pandas as pd\n",
    "from sklearn.model_selection import train_test_split\n",
    "from sklearn.ensemble import RandomForestRegressor\n",
    "from sklearn.model_selection import cross_val_score, GridSearchCV\n",
    "from sklearn.preprocessing import MinMaxScaler\n",
    "from sklearn.metrics import r2_score,mean_squared_error\n",
    "import seaborn as sns"
   ]
  },
  {
   "cell_type": "markdown",
   "metadata": {},
   "source": [
    "**Feature Scaling**"
   ]
  },
  {
   "cell_type": "code",
   "execution_count": 83,
   "metadata": {},
   "outputs": [],
   "source": [
    "# Feature scaline\n",
    "from sklearn.preprocessing import StandardScaler\n",
    "\n",
    "sc = StandardScaler()\n",
    "X_train = sc.fit_transform(X_train)\n",
    "X_test = sc.transform(X_test)"
   ]
  },
  {
   "cell_type": "markdown",
   "metadata": {},
   "source": [
    "**Training the Model**\n",
    "\n",
    "Let's use x_train and y_train to train the random forst model by using the *fit* method.\n"
   ]
  },
  {
   "cell_type": "code",
   "execution_count": 84,
   "metadata": {},
   "outputs": [
    {
     "data": {
      "text/plain": [
       "RandomForestRegressor(n_estimators=20, random_state=0)"
      ]
     },
     "execution_count": 84,
     "metadata": {},
     "output_type": "execute_result"
    }
   ],
   "source": [
    "# Instantiate model with 20 decision trees\n",
    "regressor = RandomForestRegressor(n_estimators = 20, random_state = 0) \n",
    "# Train the model on training data\n",
    "regressor.fit(X_train,y_train)"
   ]
  },
  {
   "cell_type": "markdown",
   "metadata": {},
   "source": [
    "**Make Prediction on the Test Set**\n",
    "\n",
    "To make prediction, we can use the predict method and pass *x_test* as a parameter to get the output as *y_pred*\n",
    "\n",
    "Note that the prediction output is an array of real number corresponding tot he input array."
   ]
  },
  {
   "cell_type": "code",
   "execution_count": 85,
   "metadata": {},
   "outputs": [
    {
     "data": {
      "text/plain": [
       "array([14.06278597, 13.57213732, 13.3103683 , ..., 13.70891221,\n",
       "       14.15805256, 14.00753808])"
      ]
     },
     "execution_count": 85,
     "metadata": {},
     "output_type": "execute_result"
    }
   ],
   "source": [
    "# Use the forest's predict method on the test data\n",
    "y_pred = regressor.predict(X_test)\n",
    "y_pred"
   ]
  },
  {
   "cell_type": "markdown",
   "metadata": {},
   "source": [
    "**Making Prediction with the Model**"
   ]
  },
  {
   "cell_type": "code",
   "execution_count": 86,
   "metadata": {},
   "outputs": [
    {
     "name": "stdout",
     "output_type": "stream",
     "text": [
      "Mean Absolute Error: 0.22 price.\n"
     ]
    }
   ],
   "source": [
    "errors =abs(y_pred-y_test)\n",
    "# Print out the mean absolute error (mae)\n",
    "print('Mean Absolute Error:', round(np.mean(errors), 2), 'price.')"
   ]
  },
  {
   "cell_type": "markdown",
   "metadata": {},
   "source": [
    "Our average estimate of price is off by .22\n",
    "\n",
    "We don't have a baseline to compare the price. \n",
    "\n",
    "However, the small amount can still represent thousands of dollars."
   ]
  },
  {
   "cell_type": "markdown",
   "metadata": {},
   "source": [
    "**Model Evaluation**\n",
    "\n",
    "The final step is to check how the model is performing on the test data.\n",
    "\n",
    "To do this, we will evaluate the model using the RMSE.\n"
   ]
  },
  {
   "cell_type": "code",
   "execution_count": 87,
   "metadata": {},
   "outputs": [
    {
     "name": "stdout",
     "output_type": "stream",
     "text": [
      "Mean Absolute Error: 0.21942526378068855\n",
      "Mean Squared Error: 0.08871208269930946\n",
      "Root Mean Squared Error: 0.2978457364128442\n"
     ]
    }
   ],
   "source": [
    "from sklearn import metrics\n",
    "\n",
    "print('Mean Absolute Error:', metrics.mean_absolute_error(y_test, y_pred))\n",
    "print('Mean Squared Error:', metrics.mean_squared_error(y_test, y_pred))\n",
    "print('Root Mean Squared Error:', np.sqrt(metrics.mean_squared_error(y_test, y_pred)))\n",
    "\n",
    "def metrics_(y_test,y_pred, X_train, y_train):\n",
    "    \n",
    "    ## MAE, RMSE & MSE\n",
    "    MAE_test   = metrics.mean_absolute_error(y_test, y_pred)\n",
    "    MSE_test   = metrics.mean_squared_error(y_test, y_pred)\n",
    "    \n",
    "    ## Rsq\n",
    "    R2_test    = metrics.explained_variance_score(y_test,pred_test_regressor)\n",
    "    \n",
    "    all_       = [MAE_test, MSE_test, R2_test]\n",
    "    \n",
    "    return all_"
   ]
  },
  {
   "cell_type": "markdown",
   "metadata": {},
   "source": [
    "With 20 trees, the RSME is 301,502.\n"
   ]
  },
  {
   "cell_type": "markdown",
   "metadata": {},
   "source": [
    "**RSME and R_Square for both train and test sets**"
   ]
  },
  {
   "cell_type": "code",
   "execution_count": 88,
   "metadata": {},
   "outputs": [
    {
     "name": "stdout",
     "output_type": "stream",
     "text": [
      "0.1632247368139623\n",
      "R^2 = 0.8730745878897953\n",
      "0.2978457364128442\n",
      "R^2 = 0.5668006280848192\n"
     ]
    }
   ],
   "source": [
    "pred_train_regressor= regressor.predict(X_train)\n",
    "print(np.sqrt(metrics.mean_squared_error(y_train,pred_train_regressor)))\n",
    "print('R^2 =',metrics.explained_variance_score(y_train,pred_train_regressor))\n",
    "\n",
    "pred_test_regressor= regressor.predict(X_test)\n",
    "print(np.sqrt(metrics.mean_squared_error(y_test,pred_test_regressor))) \n",
    "print('R^2 =',metrics.explained_variance_score(y_test,pred_test_regressor)) "
   ]
  },
  {
   "cell_type": "markdown",
   "metadata": {},
   "source": [
    "The RMSE is 302, 409 and is not far away from the RMSE in the linear regression model."
   ]
  },
  {
   "cell_type": "markdown",
   "metadata": {},
   "source": [
    "**Accuracy**\n",
    "\n",
    "To put our predictions in perspective, let's calculate the  accuracy."
   ]
  },
  {
   "cell_type": "code",
   "execution_count": 89,
   "metadata": {},
   "outputs": [
    {
     "name": "stdout",
     "output_type": "stream",
     "text": [
      "Accuracy: 98.41 %.\n"
     ]
    }
   ],
   "source": [
    "# Calculate mean absolute percentage error (MAPE)\n",
    "mape = 100 * (errors /y_test)# Calculate and display accuracy\n",
    "accuracy = 100 - np.mean(mape)\n",
    "print('Accuracy:', round(accuracy, 2), '%.')"
   ]
  },
  {
   "cell_type": "markdown",
   "metadata": {},
   "source": [
    "This looks pretty good. The model has learn to predict the price of a single house in Melbourne with 98% accuracy.\n"
   ]
  },
  {
   "cell_type": "markdown",
   "metadata": {},
   "source": [
    "**Conclusion**"
   ]
  },
  {
   "cell_type": "markdown",
   "metadata": {},
   "source": [
    "Using Random Forest, the accurance of the model is 98.41%. This is not bad and significies that the model can predict price of houses in Melbourne with 98% accuracy. Note also that the RSME for both the train (163,224) and test (297,845) decreased from the linear regression value.\n",
    "\n",
    "Another important point is that the R-square for the train set increased to 87%, while the R-Square for the test set was 57%.\n"
   ]
  },
  {
   "cell_type": "markdown",
   "metadata": {},
   "source": [
    "**LOG TRANSFORM BY REVERSING THE DEPENDENT VARIABLE**\n",
    "\n",
    "We need to use np.exp() on our predicted sale prices to reverse the log transformation before submitting anything! Otherwise we will have distorted and low values.\n",
    "\n",
    "Let's create a new dataframe\n"
   ]
  },
  {
   "cell_type": "markdown",
   "metadata": {},
   "source": [
    "**New Dataframe**"
   ]
  },
  {
   "cell_type": "code",
   "execution_count": 90,
   "metadata": {},
   "outputs": [],
   "source": [
    "testset = pd.read_csv('real_estate_aus.csv')"
   ]
  },
  {
   "cell_type": "code",
   "execution_count": 91,
   "metadata": {},
   "outputs": [],
   "source": [
    "# Run the model's prediction method on the test dataset\n",
    "predictions = regressor.predict(X_test)\n",
    "predictions[predictions<0] = 0"
   ]
  },
  {
   "cell_type": "code",
   "execution_count": 92,
   "metadata": {},
   "outputs": [],
   "source": [
    "#Reverse log transformation of sale prices\n",
    "predictions = np.expm1(predictions)"
   ]
  },
  {
   "cell_type": "markdown",
   "metadata": {},
   "source": [
    "**Examine the inverse transformed data to see if there are any infinite or negative data**"
   ]
  },
  {
   "cell_type": "code",
   "execution_count": 93,
   "metadata": {},
   "outputs": [
    {
     "data": {
      "text/plain": [
       "275050.1369929076"
      ]
     },
     "execution_count": 93,
     "metadata": {},
     "output_type": "execute_result"
    }
   ],
   "source": [
    "predictions.min()"
   ]
  },
  {
   "cell_type": "code",
   "execution_count": 94,
   "metadata": {},
   "outputs": [
    {
     "data": {
      "text/plain": [
       "3234506.0688829357"
      ]
     },
     "execution_count": 94,
     "metadata": {},
     "output_type": "execute_result"
    }
   ],
   "source": [
    "predictions.max()"
   ]
  },
  {
   "cell_type": "code",
   "execution_count": 95,
   "metadata": {},
   "outputs": [
    {
     "data": {
      "text/plain": [
       "0"
      ]
     },
     "execution_count": 95,
     "metadata": {},
     "output_type": "execute_result"
    }
   ],
   "source": [
    "list(predictions).count('inf')"
   ]
  },
  {
   "cell_type": "code",
   "execution_count": 96,
   "metadata": {},
   "outputs": [
    {
     "data": {
      "text/plain": [
       "0"
      ]
     },
     "execution_count": 96,
     "metadata": {},
     "output_type": "execute_result"
    }
   ],
   "source": [
    "list(predictions).count(-1)"
   ]
  },
  {
   "cell_type": "code",
   "execution_count": 97,
   "metadata": {},
   "outputs": [
    {
     "data": {
      "text/plain": [
       "6957"
      ]
     },
     "execution_count": 97,
     "metadata": {},
     "output_type": "execute_result"
    }
   ],
   "source": [
    "len(predictions)"
   ]
  },
  {
   "cell_type": "markdown",
   "metadata": {},
   "source": [
    "**SKlearn**"
   ]
  },
  {
   "cell_type": "code",
   "execution_count": 98,
   "metadata": {},
   "outputs": [],
   "source": [
    "# Train, test, split\n",
    "from sklearn.model_selection import train_test_split\n",
    "X_train, X_test, y_train, y_test = train_test_split(X,y, test_size = .20, random_state= 0)"
   ]
  },
  {
   "cell_type": "code",
   "execution_count": 99,
   "metadata": {},
   "outputs": [
    {
     "name": "stdout",
     "output_type": "stream",
     "text": [
      "Training Features Shape: (27824, 11)\n",
      "Training Outcome Shape: (6957, 11)\n",
      "Testing Features Shape: (27824,)\n",
      "Testing Outcome Shape: (6957,)\n"
     ]
    }
   ],
   "source": [
    "print('Training Features Shape:',X_train.shape )\n",
    "print('Training Outcome Shape:',X_test.shape)\n",
    "print('Testing Features Shape:',y_train.shape)\n",
    "print('Testing Outcome Shape:',y_test.shape)"
   ]
  },
  {
   "cell_type": "code",
   "execution_count": 100,
   "metadata": {},
   "outputs": [
    {
     "data": {
      "text/plain": [
       "LinearRegression()"
      ]
     },
     "execution_count": 100,
     "metadata": {},
     "output_type": "execute_result"
    }
   ],
   "source": [
    "# Import model\n",
    "from sklearn.linear_model import LinearRegression\n",
    "\n",
    "# Create linear regression object\n",
    "regressor = LinearRegression()\n",
    "\n",
    "# Fit model to training data\n",
    "regressor.fit(X_train,y_train)"
   ]
  },
  {
   "cell_type": "code",
   "execution_count": 101,
   "metadata": {},
   "outputs": [
    {
     "name": "stdout",
     "output_type": "stream",
     "text": [
      "-113.42068813478686\n"
     ]
    }
   ],
   "source": [
    "###print y-intercept\n",
    "print(regressor.intercept_)"
   ]
  },
  {
   "cell_type": "code",
   "execution_count": 102,
   "metadata": {},
   "outputs": [
    {
     "name": "stdout",
     "output_type": "stream",
     "text": [
      "[ 2.27943379e-01 -2.40196424e-02  4.53532670e-02  2.95185890e-02\n",
      "  9.07539035e-06  3.84524310e-05 -1.28249821e-03 -8.98946370e-01\n",
      "  6.55725096e-01 -4.09929285e-06  1.28249821e-03]\n"
     ]
    }
   ],
   "source": [
    "###print beta coefficients\n",
    "print(regressor.coef_)"
   ]
  },
  {
   "cell_type": "code",
   "execution_count": 103,
   "metadata": {},
   "outputs": [
    {
     "data": {
      "text/html": [
       "<div>\n",
       "<style scoped>\n",
       "    .dataframe tbody tr th:only-of-type {\n",
       "        vertical-align: middle;\n",
       "    }\n",
       "\n",
       "    .dataframe tbody tr th {\n",
       "        vertical-align: top;\n",
       "    }\n",
       "\n",
       "    .dataframe thead th {\n",
       "        text-align: right;\n",
       "    }\n",
       "</style>\n",
       "<table border=\"1\" class=\"dataframe\">\n",
       "  <thead>\n",
       "    <tr style=\"text-align: right;\">\n",
       "      <th></th>\n",
       "      <th>Coefficients</th>\n",
       "    </tr>\n",
       "  </thead>\n",
       "  <tbody>\n",
       "    <tr>\n",
       "      <th>Rooms</th>\n",
       "      <td>0.227943</td>\n",
       "    </tr>\n",
       "    <tr>\n",
       "      <th>Distance</th>\n",
       "      <td>-0.024020</td>\n",
       "    </tr>\n",
       "    <tr>\n",
       "      <th>Bathroom</th>\n",
       "      <td>0.045353</td>\n",
       "    </tr>\n",
       "    <tr>\n",
       "      <th>Car</th>\n",
       "      <td>0.029519</td>\n",
       "    </tr>\n",
       "    <tr>\n",
       "      <th>Landsize</th>\n",
       "      <td>0.000009</td>\n",
       "    </tr>\n",
       "    <tr>\n",
       "      <th>BuildingArea</th>\n",
       "      <td>0.000038</td>\n",
       "    </tr>\n",
       "    <tr>\n",
       "      <th>YearBuilt</th>\n",
       "      <td>-0.001282</td>\n",
       "    </tr>\n",
       "    <tr>\n",
       "      <th>Lattitude</th>\n",
       "      <td>-0.898946</td>\n",
       "    </tr>\n",
       "    <tr>\n",
       "      <th>Longtitude</th>\n",
       "      <td>0.655725</td>\n",
       "    </tr>\n",
       "    <tr>\n",
       "      <th>Propertycount</th>\n",
       "      <td>-0.000004</td>\n",
       "    </tr>\n",
       "    <tr>\n",
       "      <th>Age</th>\n",
       "      <td>0.001282</td>\n",
       "    </tr>\n",
       "  </tbody>\n",
       "</table>\n",
       "</div>"
      ],
      "text/plain": [
       "               Coefficients\n",
       "Rooms              0.227943\n",
       "Distance          -0.024020\n",
       "Bathroom           0.045353\n",
       "Car                0.029519\n",
       "Landsize           0.000009\n",
       "BuildingArea       0.000038\n",
       "YearBuilt         -0.001282\n",
       "Lattitude         -0.898946\n",
       "Longtitude         0.655725\n",
       "Propertycount     -0.000004\n",
       "Age                0.001282"
      ]
     },
     "execution_count": 103,
     "metadata": {},
     "output_type": "execute_result"
    }
   ],
   "source": [
    "##Coefficient in table format\n",
    "cdf = pd.DataFrame(data = regressor.coef_, index = X.columns, columns = ['Coefficients'])\n",
    "cdf"
   ]
  },
  {
   "cell_type": "code",
   "execution_count": 104,
   "metadata": {},
   "outputs": [],
   "source": [
    "# Predicting test set results\n",
    "y_pred = regressor.predict(X_test)"
   ]
  },
  {
   "cell_type": "code",
   "execution_count": 105,
   "metadata": {},
   "outputs": [
    {
     "name": "stdout",
     "output_type": "stream",
     "text": [
      "MAE: 0.2740532210562559\n",
      "MSE: 0.12576627959255576\n",
      "RMSE: 0.3546354178484656\n"
     ]
    }
   ],
   "source": [
    "from sklearn import metrics\n",
    "print('MAE:',metrics.mean_absolute_error(y_test,y_pred))\n",
    "print('MSE:',metrics.mean_squared_error(y_test,y_pred))\n",
    "print('RMSE:',np.sqrt(metrics.mean_squared_error(y_test,y_pred)))"
   ]
  },
  {
   "cell_type": "code",
   "execution_count": 106,
   "metadata": {},
   "outputs": [
    {
     "name": "stdout",
     "output_type": "stream",
     "text": [
      "R^2 = 0.38563082217029254\n"
     ]
    }
   ],
   "source": [
    "# Calculated R Squared\n",
    "print('R^2 =',metrics.explained_variance_score(y_test,y_pred))"
   ]
  },
  {
   "cell_type": "markdown",
   "metadata": {},
   "source": [
    "**Calculate the RSME and R_Square for the Test and Train Data**"
   ]
  },
  {
   "cell_type": "code",
   "execution_count": 107,
   "metadata": {},
   "outputs": [
    {
     "name": "stdout",
     "output_type": "stream",
     "text": [
      "0.35103288651956105\n",
      "R^2 = 0.41294764870228795\n",
      "0.3546354178484656\n",
      "R^2 = 0.38563082217029254\n"
     ]
    }
   ],
   "source": [
    "pred_train_regressor= regressor.predict(X_train)\n",
    "print(np.sqrt(metrics.mean_squared_error(y_train,pred_train_regressor)))\n",
    "print('R^2 =',metrics.explained_variance_score(y_train,pred_train_regressor))\n",
    "\n",
    "pred_test_regressor= regressor.predict(X_test)\n",
    "print(np.sqrt(metrics.mean_squared_error(y_test,pred_test_regressor))) \n",
    "print('R^2 =',metrics.explained_variance_score(y_test,pred_test_regressor))  "
   ]
  },
  {
   "cell_type": "markdown",
   "metadata": {},
   "source": [
    "**Conclusion**\n",
    "\n",
    "With the log transform of the dependent variable, the RMSE decreased significantly.\n",
    "However, the R-Square remains more or less the same."
   ]
  },
  {
   "cell_type": "markdown",
   "metadata": {},
   "source": [
    "**RANDOM FOREST**\n",
    "\n",
    "**Now let run the model using random forest**"
   ]
  },
  {
   "cell_type": "code",
   "execution_count": 108,
   "metadata": {},
   "outputs": [],
   "source": [
    "import numpy as np\n",
    "import pandas as pd\n",
    "from sklearn.model_selection import train_test_split\n",
    "from sklearn.ensemble import RandomForestRegressor\n",
    "from sklearn.model_selection import cross_val_score, GridSearchCV\n",
    "from sklearn.preprocessing import MinMaxScaler\n",
    "from sklearn.metrics import r2_score,mean_squared_error\n",
    "import seaborn as sns"
   ]
  },
  {
   "cell_type": "code",
   "execution_count": 109,
   "metadata": {},
   "outputs": [],
   "source": [
    "# Feature scaline\n",
    "from sklearn.preprocessing import StandardScaler\n",
    "\n",
    "sc = StandardScaler()\n",
    "X_train = sc.fit_transform(X_train)\n",
    "X_test = sc.transform(X_test)"
   ]
  },
  {
   "cell_type": "code",
   "execution_count": 110,
   "metadata": {},
   "outputs": [
    {
     "data": {
      "text/plain": [
       "RandomForestRegressor(n_estimators=20, random_state=0)"
      ]
     },
     "execution_count": 110,
     "metadata": {},
     "output_type": "execute_result"
    }
   ],
   "source": [
    "# Instantiate model with 20 decision trees\n",
    "regressor = RandomForestRegressor(n_estimators = 20, random_state = 0) \n",
    "# Train the model on training data\n",
    "regressor.fit(X_train,y_train)"
   ]
  },
  {
   "cell_type": "code",
   "execution_count": 111,
   "metadata": {},
   "outputs": [
    {
     "data": {
      "text/plain": [
       "array([14.06278597, 13.57213732, 13.3103683 , ..., 13.70891221,\n",
       "       14.15805256, 14.00753808])"
      ]
     },
     "execution_count": 111,
     "metadata": {},
     "output_type": "execute_result"
    }
   ],
   "source": [
    "# Use the forest's predict method on the test data\n",
    "y_pred = regressor.predict(X_test)\n",
    "y_pred"
   ]
  },
  {
   "cell_type": "code",
   "execution_count": 112,
   "metadata": {},
   "outputs": [
    {
     "name": "stdout",
     "output_type": "stream",
     "text": [
      "Mean Absolute Error: 0.22 price.\n"
     ]
    }
   ],
   "source": [
    "errors =abs(y_pred-y_test)\n",
    "# Print out the mean absolute error (mae)\n",
    "print('Mean Absolute Error:', round(np.mean(errors), 2), 'price.')"
   ]
  },
  {
   "cell_type": "code",
   "execution_count": 113,
   "metadata": {},
   "outputs": [
    {
     "name": "stdout",
     "output_type": "stream",
     "text": [
      "Mean Absolute Error: 0.21942526378068855\n",
      "Mean Squared Error: 0.08871208269930946\n",
      "Root Mean Squared Error: 0.2978457364128442\n"
     ]
    }
   ],
   "source": [
    "from sklearn import metrics\n",
    "\n",
    "print('Mean Absolute Error:', metrics.mean_absolute_error(y_test, y_pred))\n",
    "print('Mean Squared Error:', metrics.mean_squared_error(y_test, y_pred))\n",
    "print('Root Mean Squared Error:', np.sqrt(metrics.mean_squared_error(y_test, y_pred)))\n",
    "\n",
    "def metrics_(y_test,y_pred, X_train, y_train):\n",
    "    \n",
    "    ## MAE, RMSE & MSE\n",
    "    MAE_test   = metrics.mean_absolute_error(y_test, y_pred)\n",
    "    MSE_test   = metrics.mean_squared_error(y_test, y_pred)\n",
    "    \n",
    "    ## Rsq\n",
    "    R2_test    = metrics.explained_variance_score(y_test,pred_test_regressor)\n",
    "    \n",
    "    all_       = [MAE_test, MSE_test, R2_test]\n",
    "    \n",
    "    return all_"
   ]
  },
  {
   "cell_type": "markdown",
   "metadata": {},
   "source": [
    "**RSME and R_Square for both train and test sets**"
   ]
  },
  {
   "cell_type": "code",
   "execution_count": 114,
   "metadata": {},
   "outputs": [
    {
     "name": "stdout",
     "output_type": "stream",
     "text": [
      "0.1632247368139623\n",
      "R^2 = 0.8730745878897953\n",
      "0.2978457364128442\n",
      "R^2 = 0.5668006280848192\n"
     ]
    }
   ],
   "source": [
    "pred_train_regressor= regressor.predict(X_train)\n",
    "print(np.sqrt(metrics.mean_squared_error(y_train,pred_train_regressor)))\n",
    "print('R^2 =',metrics.explained_variance_score(y_train,pred_train_regressor))\n",
    "\n",
    "pred_test_regressor= regressor.predict(X_test)\n",
    "print(np.sqrt(metrics.mean_squared_error(y_test,pred_test_regressor))) \n",
    "print('R^2 =',metrics.explained_variance_score(y_test,pred_test_regressor)) "
   ]
  },
  {
   "cell_type": "code",
   "execution_count": 115,
   "metadata": {},
   "outputs": [
    {
     "name": "stdout",
     "output_type": "stream",
     "text": [
      "Accuracy: 98.41 %.\n"
     ]
    }
   ],
   "source": [
    "# Calculate mean absolute percentage error (MAPE)\n",
    "mape = 100 * (errors /y_test)# Calculate and display accuracy\n",
    "accuracy = 100 - np.mean(mape)\n",
    "print('Accuracy:', round(accuracy, 2), '%.')"
   ]
  },
  {
   "cell_type": "markdown",
   "metadata": {},
   "source": [
    "**Conclusion**"
   ]
  },
  {
   "cell_type": "markdown",
   "metadata": {},
   "source": [
    "With Sklearn, the R-square for the inversion did not change much (38% and 41% respectively for both train and test data.\n",
    "The RMSE was the same for both the log transformation adn the inversion (354,635).\n",
    "\n",
    "With the inversion of the log transformation, the accuracy using the random forest mdoel decrease slightly to 98.28, while the RMSE increased slightly from 297, 846 to 298,085.\n",
    "\n"
   ]
  },
  {
   "cell_type": "markdown",
   "metadata": {},
   "source": [
    "**K Fold Cross Vaildation**\n",
    "\n"
   ]
  },
  {
   "cell_type": "code",
   "execution_count": 116,
   "metadata": {},
   "outputs": [],
   "source": [
    "import pandas\n",
    "from sklearn.model_selection import KFold\n",
    "from sklearn.preprocessing import MinMaxScaler\n",
    "from sklearn.svm import SVR\n",
    "import numpy as np"
   ]
  },
  {
   "cell_type": "code",
   "execution_count": 117,
   "metadata": {},
   "outputs": [],
   "source": [
    "from sklearn.metrics import precision_score, \\\n",
    "    recall_score, confusion_matrix, classification_report, \\\n",
    "    accuracy_score, f1_score\n",
    "from sklearn.metrics import roc_curve, auc, roc_auc_score\n",
    "\n",
    "from sklearn.model_selection import GridSearchCV, cross_val_score\n",
    "from sklearn.decomposition import PCA"
   ]
  },
  {
   "cell_type": "code",
   "execution_count": 118,
   "metadata": {},
   "outputs": [],
   "source": [
    "def model_fit_reports(algo,X_,y_,performCV=True, cv_folds=5):\n",
    "   \n",
    "    \n",
    "    ## MAE, RMSE & MSE\n",
    "    MAE_test   = metrics.mean_absolute_error(y_test, y_pred)\n",
    "    MSE_test   = metrics.mean_squared_error(y_test, y_pred)\n",
    "    \n",
    "    \n",
    "    #Accuracy, Precision, Recall, F1 Score\n",
    "    #pred = algo.predict(X_)\n",
    "    #accu = accuracy_score(y_, pred)\n",
    "    #f1_  = f1_score(y_, pred)\n",
    "    #rec  = recall_score(y_, pred)\n",
    "    #prec = precision_score(y_, pred)\n",
    "\n",
    "   \n",
    "    #GINI & AUC\n",
    "    #fpr, tpr, thresholds = roc_curve(y_, pred)\n",
    "    #roc_auc = auc(fpr, tpr)\n",
    "    #Gini   = 2*roc_auc - 1  \n",
    "    #labels  = ['Accuracy','F1 Score', 'Recall', 'Precision', 'Gini', 'AUC']\n",
    "    #values  = [accu,f1_,rec,prec,Gini,roc_auc]\n",
    "   \n",
    "    #all_    = pd.Series(values,labels)  \n",
    "    #print(all_)\n",
    "    #all_.plot(kind='bar', title='Model Fit Report')  \n",
    "\n",
    "\n",
    "    if performCV:\n",
    "        MAE_ = cross_val_score(algo, X_, y_, cv=cv_folds, scoring='mean_absolute_error')\n",
    "        MSE_ = cross_val_score(algo, X_, y_, cv=cv_folds, scoring='mean_sqaured_error')\n",
    "        \n",
    "        print(\"AUC : Mean - %.7g | Std - %.7g | Min - %.7g | Max - %.7g\" % (np.mean(MAE_),np.std(MAE_),np.min(MAE_),np.max(cv_score)))\n",
    "        print(\"GINI : Mean - %.7g | Std - %.7g | Min - %.7g | Max - %.7g\" % (np.mean(GINI),np.std(GINI),np.min(GINI),np.max(GINI)))\n",
    "\n",
    "    cols = list(X_.columns)\n",
    "    if printFeatureImportance:\n",
    "        feat_imp = pd.Series(algo.feature_importances_, cols).sort_values(ascending=False)\n",
    "        feat_imp.plot(kind='bar', title='Feature Importances')\n",
    "        plt.ylabel('Feature Importance Score')    \n",
    "   \n",
    "    return all_"
   ]
  },
  {
   "cell_type": "markdown",
   "metadata": {},
   "source": [
    "**Results of Train Data**"
   ]
  },
  {
   "cell_type": "code",
   "execution_count": null,
   "metadata": {},
   "outputs": [],
   "source": []
  },
  {
   "cell_type": "code",
   "execution_count": null,
   "metadata": {},
   "outputs": [],
   "source": []
  },
  {
   "cell_type": "code",
   "execution_count": null,
   "metadata": {},
   "outputs": [],
   "source": []
  },
  {
   "cell_type": "markdown",
   "metadata": {},
   "source": [
    "**Results of Test Data**"
   ]
  },
  {
   "cell_type": "code",
   "execution_count": null,
   "metadata": {},
   "outputs": [],
   "source": []
  }
 ],
 "metadata": {
  "kernelspec": {
   "display_name": "Python 3",
   "language": "python",
   "name": "python3"
  },
  "language_info": {
   "codemirror_mode": {
    "name": "ipython",
    "version": 3
   },
   "file_extension": ".py",
   "mimetype": "text/x-python",
   "name": "python",
   "nbconvert_exporter": "python",
   "pygments_lexer": "ipython3",
   "version": "3.8.3"
  }
 },
 "nbformat": 4,
 "nbformat_minor": 2
}
